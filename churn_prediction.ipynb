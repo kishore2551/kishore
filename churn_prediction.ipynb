{
 "cells": [
  {
   "cell_type": "markdown",
   "metadata": {
    "colab_type": "text",
    "id": "nOmbH4QuoS01"
   },
   "source": [
    "# Customer churn estimation\n"
   ]
  },
  {
   "cell_type": "markdown",
   "metadata": {
    "colab_type": "text",
    "id": "olgV_yhWsoku"
   },
   "source": [
    "## Problem Statement:\n",
    "For any customer centric organization, customer churn/retention analysis is going to be\n",
    "extremely valuable. It is a market reality that the banks and other financial institutions are\n",
    "battling to attract each other's customers while retaining their own. Thus, Customer churn\n",
    "reduction is the central concern of most banking organizations as switching costs to the\n",
    "customer are low and acquisition cost to the organization is high. Churn reduces profitability\n",
    "as it means potential loss of future revenue and also losing the invested costs of acquisition.\n",
    "On the other hand, long term customers contribute to profitability through mere continued\n",
    "association as they are less costly to serve and through additional services and referrals. It\n",
    "is important to have data that underlies construction of purchase decision and also the\n",
    "underlying loyalty hooks. So a good deal of marketing budget is allocated to engage\n",
    "customer on an ongoing basis and prevent churn by designing new plans and offering\n",
    "freebees, discounts etc. Thus, it is important to predict the customers who are likely to churn\n",
    "and develop appropriate modalities for retention.\n",
    "An international bank has a business problem with customer retention and observed high\n",
    "churn rates. The bank observed that alarming number of existing customers exit while it is\n",
    "getting increasingly difficult to acquire new customers. So they want to understand the\n",
    "hidden patterns in their customer behaviour by use of customer data which has early warning\n",
    "signs.This helps understand the drivers behind considering an alternative. The variables\n",
    "could be demographic, perception or behavioural."
   ]
  },
  {
   "cell_type": "markdown",
   "metadata": {
    "colab_type": "text",
    "id": "fAhKKZEgsuuy"
   },
   "source": [
    "## column description\n",
    "\n",
    "\n",
    "1. CustomerID: Unique customer ID\n",
    "2. CustomerName: Name of the customer\n",
    "3. yearofBirth: customer year of birth\n",
    "4. monthofBirth: customer's month of birth\n",
    "5. dayofbirth: customers's day of birth\n",
    "6. Yearofentry: year in which customer has entered the company\n",
    "7. monthofentry: month in which customer has entered the company\n",
    "8. dayofentry: day the customer entered the company\n",
    "9. Gender: gender of the customer\n",
    "10. Location: branch location of the company\n",
    "11. Education: level of education of the customer\n",
    "12. MaritalStatus: marital status of customer\n",
    "13. Occupation: occupation of the customer\n",
    "14. Ownhouse: does customer have a own house\n",
    "15. Creditscore: credit score of the customer\n",
    "16. AccountBalance: balance available in customers account\n",
    "17. NumberOfProducts: number of products that customer is associated to\n",
    "18. IsCreditCardCustomer: does customer own a credit card\n",
    "19. ActiveMember: is the customer active\n",
    "20. Salary: salary of the customer\n",
    "21. Churn: weather the customer has churned or no\n"
   ]
  },
  {
   "cell_type": "code",
   "execution_count": 0,
   "metadata": {
    "colab": {},
    "colab_type": "code",
    "id": "dLlTp247889L"
   },
   "outputs": [],
   "source": [
    "#importing required packages \n",
    "import pandas as pd  #for dealing with dataframes\n",
    "import numpy as np   #for better numerical operations\n",
    "from sklearn.model_selection import train_test_split #to split data into train and validation\n",
    "from sklearn.preprocessing import StandardScaler #to standardize the numerical data with mean=0 and std_dev=1\n",
    "import matplotlib.pyplot as plt #to deal with plots\n",
    "import seaborn as sns #to get better and user friendly plots\n",
    "import datetime  #to deal with date and time\n",
    "from datetime import timedelta  #to get change in time between two timestamps\n",
    "from sklearn.metrics import classification_report,accuracy_score   #to get classification report and accuracy of models"
   ]
  },
  {
   "cell_type": "code",
   "execution_count": 0,
   "metadata": {
    "colab": {},
    "colab_type": "code",
    "id": "XS6RtkCf9asm"
   },
   "outputs": [],
   "source": [
    "train=pd.read_excel('Train.xlsx')\n",
    "test=pd.read_excel('Test.xlsx')"
   ]
  },
  {
   "cell_type": "code",
   "execution_count": 0,
   "metadata": {
    "colab": {},
    "colab_type": "code",
    "id": "T581VWtyfQjr"
   },
   "outputs": [],
   "source": [
    "test_id=test['CustomerID']"
   ]
  },
  {
   "cell_type": "code",
   "execution_count": 0,
   "metadata": {
    "colab": {},
    "colab_type": "code",
    "id": "jwVLkkXMX7-h"
   },
   "outputs": [],
   "source": [
    "train,val=train_test_split(train,test_size=0.15,random_state=1)"
   ]
  },
  {
   "cell_type": "code",
   "execution_count": 0,
   "metadata": {
    "colab": {},
    "colab_type": "code",
    "id": "xu7n-zFLcWLv"
   },
   "outputs": [],
   "source": [
    "#function to compare different levels in dataframes of train,validation and test\n",
    "#and returns which dataframe has excess or less levels compared to train.\n",
    "\n",
    "def compare_train_val_test(train_df,val_df,test_df):\n",
    "    train_levels=train_df.apply(lambda x: set(x.unique()),axis=0)   #finding differnt levels of each columns in train\n",
    "    val_levels=val_df.apply(lambda x: set(x.unique()),axis=0)       #similarly for val\n",
    "    test_levels=test_df.apply(lambda x:set(x.unique()),axis=0)      #and test \n",
    "    val_extra=[]   #creating new empty list to store extra levels in validation\n",
    "    val_missing=[] #new list to store missing levels in validation\n",
    "    test_extra=[]\n",
    "    test_missing=[]\n",
    "    for x1,x2,x3 in zip(train_levels,val_levels,test_levels):\n",
    "        val_missing.append(x1-x2)\n",
    "        val_extra.append(x2-x1)\n",
    "        test_missing.append(x1-x3)\n",
    "        test_extra.append(x3-x1)\n",
    "    return pd.DataFrame({'train data types':train_df.dtypes,\n",
    "                         'val data types':val_df.dtypes,\n",
    "                         'test data types':test_df.dtypes,\n",
    "                        'train_missing':train_df.isnull().sum(),\n",
    "                         'val_missing':val_df.isnull().sum(),\n",
    "                         'test_missing':test_df.isnull().sum(),\n",
    "                        '#training levels':train_df.apply(lambda x: x.unique().shape[0],axis=0),\n",
    "                        '#validation levels':val_df.apply(lambda x: x.unique().shape[0],axis=0),\n",
    "                        '#testing levels':test_df.apply(lambda x: x.unique().shape[0],axis=0),\n",
    "                        'val_missing_levels':val_missing,\n",
    "                         'val_extra_levels':val_extra,\n",
    "                         'test_missing_levels':test_missing,\n",
    "                        'test_extra_levels':test_extra})"
   ]
  },
  {
   "cell_type": "code",
   "execution_count": 6,
   "metadata": {
    "colab": {
     "base_uri": "https://localhost:8080/",
     "height": 978
    },
    "colab_type": "code",
    "id": "wqZ4wCh7cbZa",
    "outputId": "59b42ffb-a97a-46ef-edb4-309d3acf202f"
   },
   "outputs": [
    {
     "data": {
      "text/html": [
       "<div>\n",
       "<style scoped>\n",
       "    .dataframe tbody tr th:only-of-type {\n",
       "        vertical-align: middle;\n",
       "    }\n",
       "\n",
       "    .dataframe tbody tr th {\n",
       "        vertical-align: top;\n",
       "    }\n",
       "\n",
       "    .dataframe thead th {\n",
       "        text-align: right;\n",
       "    }\n",
       "</style>\n",
       "<table border=\"1\" class=\"dataframe\">\n",
       "  <thead>\n",
       "    <tr style=\"text-align: right;\">\n",
       "      <th></th>\n",
       "      <th>train data types</th>\n",
       "      <th>val data types</th>\n",
       "      <th>test data types</th>\n",
       "      <th>train_missing</th>\n",
       "      <th>val_missing</th>\n",
       "      <th>test_missing</th>\n",
       "      <th>#training levels</th>\n",
       "      <th>#validation levels</th>\n",
       "      <th>#testing levels</th>\n",
       "      <th>val_missing_levels</th>\n",
       "      <th>val_extra_levels</th>\n",
       "      <th>test_missing_levels</th>\n",
       "      <th>test_extra_levels</th>\n",
       "    </tr>\n",
       "  </thead>\n",
       "  <tbody>\n",
       "    <tr>\n",
       "      <th>CustomerID</th>\n",
       "      <td>object</td>\n",
       "      <td>object</td>\n",
       "      <td>object</td>\n",
       "      <td>0</td>\n",
       "      <td>0</td>\n",
       "      <td>0</td>\n",
       "      <td>6256</td>\n",
       "      <td>1104</td>\n",
       "      <td>1840</td>\n",
       "      <td>{C4662608, C7394045, C8660888, C6274644, C5094...</td>\n",
       "      <td>{C7798394, C3410603, C8130664, C4813357, C3188...</td>\n",
       "      <td>{C4662608, C8660888, C8108173, C7920018, C5492...</td>\n",
       "      <td>{C8364394, C7169977, C3314141, C6236534, C8670...</td>\n",
       "    </tr>\n",
       "    <tr>\n",
       "      <th>CustomerName</th>\n",
       "      <td>object</td>\n",
       "      <td>object</td>\n",
       "      <td>object</td>\n",
       "      <td>0</td>\n",
       "      <td>0</td>\n",
       "      <td>0</td>\n",
       "      <td>6256</td>\n",
       "      <td>1104</td>\n",
       "      <td>1840</td>\n",
       "      <td>{Name_6163372, Name_6251511, Name_2184779, Nam...</td>\n",
       "      <td>{Name_5387149, Name_4657294, Name_5981110, Nam...</td>\n",
       "      <td>{Name_6163372, Name_6251511, Name_4178342, Nam...</td>\n",
       "      <td>{Name_8335581, Name_7854878, Name_2134034, Nam...</td>\n",
       "    </tr>\n",
       "    <tr>\n",
       "      <th>yearofBirth</th>\n",
       "      <td>int64</td>\n",
       "      <td>int64</td>\n",
       "      <td>int64</td>\n",
       "      <td>0</td>\n",
       "      <td>0</td>\n",
       "      <td>0</td>\n",
       "      <td>69</td>\n",
       "      <td>60</td>\n",
       "      <td>62</td>\n",
       "      <td>{1926, 1930, 1933, 1935, 1936, 1937, 1999, 193...</td>\n",
       "      <td>{1934}</td>\n",
       "      <td>{1926, 1930, 1933, 1935, 1936, 1938, 1945}</td>\n",
       "      <td>{}</td>\n",
       "    </tr>\n",
       "    <tr>\n",
       "      <th>monthofBirth</th>\n",
       "      <td>int64</td>\n",
       "      <td>int64</td>\n",
       "      <td>int64</td>\n",
       "      <td>0</td>\n",
       "      <td>0</td>\n",
       "      <td>0</td>\n",
       "      <td>12</td>\n",
       "      <td>12</td>\n",
       "      <td>12</td>\n",
       "      <td>{}</td>\n",
       "      <td>{}</td>\n",
       "      <td>{}</td>\n",
       "      <td>{}</td>\n",
       "    </tr>\n",
       "    <tr>\n",
       "      <th>dayofBirth</th>\n",
       "      <td>int64</td>\n",
       "      <td>int64</td>\n",
       "      <td>int64</td>\n",
       "      <td>0</td>\n",
       "      <td>0</td>\n",
       "      <td>0</td>\n",
       "      <td>28</td>\n",
       "      <td>28</td>\n",
       "      <td>28</td>\n",
       "      <td>{}</td>\n",
       "      <td>{}</td>\n",
       "      <td>{}</td>\n",
       "      <td>{}</td>\n",
       "    </tr>\n",
       "    <tr>\n",
       "      <th>yearofEntry</th>\n",
       "      <td>int64</td>\n",
       "      <td>int64</td>\n",
       "      <td>int64</td>\n",
       "      <td>0</td>\n",
       "      <td>0</td>\n",
       "      <td>0</td>\n",
       "      <td>11</td>\n",
       "      <td>11</td>\n",
       "      <td>11</td>\n",
       "      <td>{}</td>\n",
       "      <td>{}</td>\n",
       "      <td>{}</td>\n",
       "      <td>{}</td>\n",
       "    </tr>\n",
       "    <tr>\n",
       "      <th>monthofEntry</th>\n",
       "      <td>int64</td>\n",
       "      <td>int64</td>\n",
       "      <td>int64</td>\n",
       "      <td>0</td>\n",
       "      <td>0</td>\n",
       "      <td>0</td>\n",
       "      <td>12</td>\n",
       "      <td>12</td>\n",
       "      <td>12</td>\n",
       "      <td>{}</td>\n",
       "      <td>{}</td>\n",
       "      <td>{}</td>\n",
       "      <td>{}</td>\n",
       "    </tr>\n",
       "    <tr>\n",
       "      <th>dayofEntry</th>\n",
       "      <td>int64</td>\n",
       "      <td>int64</td>\n",
       "      <td>int64</td>\n",
       "      <td>0</td>\n",
       "      <td>0</td>\n",
       "      <td>0</td>\n",
       "      <td>28</td>\n",
       "      <td>28</td>\n",
       "      <td>28</td>\n",
       "      <td>{}</td>\n",
       "      <td>{}</td>\n",
       "      <td>{}</td>\n",
       "      <td>{}</td>\n",
       "    </tr>\n",
       "    <tr>\n",
       "      <th>Gender</th>\n",
       "      <td>object</td>\n",
       "      <td>object</td>\n",
       "      <td>object</td>\n",
       "      <td>0</td>\n",
       "      <td>0</td>\n",
       "      <td>0</td>\n",
       "      <td>2</td>\n",
       "      <td>2</td>\n",
       "      <td>2</td>\n",
       "      <td>{}</td>\n",
       "      <td>{}</td>\n",
       "      <td>{}</td>\n",
       "      <td>{}</td>\n",
       "    </tr>\n",
       "    <tr>\n",
       "      <th>Location</th>\n",
       "      <td>object</td>\n",
       "      <td>object</td>\n",
       "      <td>object</td>\n",
       "      <td>0</td>\n",
       "      <td>0</td>\n",
       "      <td>0</td>\n",
       "      <td>3</td>\n",
       "      <td>3</td>\n",
       "      <td>3</td>\n",
       "      <td>{}</td>\n",
       "      <td>{}</td>\n",
       "      <td>{}</td>\n",
       "      <td>{}</td>\n",
       "    </tr>\n",
       "    <tr>\n",
       "      <th>Education</th>\n",
       "      <td>object</td>\n",
       "      <td>object</td>\n",
       "      <td>object</td>\n",
       "      <td>0</td>\n",
       "      <td>0</td>\n",
       "      <td>0</td>\n",
       "      <td>4</td>\n",
       "      <td>4</td>\n",
       "      <td>4</td>\n",
       "      <td>{}</td>\n",
       "      <td>{}</td>\n",
       "      <td>{}</td>\n",
       "      <td>{}</td>\n",
       "    </tr>\n",
       "    <tr>\n",
       "      <th>MaritalStatus</th>\n",
       "      <td>object</td>\n",
       "      <td>object</td>\n",
       "      <td>object</td>\n",
       "      <td>0</td>\n",
       "      <td>0</td>\n",
       "      <td>0</td>\n",
       "      <td>3</td>\n",
       "      <td>3</td>\n",
       "      <td>3</td>\n",
       "      <td>{}</td>\n",
       "      <td>{}</td>\n",
       "      <td>{}</td>\n",
       "      <td>{}</td>\n",
       "    </tr>\n",
       "    <tr>\n",
       "      <th>Occupation</th>\n",
       "      <td>object</td>\n",
       "      <td>object</td>\n",
       "      <td>object</td>\n",
       "      <td>0</td>\n",
       "      <td>0</td>\n",
       "      <td>0</td>\n",
       "      <td>7</td>\n",
       "      <td>7</td>\n",
       "      <td>7</td>\n",
       "      <td>{}</td>\n",
       "      <td>{}</td>\n",
       "      <td>{}</td>\n",
       "      <td>{}</td>\n",
       "    </tr>\n",
       "    <tr>\n",
       "      <th>Ownhouse</th>\n",
       "      <td>object</td>\n",
       "      <td>object</td>\n",
       "      <td>object</td>\n",
       "      <td>0</td>\n",
       "      <td>0</td>\n",
       "      <td>0</td>\n",
       "      <td>3</td>\n",
       "      <td>3</td>\n",
       "      <td>3</td>\n",
       "      <td>{}</td>\n",
       "      <td>{}</td>\n",
       "      <td>{}</td>\n",
       "      <td>{}</td>\n",
       "    </tr>\n",
       "    <tr>\n",
       "      <th>CreditScore</th>\n",
       "      <td>int64</td>\n",
       "      <td>int64</td>\n",
       "      <td>int64</td>\n",
       "      <td>0</td>\n",
       "      <td>0</td>\n",
       "      <td>0</td>\n",
       "      <td>446</td>\n",
       "      <td>367</td>\n",
       "      <td>403</td>\n",
       "      <td>{514, 517, 775, 638, 784, 530, 404, 405, 534, ...</td>\n",
       "      <td>{440, 421, 358}</td>\n",
       "      <td>{518, 531, 404, 405, 407, 408, 410, 411, 796, ...</td>\n",
       "      <td>{386, 419, 421, 423, 363, 395, 399, 401, 373, ...</td>\n",
       "    </tr>\n",
       "    <tr>\n",
       "      <th>AccountBalance</th>\n",
       "      <td>float64</td>\n",
       "      <td>float64</td>\n",
       "      <td>float64</td>\n",
       "      <td>0</td>\n",
       "      <td>0</td>\n",
       "      <td>0</td>\n",
       "      <td>3989</td>\n",
       "      <td>718</td>\n",
       "      <td>1153</td>\n",
       "      <td>{180226.24, 98308.51, 131078.42, 155655.46, 10...</td>\n",
       "      <td>{104450.86, 77826.8, 108546.16, 102406.76, 131...</td>\n",
       "      <td>{180226.24, 98308.51, 131078.42, 155655.46, 10...</td>\n",
       "      <td>{126979.75, 153611.83, 141325.56, 167949.48, 1...</td>\n",
       "    </tr>\n",
       "    <tr>\n",
       "      <th>NumberOfProducts</th>\n",
       "      <td>int64</td>\n",
       "      <td>int64</td>\n",
       "      <td>int64</td>\n",
       "      <td>0</td>\n",
       "      <td>0</td>\n",
       "      <td>0</td>\n",
       "      <td>4</td>\n",
       "      <td>4</td>\n",
       "      <td>4</td>\n",
       "      <td>{}</td>\n",
       "      <td>{}</td>\n",
       "      <td>{}</td>\n",
       "      <td>{}</td>\n",
       "    </tr>\n",
       "    <tr>\n",
       "      <th>IsCreditCardCustomer</th>\n",
       "      <td>int64</td>\n",
       "      <td>int64</td>\n",
       "      <td>int64</td>\n",
       "      <td>0</td>\n",
       "      <td>0</td>\n",
       "      <td>0</td>\n",
       "      <td>2</td>\n",
       "      <td>2</td>\n",
       "      <td>2</td>\n",
       "      <td>{}</td>\n",
       "      <td>{}</td>\n",
       "      <td>{}</td>\n",
       "      <td>{}</td>\n",
       "    </tr>\n",
       "    <tr>\n",
       "      <th>ActiveMember</th>\n",
       "      <td>int64</td>\n",
       "      <td>int64</td>\n",
       "      <td>int64</td>\n",
       "      <td>0</td>\n",
       "      <td>0</td>\n",
       "      <td>0</td>\n",
       "      <td>2</td>\n",
       "      <td>2</td>\n",
       "      <td>2</td>\n",
       "      <td>{}</td>\n",
       "      <td>{}</td>\n",
       "      <td>{}</td>\n",
       "      <td>{}</td>\n",
       "    </tr>\n",
       "    <tr>\n",
       "      <th>Salary</th>\n",
       "      <td>float64</td>\n",
       "      <td>float64</td>\n",
       "      <td>float64</td>\n",
       "      <td>0</td>\n",
       "      <td>0</td>\n",
       "      <td>0</td>\n",
       "      <td>6255</td>\n",
       "      <td>1104</td>\n",
       "      <td>1840</td>\n",
       "      <td>{32770.56, 98309.27, 16392.72, 49161.12, 98320...</td>\n",
       "      <td>{24577.34, 102402.91, 86022.09, 43018.98, 2049...</td>\n",
       "      <td>{32770.56, 98309.27, 98320.27, 32790.02, 13109...</td>\n",
       "      <td>{139266.48, 131083.56, 196622.28, 8207.36, 122...</td>\n",
       "    </tr>\n",
       "  </tbody>\n",
       "</table>\n",
       "</div>"
      ],
      "text/plain": [
       "                     train data types  ...                                  test_extra_levels\n",
       "CustomerID                     object  ...  {C8364394, C7169977, C3314141, C6236534, C8670...\n",
       "CustomerName                   object  ...  {Name_8335581, Name_7854878, Name_2134034, Nam...\n",
       "yearofBirth                     int64  ...                                                 {}\n",
       "monthofBirth                    int64  ...                                                 {}\n",
       "dayofBirth                      int64  ...                                                 {}\n",
       "yearofEntry                     int64  ...                                                 {}\n",
       "monthofEntry                    int64  ...                                                 {}\n",
       "dayofEntry                      int64  ...                                                 {}\n",
       "Gender                         object  ...                                                 {}\n",
       "Location                       object  ...                                                 {}\n",
       "Education                      object  ...                                                 {}\n",
       "MaritalStatus                  object  ...                                                 {}\n",
       "Occupation                     object  ...                                                 {}\n",
       "Ownhouse                       object  ...                                                 {}\n",
       "CreditScore                     int64  ...  {386, 419, 421, 423, 363, 395, 399, 401, 373, ...\n",
       "AccountBalance                float64  ...  {126979.75, 153611.83, 141325.56, 167949.48, 1...\n",
       "NumberOfProducts                int64  ...                                                 {}\n",
       "IsCreditCardCustomer            int64  ...                                                 {}\n",
       "ActiveMember                    int64  ...                                                 {}\n",
       "Salary                        float64  ...  {139266.48, 131083.56, 196622.28, 8207.36, 122...\n",
       "\n",
       "[20 rows x 13 columns]"
      ]
     },
     "execution_count": 6,
     "metadata": {
      "tags": []
     },
     "output_type": "execute_result"
    }
   ],
   "source": [
    "#churn is not taken into account because for this function we need same number of columns\n",
    "#but for test we donot have a target variable so we ignore targets from train and validation also\n",
    "compare_train_val_test(train.loc[:,train.columns!='Churn'],val.loc[:,val.columns!='Churn'],test)"
   ]
  },
  {
   "cell_type": "code",
   "execution_count": 7,
   "metadata": {
    "colab": {
     "base_uri": "https://localhost:8080/",
     "height": 215
    },
    "colab_type": "code",
    "id": "elN09PDL9axw",
    "outputId": "ed74d1c7-885c-4ad6-adc1-fbc9e6f393c0"
   },
   "outputs": [
    {
     "data": {
      "text/html": [
       "<div>\n",
       "<style scoped>\n",
       "    .dataframe tbody tr th:only-of-type {\n",
       "        vertical-align: middle;\n",
       "    }\n",
       "\n",
       "    .dataframe tbody tr th {\n",
       "        vertical-align: top;\n",
       "    }\n",
       "\n",
       "    .dataframe thead th {\n",
       "        text-align: right;\n",
       "    }\n",
       "</style>\n",
       "<table border=\"1\" class=\"dataframe\">\n",
       "  <thead>\n",
       "    <tr style=\"text-align: right;\">\n",
       "      <th></th>\n",
       "      <th>CustomerID</th>\n",
       "      <th>CustomerName</th>\n",
       "      <th>yearofBirth</th>\n",
       "      <th>monthofBirth</th>\n",
       "      <th>dayofBirth</th>\n",
       "      <th>yearofEntry</th>\n",
       "      <th>monthofEntry</th>\n",
       "      <th>dayofEntry</th>\n",
       "      <th>Gender</th>\n",
       "      <th>Location</th>\n",
       "      <th>Education</th>\n",
       "      <th>MaritalStatus</th>\n",
       "      <th>Occupation</th>\n",
       "      <th>Ownhouse</th>\n",
       "      <th>CreditScore</th>\n",
       "      <th>AccountBalance</th>\n",
       "      <th>NumberOfProducts</th>\n",
       "      <th>IsCreditCardCustomer</th>\n",
       "      <th>ActiveMember</th>\n",
       "      <th>Salary</th>\n",
       "      <th>Churn</th>\n",
       "    </tr>\n",
       "  </thead>\n",
       "  <tbody>\n",
       "    <tr>\n",
       "      <th>3986</th>\n",
       "      <td>C6317442</td>\n",
       "      <td>Name_6317442</td>\n",
       "      <td>1981</td>\n",
       "      <td>12</td>\n",
       "      <td>9</td>\n",
       "      <td>2018</td>\n",
       "      <td>3</td>\n",
       "      <td>19</td>\n",
       "      <td>Female</td>\n",
       "      <td>Location12</td>\n",
       "      <td>primary</td>\n",
       "      <td>single</td>\n",
       "      <td>admin.</td>\n",
       "      <td>no</td>\n",
       "      <td>751</td>\n",
       "      <td>151218.98</td>\n",
       "      <td>1</td>\n",
       "      <td>1</td>\n",
       "      <td>1</td>\n",
       "      <td>109309.29</td>\n",
       "      <td>No</td>\n",
       "    </tr>\n",
       "    <tr>\n",
       "      <th>79</th>\n",
       "      <td>C8592095</td>\n",
       "      <td>Name_8592095</td>\n",
       "      <td>1975</td>\n",
       "      <td>11</td>\n",
       "      <td>21</td>\n",
       "      <td>2016</td>\n",
       "      <td>4</td>\n",
       "      <td>20</td>\n",
       "      <td>Male</td>\n",
       "      <td>Location11</td>\n",
       "      <td>primary</td>\n",
       "      <td>married</td>\n",
       "      <td>technician</td>\n",
       "      <td>yes</td>\n",
       "      <td>632</td>\n",
       "      <td>100013.51</td>\n",
       "      <td>1</td>\n",
       "      <td>1</td>\n",
       "      <td>0</td>\n",
       "      <td>24275.32</td>\n",
       "      <td>No</td>\n",
       "    </tr>\n",
       "    <tr>\n",
       "      <th>2512</th>\n",
       "      <td>C4370149</td>\n",
       "      <td>Name_4370149</td>\n",
       "      <td>1974</td>\n",
       "      <td>6</td>\n",
       "      <td>4</td>\n",
       "      <td>2013</td>\n",
       "      <td>8</td>\n",
       "      <td>25</td>\n",
       "      <td>Female</td>\n",
       "      <td>Location12</td>\n",
       "      <td>unknown</td>\n",
       "      <td>divorced</td>\n",
       "      <td>admin.</td>\n",
       "      <td>no</td>\n",
       "      <td>667</td>\n",
       "      <td>140406.68</td>\n",
       "      <td>2</td>\n",
       "      <td>0</td>\n",
       "      <td>1</td>\n",
       "      <td>57164.19</td>\n",
       "      <td>No</td>\n",
       "    </tr>\n",
       "    <tr>\n",
       "      <th>662</th>\n",
       "      <td>C2964384</td>\n",
       "      <td>Name_2964384</td>\n",
       "      <td>1979</td>\n",
       "      <td>6</td>\n",
       "      <td>24</td>\n",
       "      <td>2008</td>\n",
       "      <td>9</td>\n",
       "      <td>14</td>\n",
       "      <td>Female</td>\n",
       "      <td>Location13</td>\n",
       "      <td>unknown</td>\n",
       "      <td>single</td>\n",
       "      <td>admin.</td>\n",
       "      <td>no</td>\n",
       "      <td>850</td>\n",
       "      <td>0.00</td>\n",
       "      <td>2</td>\n",
       "      <td>1</td>\n",
       "      <td>1</td>\n",
       "      <td>143030.09</td>\n",
       "      <td>No</td>\n",
       "    </tr>\n",
       "    <tr>\n",
       "      <th>7259</th>\n",
       "      <td>C8118486</td>\n",
       "      <td>Name_8118486</td>\n",
       "      <td>1987</td>\n",
       "      <td>12</td>\n",
       "      <td>21</td>\n",
       "      <td>2011</td>\n",
       "      <td>4</td>\n",
       "      <td>17</td>\n",
       "      <td>Male</td>\n",
       "      <td>Location13</td>\n",
       "      <td>secondary</td>\n",
       "      <td>divorced</td>\n",
       "      <td>technician</td>\n",
       "      <td>no</td>\n",
       "      <td>685</td>\n",
       "      <td>122449.31</td>\n",
       "      <td>2</td>\n",
       "      <td>1</td>\n",
       "      <td>1</td>\n",
       "      <td>180769.55</td>\n",
       "      <td>No</td>\n",
       "    </tr>\n",
       "  </tbody>\n",
       "</table>\n",
       "</div>"
      ],
      "text/plain": [
       "     CustomerID  CustomerName  yearofBirth  ...  ActiveMember     Salary  Churn\n",
       "3986   C6317442  Name_6317442         1981  ...             1  109309.29     No\n",
       "79     C8592095  Name_8592095         1975  ...             0   24275.32     No\n",
       "2512   C4370149  Name_4370149         1974  ...             1   57164.19     No\n",
       "662    C2964384  Name_2964384         1979  ...             1  143030.09     No\n",
       "7259   C8118486  Name_8118486         1987  ...             1  180769.55     No\n",
       "\n",
       "[5 rows x 21 columns]"
      ]
     },
     "execution_count": 7,
     "metadata": {
      "tags": []
     },
     "output_type": "execute_result"
    }
   ],
   "source": [
    "train.head()"
   ]
  },
  {
   "cell_type": "code",
   "execution_count": 8,
   "metadata": {
    "colab": {
     "base_uri": "https://localhost:8080/",
     "height": 67
    },
    "colab_type": "code",
    "id": "zxx0cJ_v9a3C",
    "outputId": "6b8df7c0-fdcf-4d8f-e772-0ec3ab328c76"
   },
   "outputs": [
    {
     "name": "stdout",
     "output_type": "stream",
     "text": [
      "shape of train: (6256, 21)\n",
      "shape of validation: (1104, 21)\n",
      "shape of test: (1840, 20)\n"
     ]
    }
   ],
   "source": [
    "print('shape of train:',train.shape)\n",
    "print('shape of validation:',val.shape)\n",
    "print('shape of test:',test.shape)"
   ]
  },
  {
   "cell_type": "code",
   "execution_count": 9,
   "metadata": {
    "colab": {
     "base_uri": "https://localhost:8080/",
     "height": 386
    },
    "colab_type": "code",
    "id": "2XsKGgqH9a7W",
    "outputId": "63435292-7e60-4d98-986a-0e7df5a6c73b"
   },
   "outputs": [
    {
     "data": {
      "text/plain": [
       "CustomerID               object\n",
       "CustomerName             object\n",
       "yearofBirth               int64\n",
       "monthofBirth              int64\n",
       "dayofBirth                int64\n",
       "yearofEntry               int64\n",
       "monthofEntry              int64\n",
       "dayofEntry                int64\n",
       "Gender                   object\n",
       "Location                 object\n",
       "Education                object\n",
       "MaritalStatus            object\n",
       "Occupation               object\n",
       "Ownhouse                 object\n",
       "CreditScore               int64\n",
       "AccountBalance          float64\n",
       "NumberOfProducts          int64\n",
       "IsCreditCardCustomer      int64\n",
       "ActiveMember              int64\n",
       "Salary                  float64\n",
       "Churn                    object\n",
       "dtype: object"
      ]
     },
     "execution_count": 9,
     "metadata": {
      "tags": []
     },
     "output_type": "execute_result"
    }
   ],
   "source": [
    "train.dtypes"
   ]
  },
  {
   "cell_type": "code",
   "execution_count": 10,
   "metadata": {
    "colab": {
     "base_uri": "https://localhost:8080/",
     "height": 393
    },
    "colab_type": "code",
    "id": "W7jqrX0D9a9P",
    "outputId": "143cf858-05da-481c-e72d-88675d5d3daf"
   },
   "outputs": [
    {
     "data": {
      "text/html": [
       "<div>\n",
       "<style scoped>\n",
       "    .dataframe tbody tr th:only-of-type {\n",
       "        vertical-align: middle;\n",
       "    }\n",
       "\n",
       "    .dataframe tbody tr th {\n",
       "        vertical-align: top;\n",
       "    }\n",
       "\n",
       "    .dataframe thead th {\n",
       "        text-align: right;\n",
       "    }\n",
       "</style>\n",
       "<table border=\"1\" class=\"dataframe\">\n",
       "  <thead>\n",
       "    <tr style=\"text-align: right;\">\n",
       "      <th></th>\n",
       "      <th>CustomerID</th>\n",
       "      <th>CustomerName</th>\n",
       "      <th>yearofBirth</th>\n",
       "      <th>monthofBirth</th>\n",
       "      <th>dayofBirth</th>\n",
       "      <th>yearofEntry</th>\n",
       "      <th>monthofEntry</th>\n",
       "      <th>dayofEntry</th>\n",
       "      <th>Gender</th>\n",
       "      <th>Location</th>\n",
       "      <th>Education</th>\n",
       "      <th>MaritalStatus</th>\n",
       "      <th>Occupation</th>\n",
       "      <th>Ownhouse</th>\n",
       "      <th>CreditScore</th>\n",
       "      <th>AccountBalance</th>\n",
       "      <th>NumberOfProducts</th>\n",
       "      <th>IsCreditCardCustomer</th>\n",
       "      <th>ActiveMember</th>\n",
       "      <th>Salary</th>\n",
       "      <th>Churn</th>\n",
       "    </tr>\n",
       "  </thead>\n",
       "  <tbody>\n",
       "    <tr>\n",
       "      <th>count</th>\n",
       "      <td>6256</td>\n",
       "      <td>6256</td>\n",
       "      <td>6256.000000</td>\n",
       "      <td>6256.000000</td>\n",
       "      <td>6256.000000</td>\n",
       "      <td>6256.000000</td>\n",
       "      <td>6256.000000</td>\n",
       "      <td>6256.000000</td>\n",
       "      <td>6256</td>\n",
       "      <td>6256</td>\n",
       "      <td>6256</td>\n",
       "      <td>6256</td>\n",
       "      <td>6256</td>\n",
       "      <td>6256</td>\n",
       "      <td>6256.000000</td>\n",
       "      <td>6256.000000</td>\n",
       "      <td>6256.000000</td>\n",
       "      <td>6256.000000</td>\n",
       "      <td>6256.000000</td>\n",
       "      <td>6256.000000</td>\n",
       "      <td>6256</td>\n",
       "    </tr>\n",
       "    <tr>\n",
       "      <th>unique</th>\n",
       "      <td>6256</td>\n",
       "      <td>6256</td>\n",
       "      <td>NaN</td>\n",
       "      <td>NaN</td>\n",
       "      <td>NaN</td>\n",
       "      <td>NaN</td>\n",
       "      <td>NaN</td>\n",
       "      <td>NaN</td>\n",
       "      <td>2</td>\n",
       "      <td>3</td>\n",
       "      <td>4</td>\n",
       "      <td>3</td>\n",
       "      <td>7</td>\n",
       "      <td>3</td>\n",
       "      <td>NaN</td>\n",
       "      <td>NaN</td>\n",
       "      <td>NaN</td>\n",
       "      <td>NaN</td>\n",
       "      <td>NaN</td>\n",
       "      <td>NaN</td>\n",
       "      <td>2</td>\n",
       "    </tr>\n",
       "    <tr>\n",
       "      <th>top</th>\n",
       "      <td>C6843419</td>\n",
       "      <td>Name_5211086</td>\n",
       "      <td>NaN</td>\n",
       "      <td>NaN</td>\n",
       "      <td>NaN</td>\n",
       "      <td>NaN</td>\n",
       "      <td>NaN</td>\n",
       "      <td>NaN</td>\n",
       "      <td>Male</td>\n",
       "      <td>Location11</td>\n",
       "      <td>primary</td>\n",
       "      <td>single</td>\n",
       "      <td>admin.</td>\n",
       "      <td>no</td>\n",
       "      <td>NaN</td>\n",
       "      <td>NaN</td>\n",
       "      <td>NaN</td>\n",
       "      <td>NaN</td>\n",
       "      <td>NaN</td>\n",
       "      <td>NaN</td>\n",
       "      <td>No</td>\n",
       "    </tr>\n",
       "    <tr>\n",
       "      <th>freq</th>\n",
       "      <td>1</td>\n",
       "      <td>1</td>\n",
       "      <td>NaN</td>\n",
       "      <td>NaN</td>\n",
       "      <td>NaN</td>\n",
       "      <td>NaN</td>\n",
       "      <td>NaN</td>\n",
       "      <td>NaN</td>\n",
       "      <td>3414</td>\n",
       "      <td>3123</td>\n",
       "      <td>1586</td>\n",
       "      <td>2185</td>\n",
       "      <td>2702</td>\n",
       "      <td>3134</td>\n",
       "      <td>NaN</td>\n",
       "      <td>NaN</td>\n",
       "      <td>NaN</td>\n",
       "      <td>NaN</td>\n",
       "      <td>NaN</td>\n",
       "      <td>NaN</td>\n",
       "      <td>4979</td>\n",
       "    </tr>\n",
       "    <tr>\n",
       "      <th>mean</th>\n",
       "      <td>NaN</td>\n",
       "      <td>NaN</td>\n",
       "      <td>1979.044277</td>\n",
       "      <td>6.541560</td>\n",
       "      <td>14.607257</td>\n",
       "      <td>2013.004316</td>\n",
       "      <td>6.466912</td>\n",
       "      <td>14.508951</td>\n",
       "      <td>NaN</td>\n",
       "      <td>NaN</td>\n",
       "      <td>NaN</td>\n",
       "      <td>NaN</td>\n",
       "      <td>NaN</td>\n",
       "      <td>NaN</td>\n",
       "      <td>651.556905</td>\n",
       "      <td>76155.918055</td>\n",
       "      <td>1.520780</td>\n",
       "      <td>0.705243</td>\n",
       "      <td>0.506394</td>\n",
       "      <td>99459.800777</td>\n",
       "      <td>NaN</td>\n",
       "    </tr>\n",
       "    <tr>\n",
       "      <th>std</th>\n",
       "      <td>NaN</td>\n",
       "      <td>NaN</td>\n",
       "      <td>10.494037</td>\n",
       "      <td>3.436141</td>\n",
       "      <td>8.048117</td>\n",
       "      <td>2.895375</td>\n",
       "      <td>3.432369</td>\n",
       "      <td>8.067615</td>\n",
       "      <td>NaN</td>\n",
       "      <td>NaN</td>\n",
       "      <td>NaN</td>\n",
       "      <td>NaN</td>\n",
       "      <td>NaN</td>\n",
       "      <td>NaN</td>\n",
       "      <td>96.556730</td>\n",
       "      <td>62321.558343</td>\n",
       "      <td>0.577945</td>\n",
       "      <td>0.455970</td>\n",
       "      <td>0.499999</td>\n",
       "      <td>57332.516626</td>\n",
       "      <td>NaN</td>\n",
       "    </tr>\n",
       "    <tr>\n",
       "      <th>min</th>\n",
       "      <td>NaN</td>\n",
       "      <td>NaN</td>\n",
       "      <td>1926.000000</td>\n",
       "      <td>1.000000</td>\n",
       "      <td>1.000000</td>\n",
       "      <td>2008.000000</td>\n",
       "      <td>1.000000</td>\n",
       "      <td>1.000000</td>\n",
       "      <td>NaN</td>\n",
       "      <td>NaN</td>\n",
       "      <td>NaN</td>\n",
       "      <td>NaN</td>\n",
       "      <td>NaN</td>\n",
       "      <td>NaN</td>\n",
       "      <td>350.000000</td>\n",
       "      <td>0.000000</td>\n",
       "      <td>1.000000</td>\n",
       "      <td>0.000000</td>\n",
       "      <td>0.000000</td>\n",
       "      <td>11.580000</td>\n",
       "      <td>NaN</td>\n",
       "    </tr>\n",
       "    <tr>\n",
       "      <th>25%</th>\n",
       "      <td>NaN</td>\n",
       "      <td>NaN</td>\n",
       "      <td>1974.000000</td>\n",
       "      <td>4.000000</td>\n",
       "      <td>8.000000</td>\n",
       "      <td>2011.000000</td>\n",
       "      <td>4.000000</td>\n",
       "      <td>7.750000</td>\n",
       "      <td>NaN</td>\n",
       "      <td>NaN</td>\n",
       "      <td>NaN</td>\n",
       "      <td>NaN</td>\n",
       "      <td>NaN</td>\n",
       "      <td>NaN</td>\n",
       "      <td>584.000000</td>\n",
       "      <td>0.000000</td>\n",
       "      <td>1.000000</td>\n",
       "      <td>0.000000</td>\n",
       "      <td>0.000000</td>\n",
       "      <td>50403.620000</td>\n",
       "      <td>NaN</td>\n",
       "    </tr>\n",
       "    <tr>\n",
       "      <th>50%</th>\n",
       "      <td>NaN</td>\n",
       "      <td>NaN</td>\n",
       "      <td>1981.000000</td>\n",
       "      <td>7.000000</td>\n",
       "      <td>15.000000</td>\n",
       "      <td>2013.000000</td>\n",
       "      <td>6.000000</td>\n",
       "      <td>15.000000</td>\n",
       "      <td>NaN</td>\n",
       "      <td>NaN</td>\n",
       "      <td>NaN</td>\n",
       "      <td>NaN</td>\n",
       "      <td>NaN</td>\n",
       "      <td>NaN</td>\n",
       "      <td>653.000000</td>\n",
       "      <td>96472.395000</td>\n",
       "      <td>1.000000</td>\n",
       "      <td>1.000000</td>\n",
       "      <td>1.000000</td>\n",
       "      <td>98940.675000</td>\n",
       "      <td>NaN</td>\n",
       "    </tr>\n",
       "    <tr>\n",
       "      <th>75%</th>\n",
       "      <td>NaN</td>\n",
       "      <td>NaN</td>\n",
       "      <td>1986.000000</td>\n",
       "      <td>10.000000</td>\n",
       "      <td>22.000000</td>\n",
       "      <td>2016.000000</td>\n",
       "      <td>9.000000</td>\n",
       "      <td>21.000000</td>\n",
       "      <td>NaN</td>\n",
       "      <td>NaN</td>\n",
       "      <td>NaN</td>\n",
       "      <td>NaN</td>\n",
       "      <td>NaN</td>\n",
       "      <td>NaN</td>\n",
       "      <td>718.000000</td>\n",
       "      <td>127202.515000</td>\n",
       "      <td>2.000000</td>\n",
       "      <td>1.000000</td>\n",
       "      <td>1.000000</td>\n",
       "      <td>148784.170000</td>\n",
       "      <td>NaN</td>\n",
       "    </tr>\n",
       "    <tr>\n",
       "      <th>max</th>\n",
       "      <td>NaN</td>\n",
       "      <td>NaN</td>\n",
       "      <td>2000.000000</td>\n",
       "      <td>12.000000</td>\n",
       "      <td>28.000000</td>\n",
       "      <td>2018.000000</td>\n",
       "      <td>12.000000</td>\n",
       "      <td>28.000000</td>\n",
       "      <td>NaN</td>\n",
       "      <td>NaN</td>\n",
       "      <td>NaN</td>\n",
       "      <td>NaN</td>\n",
       "      <td>NaN</td>\n",
       "      <td>NaN</td>\n",
       "      <td>850.000000</td>\n",
       "      <td>250898.090000</td>\n",
       "      <td>4.000000</td>\n",
       "      <td>1.000000</td>\n",
       "      <td>1.000000</td>\n",
       "      <td>199970.740000</td>\n",
       "      <td>NaN</td>\n",
       "    </tr>\n",
       "  </tbody>\n",
       "</table>\n",
       "</div>"
      ],
      "text/plain": [
       "       CustomerID  CustomerName  yearofBirth  ...  ActiveMember         Salary  Churn\n",
       "count        6256          6256  6256.000000  ...   6256.000000    6256.000000   6256\n",
       "unique       6256          6256          NaN  ...           NaN            NaN      2\n",
       "top      C6843419  Name_5211086          NaN  ...           NaN            NaN     No\n",
       "freq            1             1          NaN  ...           NaN            NaN   4979\n",
       "mean          NaN           NaN  1979.044277  ...      0.506394   99459.800777    NaN\n",
       "std           NaN           NaN    10.494037  ...      0.499999   57332.516626    NaN\n",
       "min           NaN           NaN  1926.000000  ...      0.000000      11.580000    NaN\n",
       "25%           NaN           NaN  1974.000000  ...      0.000000   50403.620000    NaN\n",
       "50%           NaN           NaN  1981.000000  ...      1.000000   98940.675000    NaN\n",
       "75%           NaN           NaN  1986.000000  ...      1.000000  148784.170000    NaN\n",
       "max           NaN           NaN  2000.000000  ...      1.000000  199970.740000    NaN\n",
       "\n",
       "[11 rows x 21 columns]"
      ]
     },
     "execution_count": 10,
     "metadata": {
      "tags": []
     },
     "output_type": "execute_result"
    }
   ],
   "source": [
    "train.describe(include='all')"
   ]
  },
  {
   "cell_type": "code",
   "execution_count": 11,
   "metadata": {
    "colab": {
     "base_uri": "https://localhost:8080/",
     "height": 386
    },
    "colab_type": "code",
    "id": "T7DSyoD59bAu",
    "outputId": "30aa12e0-4c25-4a4c-8599-285a7bc4d562"
   },
   "outputs": [
    {
     "data": {
      "text/plain": [
       "CustomerID              0\n",
       "CustomerName            0\n",
       "yearofBirth             0\n",
       "monthofBirth            0\n",
       "dayofBirth              0\n",
       "yearofEntry             0\n",
       "monthofEntry            0\n",
       "dayofEntry              0\n",
       "Gender                  0\n",
       "Location                0\n",
       "Education               0\n",
       "MaritalStatus           0\n",
       "Occupation              0\n",
       "Ownhouse                0\n",
       "CreditScore             0\n",
       "AccountBalance          0\n",
       "NumberOfProducts        0\n",
       "IsCreditCardCustomer    0\n",
       "ActiveMember            0\n",
       "Salary                  0\n",
       "Churn                   0\n",
       "dtype: int64"
      ]
     },
     "execution_count": 11,
     "metadata": {
      "tags": []
     },
     "output_type": "execute_result"
    }
   ],
   "source": [
    "train.isnull().sum()\n",
    "#observation----no null values"
   ]
  },
  {
   "cell_type": "code",
   "execution_count": 12,
   "metadata": {
    "colab": {
     "base_uri": "https://localhost:8080/",
     "height": 475
    },
    "colab_type": "code",
    "id": "keiFMsiz9bHf",
    "outputId": "191df4aa-af0d-49de-d161-cda9c50fdcf8"
   },
   "outputs": [
    {
     "data": {
      "text/plain": [
       "(1920, 2019)"
      ]
     },
     "execution_count": 12,
     "metadata": {
      "tags": []
     },
     "output_type": "execute_result"
    },
    {
     "data": {
      "image/png": "[encoded data removed]",
      "text/plain": [
       "<Figure size 1224x504 with 2 Axes>"
      ]
     },
     "metadata": {
      "tags": []
     },
     "output_type": "display_data"
    }
   ],
   "source": [
    "plt.rcParams['figure.figsize']=(17,7)\n",
    "plt.subplot(1,2,1)\n",
    "sns.distplot(train.yearofBirth)\n",
    "plt.title('density curve of year of birth of customer')\n",
    "plt.xlim(1920,2019)\n",
    "plt.subplot(1,2,2)\n",
    "sns.distplot(train.yearofEntry)\n",
    "plt.title('density curve of year of entry of customer')\n",
    "plt.xlim(1920,2019)\n",
    "#plt.tight_layout\n",
    "\n",
    "#observations----people who get into this companies services are those who were born in\n",
    "#later half of 20th century \n",
    "\n",
    "\n",
    "#company started its services for customers at late 2000's"
   ]
  },
  {
   "cell_type": "code",
   "execution_count": 13,
   "metadata": {
    "colab": {
     "base_uri": "https://localhost:8080/",
     "height": 475
    },
    "colab_type": "code",
    "id": "78554BU29bO8",
    "outputId": "be57bcf0-5af2-4e01-8e7e-d3f8207b69a6"
   },
   "outputs": [
    {
     "data": {
      "text/plain": [
       "Text(0.5, 1.0, 'density curve of year of entry')"
      ]
     },
     "execution_count": 13,
     "metadata": {
      "tags": []
     },
     "output_type": "execute_result"
    },
    {
     "data": {
      "image/png": "[encoded data removed]",
      "text/plain": [
       "<Figure size 1224x504 with 1 Axes>"
      ]
     },
     "metadata": {
      "tags": []
     },
     "output_type": "display_data"
    }
   ],
   "source": [
    "sns.distplot(train.yearofEntry)\n",
    "plt.title('density curve of year of entry')\n",
    "#observation-----flow of customers was about constant through out companies establishment."
   ]
  },
  {
   "cell_type": "code",
   "execution_count": 14,
   "metadata": {
    "colab": {
     "base_uri": "https://localhost:8080/",
     "height": 475
    },
    "colab_type": "code",
    "id": "rkwBl1_A9bQo",
    "outputId": "f37eb90f-1c96-4fef-9a50-2b828af9c3c2"
   },
   "outputs": [
    {
     "data": {
      "text/plain": [
       "Text(0.5, 1.0, 'density curve of month of entry of customer into company')"
      ]
     },
     "execution_count": 14,
     "metadata": {
      "tags": []
     },
     "output_type": "execute_result"
    },
    {
     "data": {
      "image/png": "[encoded data removed]",
      "text/plain": [
       "<Figure size 1224x504 with 2 Axes>"
      ]
     },
     "metadata": {
      "tags": []
     },
     "output_type": "display_data"
    }
   ],
   "source": [
    "plt.subplot(1,2,1)\n",
    "sns.distplot(train.monthofBirth)\n",
    "plt.title('density curve of month of birth of customer')\n",
    "plt.subplot(1,2,2)\n",
    "sns.distplot(train.monthofEntry)\n",
    "plt.title('density curve of month of entry of customer into company')"
   ]
  },
  {
   "cell_type": "code",
   "execution_count": 15,
   "metadata": {
    "colab": {
     "base_uri": "https://localhost:8080/",
     "height": 475
    },
    "colab_type": "code",
    "id": "zyuYA06P9bNr",
    "outputId": "9afbda69-8421-44ac-826e-53f3f261497c"
   },
   "outputs": [
    {
     "data": {
      "text/plain": [
       "Text(0.5, 1.0, 'day of entry of customer into company')"
      ]
     },
     "execution_count": 15,
     "metadata": {
      "tags": []
     },
     "output_type": "execute_result"
    },
    {
     "data": {
      "image/png": "[encoded data removed]",
      "text/plain": [
       "<Figure size 1224x504 with 1 Axes>"
      ]
     },
     "metadata": {
      "tags": []
     },
     "output_type": "display_data"
    }
   ],
   "source": [
    "sns.distplot(train.dayofEntry)\n",
    "plt.title('day of entry of customer into company')"
   ]
  },
  {
   "cell_type": "code",
   "execution_count": 16,
   "metadata": {
    "colab": {
     "base_uri": "https://localhost:8080/",
     "height": 367
    },
    "colab_type": "code",
    "id": "9DjnVuZf9bMG",
    "outputId": "9e7a4009-7bf3-4b2f-96e1-0c5e68e2eb18"
   },
   "outputs": [
    {
     "data": {
      "text/plain": [
       "Text(0.5, 1.0, 'count of genders')"
      ]
     },
     "execution_count": 16,
     "metadata": {
      "tags": []
     },
     "output_type": "execute_result"
    },
    {
     "data": {
      "image/png": "[encoded data removed]",
      "text/plain": [
       "<Figure size 720x360 with 1 Axes>"
      ]
     },
     "metadata": {
      "tags": []
     },
     "output_type": "display_data"
    }
   ],
   "source": [
    "plt.rcParams['figure.figsize']=(10,5)\n",
    "sns.countplot('Gender',data=train)\n",
    "plt.title('count of genders')"
   ]
  },
  {
   "cell_type": "code",
   "execution_count": 17,
   "metadata": {
    "colab": {
     "base_uri": "https://localhost:8080/",
     "height": 367
    },
    "colab_type": "code",
    "id": "5KHAzuKRBjVZ",
    "outputId": "fa617cb0-1c20-4e9d-eab8-a9e55451bc3e"
   },
   "outputs": [
    {
     "data": {
      "text/plain": [
       "<matplotlib.legend.Legend at 0x7f608d460b00>"
      ]
     },
     "execution_count": 17,
     "metadata": {
      "tags": []
     },
     "output_type": "execute_result"
    },
    {
     "data": {
      "image/png": "[encoded data removed]",
      "text/plain": [
       "<Figure size 720x360 with 1 Axes>"
      ]
     },
     "metadata": {
      "tags": []
     },
     "output_type": "display_data"
    }
   ],
   "source": [
    "sns.countplot('Gender',data=train,hue='Churn')\n",
    "plt.title('gender vs churn')\n",
    "plt.legend(bbox_to_anchor=(1.05, 1), loc=2, borderaxespad=0.)#to place the legend outside the graph\n",
    "#observations----though there are less female customers but they tend to churn out of the company\n",
    "#                more than male."
   ]
  },
  {
   "cell_type": "code",
   "execution_count": 18,
   "metadata": {
    "colab": {
     "base_uri": "https://localhost:8080/",
     "height": 367
    },
    "colab_type": "code",
    "id": "XtlWYDUy9bGU",
    "outputId": "3fcd11f9-9dd2-4cb1-ed1e-766de6a814c1"
   },
   "outputs": [
    {
     "data": {
      "text/plain": [
       "Text(0.5, 1.0, 'location count')"
      ]
     },
     "execution_count": 18,
     "metadata": {
      "tags": []
     },
     "output_type": "execute_result"
    },
    {
     "data": {
      "image/png": "[encoded data removed]",
      "text/plain": [
       "<Figure size 720x360 with 1 Axes>"
      ]
     },
     "metadata": {
      "tags": []
     },
     "output_type": "display_data"
    }
   ],
   "source": [
    "sns.countplot('Location',data=train)\n",
    "plt.title('location count')\n",
    "#observations----location-11 has a lot more customers\n",
    "#                locations 12,13 have equal number of customers but far less when compared to 11."
   ]
  },
  {
   "cell_type": "code",
   "execution_count": 19,
   "metadata": {
    "colab": {
     "base_uri": "https://localhost:8080/",
     "height": 367
    },
    "colab_type": "code",
    "id": "u8ACVniJBvUP",
    "outputId": "37ce3efd-74a7-4e57-ff2a-e60c5075d229"
   },
   "outputs": [
    {
     "data": {
      "text/plain": [
       "<matplotlib.legend.Legend at 0x7f608d44fef0>"
      ]
     },
     "execution_count": 19,
     "metadata": {
      "tags": []
     },
     "output_type": "execute_result"
    },
    {
     "data": {
      "image/png": "[encoded data removed]",
      "text/plain": [
       "<Figure size 720x360 with 1 Axes>"
      ]
     },
     "metadata": {
      "tags": []
     },
     "output_type": "display_data"
    }
   ],
   "source": [
    "sns.countplot('Location',data=train,hue='Churn')\n",
    "plt.title('location vs churn')\n",
    "plt.legend(bbox_to_anchor=(1.05, 1), loc=2, borderaxespad=0.)\n",
    "#observations----churn rate is same through all locations."
   ]
  },
  {
   "cell_type": "code",
   "execution_count": 20,
   "metadata": {
    "colab": {
     "base_uri": "https://localhost:8080/",
     "height": 367
    },
    "colab_type": "code",
    "id": "RKrFw3vi9bFU",
    "outputId": "276effe0-58c4-4a98-b535-74ec58ae7030"
   },
   "outputs": [
    {
     "data": {
      "text/plain": [
       "Text(0.5, 1.0, 'marital status count')"
      ]
     },
     "execution_count": 20,
     "metadata": {
      "tags": []
     },
     "output_type": "execute_result"
    },
    {
     "data": {
      "image/png": "[encoded data removed]",
      "text/plain": [
       "<Figure size 720x360 with 1 Axes>"
      ]
     },
     "metadata": {
      "tags": []
     },
     "output_type": "display_data"
    }
   ],
   "source": [
    "sns.countplot('MaritalStatus',data=train)\n",
    "plt.title('marital status count')\n",
    "#observations----marital status of customers are nearly equal single,married,and divorced"
   ]
  },
  {
   "cell_type": "code",
   "execution_count": 21,
   "metadata": {
    "colab": {
     "base_uri": "https://localhost:8080/",
     "height": 367
    },
    "colab_type": "code",
    "id": "7hBKIMie9bDx",
    "outputId": "85c6a513-7885-4e72-825a-b4fd30ff32c5"
   },
   "outputs": [
    {
     "data": {
      "text/plain": [
       "<matplotlib.legend.Legend at 0x7f608d53c128>"
      ]
     },
     "execution_count": 21,
     "metadata": {
      "tags": []
     },
     "output_type": "execute_result"
    },
    {
     "data": {
      "image/png": "[encoded data removed]",
      "text/plain": [
       "<Figure size 720x360 with 1 Axes>"
      ]
     },
     "metadata": {
      "tags": []
     },
     "output_type": "display_data"
    }
   ],
   "source": [
    "sns.countplot('MaritalStatus',data=train,hue='Churn')\n",
    "plt.title('marital status vs churn')\n",
    "plt.legend(bbox_to_anchor=(1.05, 1), loc=2, borderaxespad=0.)\n",
    "#observations----churn rate is similar for all marital status."
   ]
  },
  {
   "cell_type": "code",
   "execution_count": 22,
   "metadata": {
    "colab": {
     "base_uri": "https://localhost:8080/",
     "height": 414
    },
    "colab_type": "code",
    "id": "u5tRUWfJ9a_Q",
    "outputId": "6b7913d2-ac24-4373-e656-41d43f40fa53"
   },
   "outputs": [
    {
     "data": {
      "text/plain": [
       "(array([0, 1, 2, 3, 4, 5, 6]), <a list of 7 Text xticklabel objects>)"
      ]
     },
     "execution_count": 22,
     "metadata": {
      "tags": []
     },
     "output_type": "execute_result"
    },
    {
     "data": {
      "image/png": "[encoded data removed]",
      "text/plain": [
       "<Figure size 720x360 with 1 Axes>"
      ]
     },
     "metadata": {
      "tags": []
     },
     "output_type": "display_data"
    }
   ],
   "source": [
    "sns.countplot('Occupation',data=train)\n",
    "plt.title('occupation count')\n",
    "plt.xticks(rotation=45)\n",
    "#observations----more customers are into administrative roles\n",
    "#                all others are equally distributed except retired"
   ]
  },
  {
   "cell_type": "code",
   "execution_count": 23,
   "metadata": {
    "colab": {
     "base_uri": "https://localhost:8080/",
     "height": 414
    },
    "colab_type": "code",
    "id": "QFnbGcOF9a1g",
    "outputId": "8ab03212-91f4-49fd-9992-33ac14a9b79b"
   },
   "outputs": [
    {
     "data": {
      "text/plain": [
       "(array([0, 1, 2, 3, 4, 5, 6]), <a list of 7 Text xticklabel objects>)"
      ]
     },
     "execution_count": 23,
     "metadata": {
      "tags": []
     },
     "output_type": "execute_result"
    },
    {
     "data": {
      "image/png": "[encoded data removed]",
      "text/plain": [
       "<Figure size 720x360 with 1 Axes>"
      ]
     },
     "metadata": {
      "tags": []
     },
     "output_type": "display_data"
    }
   ],
   "source": [
    "sns.countplot('Occupation',data=train,hue='Churn')\n",
    "plt.legend(bbox_to_anchor=(1.05, 1), loc=2, borderaxespad=0.)\n",
    "plt.title('occupation vs churn')\n",
    "plt.xticks(rotation=45)\n",
    "#observations----churn is proportional to occupation count..but a little more for administrative."
   ]
  },
  {
   "cell_type": "code",
   "execution_count": 24,
   "metadata": {
    "colab": {
     "base_uri": "https://localhost:8080/",
     "height": 367
    },
    "colab_type": "code",
    "id": "ObrxXODDFetL",
    "outputId": "18214993-4673-4e0b-b29e-bd27142050bb"
   },
   "outputs": [
    {
     "data": {
      "text/plain": [
       "Text(0.5, 1.0, 'education count')"
      ]
     },
     "execution_count": 24,
     "metadata": {
      "tags": []
     },
     "output_type": "execute_result"
    },
    {
     "data": {
      "image/png": "[encoded data removed]",
      "text/plain": [
       "<Figure size 720x360 with 1 Axes>"
      ]
     },
     "metadata": {
      "tags": []
     },
     "output_type": "display_data"
    }
   ],
   "source": [
    "sns.countplot(x='Education',data=train)\n",
    "plt.title('education count')\n",
    "#observations----all educational levels have similar count"
   ]
  },
  {
   "cell_type": "code",
   "execution_count": 25,
   "metadata": {
    "colab": {
     "base_uri": "https://localhost:8080/",
     "height": 367
    },
    "colab_type": "code",
    "id": "WaCp0qnPFnEY",
    "outputId": "3687d3d7-dea8-4d0c-de70-5c8749466b0a"
   },
   "outputs": [
    {
     "data": {
      "text/plain": [
       "<matplotlib.legend.Legend at 0x7f608d33c198>"
      ]
     },
     "execution_count": 25,
     "metadata": {
      "tags": []
     },
     "output_type": "execute_result"
    },
    {
     "data": {
      "image/png": "[encoded data removed]",
      "text/plain": [
       "<Figure size 720x360 with 1 Axes>"
      ]
     },
     "metadata": {
      "tags": []
     },
     "output_type": "display_data"
    }
   ],
   "source": [
    "sns.countplot(x='Education',data=train,hue='Churn')\n",
    "plt.title('education vs churn')\n",
    "plt.legend(bbox_to_anchor=(1.05, 1), loc=2, borderaxespad=0.)\n",
    "#observations----churn is similar in all education levels"
   ]
  },
  {
   "cell_type": "code",
   "execution_count": 26,
   "metadata": {
    "colab": {
     "base_uri": "https://localhost:8080/",
     "height": 475
    },
    "colab_type": "code",
    "id": "QLNhwucK9avu",
    "outputId": "5dd4d866-90c3-43dc-e9cd-fb00514a39fd"
   },
   "outputs": [
    {
     "data": {
      "text/plain": [
       "<matplotlib.legend.Legend at 0x7f608a586ba8>"
      ]
     },
     "execution_count": 26,
     "metadata": {
      "tags": []
     },
     "output_type": "execute_result"
    },
    {
     "data": {
      "image/png": "[encoded data removed]",
      "text/plain": [
       "<Figure size 1152x504 with 2 Axes>"
      ]
     },
     "metadata": {
      "tags": []
     },
     "output_type": "display_data"
    }
   ],
   "source": [
    "plt.rcParams['figure.figsize']=(16,7)\n",
    "plt.subplot(1,2,1)\n",
    "sns.countplot('Ownhouse',data=train)\n",
    "plt.title('own_house count')\n",
    "plt.subplot(1,2,2)\n",
    "sns.countplot('Ownhouse',data=train,hue='Churn')\n",
    "plt.title('own_house vs churn')\n",
    "plt.legend(bbox_to_anchor=(1.05, 1), loc=2, borderaxespad=0.)\n",
    "#observations----own house count and churn are nearly similar. "
   ]
  },
  {
   "cell_type": "code",
   "execution_count": 27,
   "metadata": {
    "colab": {
     "base_uri": "https://localhost:8080/",
     "height": 367
    },
    "colab_type": "code",
    "id": "Hoge9YaM9apl",
    "outputId": "0c031f8e-c0d8-4394-b714-c66e7750240b"
   },
   "outputs": [
    {
     "data": {
      "text/plain": [
       "Text(0.5, 1.0, 'density plot of credit score')"
      ]
     },
     "execution_count": 27,
     "metadata": {
      "tags": []
     },
     "output_type": "execute_result"
    },
    {
     "data": {
      "image/png": "[encoded data removed]",
      "text/plain": [
       "<Figure size 720x360 with 1 Axes>"
      ]
     },
     "metadata": {
      "tags": []
     },
     "output_type": "display_data"
    }
   ],
   "source": [
    "plt.rcParams['figure.figsize']=(10,5)\n",
    "sns.distplot(train.CreditScore)\n",
    "plt.title('density plot of credit score')\n",
    "#credit score is in range of 350-850...and high score has been achieved by good amount of people"
   ]
  },
  {
   "cell_type": "code",
   "execution_count": 28,
   "metadata": {
    "colab": {
     "base_uri": "https://localhost:8080/",
     "height": 367
    },
    "colab_type": "code",
    "id": "w015ddgZEEVW",
    "outputId": "e78d9c4c-4735-4475-e0a3-7eeef649d6ac"
   },
   "outputs": [
    {
     "data": {
      "text/plain": [
       "Text(0.5, 1.0, 'churn vs credit score')"
      ]
     },
     "execution_count": 28,
     "metadata": {
      "tags": []
     },
     "output_type": "execute_result"
    },
    {
     "data": {
      "image/png": "[encoded data removed]",
      "text/plain": [
       "<Figure size 720x360 with 1 Axes>"
      ]
     },
     "metadata": {
      "tags": []
     },
     "output_type": "display_data"
    }
   ],
   "source": [
    "sns.boxplot(x='Churn',y='CreditScore',data=train)\n",
    "plt.title('churn vs credit score')\n",
    "#observations----churn does'nt depend more on credit score.....few potential outliers in churn-yes plot"
   ]
  },
  {
   "cell_type": "code",
   "execution_count": 29,
   "metadata": {
    "colab": {
     "base_uri": "https://localhost:8080/",
     "height": 367
    },
    "colab_type": "code",
    "id": "M_pnLvYwEEfI",
    "outputId": "0e26ad05-68d9-4f96-e0c3-ccec8e3bfb58"
   },
   "outputs": [
    {
     "data": {
      "text/plain": [
       "<matplotlib.legend.Legend at 0x7f608a418898>"
      ]
     },
     "execution_count": 29,
     "metadata": {
      "tags": []
     },
     "output_type": "execute_result"
    },
    {
     "data": {
      "image/png": "[encoded data removed]",
      "text/plain": [
       "<Figure size 720x360 with 1 Axes>"
      ]
     },
     "metadata": {
      "tags": []
     },
     "output_type": "display_data"
    }
   ],
   "source": [
    "sns.boxplot(x='NumberOfProducts',y='AccountBalance',hue='Churn',data=train)\n",
    "plt.title('number of products vs account balance vs churn')\n",
    "plt.legend(bbox_to_anchor=(1.05, 1), loc=2, borderaxespad=0.)\n",
    "#observations----people who churn nearly have same account balance"
   ]
  },
  {
   "cell_type": "code",
   "execution_count": 30,
   "metadata": {
    "colab": {
     "base_uri": "https://localhost:8080/",
     "height": 367
    },
    "colab_type": "code",
    "id": "zN1yIwYKFNXg",
    "outputId": "551cf850-4984-499a-9a48-8ba5cff38558"
   },
   "outputs": [
    {
     "data": {
      "text/plain": [
       "Text(0.5, 1.0, 'churv vs account balance')"
      ]
     },
     "execution_count": 30,
     "metadata": {
      "tags": []
     },
     "output_type": "execute_result"
    },
    {
     "data": {
      "image/png": "[encoded data removed]",
      "text/plain": [
       "<Figure size 720x360 with 1 Axes>"
      ]
     },
     "metadata": {
      "tags": []
     },
     "output_type": "display_data"
    }
   ],
   "source": [
    "sns.violinplot(x='Churn',y='AccountBalance',data=train)\n",
    "plt.title('churv vs account balance')\n",
    "#people who churn usually have more account balance that who stay"
   ]
  },
  {
   "cell_type": "code",
   "execution_count": 31,
   "metadata": {
    "colab": {
     "base_uri": "https://localhost:8080/",
     "height": 367
    },
    "colab_type": "code",
    "id": "nGm7Oo_PEEh-",
    "outputId": "dba4777a-d0db-4c20-fd8c-ea3ac6508a11"
   },
   "outputs": [
    {
     "data": {
      "text/plain": [
       "<matplotlib.legend.Legend at 0x7f6089f2b828>"
      ]
     },
     "execution_count": 31,
     "metadata": {
      "tags": []
     },
     "output_type": "execute_result"
    },
    {
     "data": {
      "image/png": "[encoded data removed]",
      "text/plain": [
       "<Figure size 720x360 with 1 Axes>"
      ]
     },
     "metadata": {
      "tags": []
     },
     "output_type": "display_data"
    }
   ],
   "source": [
    "sns.countplot(x='NumberOfProducts',data=train,hue='Churn')\n",
    "plt.title('number of products vs churn')\n",
    "plt.legend(bbox_to_anchor=(1.05, 1), loc=2, borderaxespad=0.)\n",
    "#observations----people who opt for more than 2 products have high probability of churning."
   ]
  },
  {
   "cell_type": "code",
   "execution_count": 32,
   "metadata": {
    "colab": {
     "base_uri": "https://localhost:8080/",
     "height": 367
    },
    "colab_type": "code",
    "id": "3IlYAufhEEli",
    "outputId": "b9bf7ef5-6b02-4f76-952e-25b8e77c05d5"
   },
   "outputs": [
    {
     "data": {
      "text/plain": [
       "Text(0.5, 1.0, 'credit card customer count')"
      ]
     },
     "execution_count": 32,
     "metadata": {
      "tags": []
     },
     "output_type": "execute_result"
    },
    {
     "data": {
      "image/png": "[encoded data removed]",
      "text/plain": [
       "<Figure size 720x360 with 1 Axes>"
      ]
     },
     "metadata": {
      "tags": []
     },
     "output_type": "display_data"
    }
   ],
   "source": [
    "sns.countplot('IsCreditCardCustomer',data=train)\n",
    "plt.title('credit card customer count')\n",
    "#observations----large number of customers have opted for credit cards"
   ]
  },
  {
   "cell_type": "code",
   "execution_count": 34,
   "metadata": {
    "colab": {
     "base_uri": "https://localhost:8080/",
     "height": 367
    },
    "colab_type": "code",
    "id": "D_zj3pcOEEoD",
    "outputId": "3fa55671-87fb-46cd-a35c-ee6456d41506"
   },
   "outputs": [
    {
     "data": {
      "text/plain": [
       "<matplotlib.legend.Legend at 0x7f6089db1b38>"
      ]
     },
     "execution_count": 34,
     "metadata": {
      "tags": []
     },
     "output_type": "execute_result"
    },
    {
     "data": {
      "image/png": "[encoded data removed]",
      "text/plain": [
       "<Figure size 720x360 with 1 Axes>"
      ]
     },
     "metadata": {
      "tags": []
     },
     "output_type": "display_data"
    }
   ],
   "source": [
    "sns.countplot('IsCreditCardCustomer',data=train,hue='Churn')\n",
    "plt.title('credit card vs churn')\n",
    "plt.legend(bbox_to_anchor=(1.05, 1), loc=2, borderaxespad=0.)\n",
    "#observations----churning is proportional to count"
   ]
  },
  {
   "cell_type": "code",
   "execution_count": 35,
   "metadata": {
    "colab": {
     "base_uri": "https://localhost:8080/",
     "height": 367
    },
    "colab_type": "code",
    "id": "WbOJfIJuEEqk",
    "outputId": "acaa1de9-0469-4ae3-e3f8-4e0ffc722562"
   },
   "outputs": [
    {
     "data": {
      "text/plain": [
       "Text(0.5, 1.0, 'active member count')"
      ]
     },
     "execution_count": 35,
     "metadata": {
      "tags": []
     },
     "output_type": "execute_result"
    },
    {
     "data": {
      "image/png": "[encoded data removed]",
      "text/plain": [
       "<Figure size 720x360 with 1 Axes>"
      ]
     },
     "metadata": {
      "tags": []
     },
     "output_type": "display_data"
    }
   ],
   "source": [
    "sns.countplot(x='ActiveMember',data=train)\n",
    "plt.title('active member count')\n",
    "#observations----there are as many active members as there are inactive members."
   ]
  },
  {
   "cell_type": "code",
   "execution_count": 36,
   "metadata": {
    "colab": {
     "base_uri": "https://localhost:8080/",
     "height": 367
    },
    "colab_type": "code",
    "id": "XVtOtbC9EEx1",
    "outputId": "6371753c-51bd-4ff5-afec-376e4467851b"
   },
   "outputs": [
    {
     "data": {
      "text/plain": [
       "<matplotlib.legend.Legend at 0x7f6089c7c128>"
      ]
     },
     "execution_count": 36,
     "metadata": {
      "tags": []
     },
     "output_type": "execute_result"
    },
    {
     "data": {
      "image/png": "[encoded data removed]",
      "text/plain": [
       "<Figure size 720x360 with 1 Axes>"
      ]
     },
     "metadata": {
      "tags": []
     },
     "output_type": "display_data"
    }
   ],
   "source": [
    "sns.countplot(x='ActiveMember',data=train,hue='Churn')\n",
    "plt.title('active members vs churn')\n",
    "plt.legend(bbox_to_anchor=(1.05, 1), loc=2, borderaxespad=0.)\n",
    "#observations----customers who are inactive tend to churn out more than\n",
    "#                customers who are active"
   ]
  },
  {
   "cell_type": "code",
   "execution_count": 37,
   "metadata": {
    "colab": {
     "base_uri": "https://localhost:8080/",
     "height": 367
    },
    "colab_type": "code",
    "id": "fBdmqR-eEEwh",
    "outputId": "5928789b-aeda-4f67-c8ba-cac0197555b0"
   },
   "outputs": [
    {
     "data": {
      "text/plain": [
       "Text(0.5, 1.0, 'density plot of salary')"
      ]
     },
     "execution_count": 37,
     "metadata": {
      "tags": []
     },
     "output_type": "execute_result"
    },
    {
     "data": {
      "image/png": "[encoded data removed]",
      "text/plain": [
       "<Figure size 720x360 with 1 Axes>"
      ]
     },
     "metadata": {
      "tags": []
     },
     "output_type": "display_data"
    }
   ],
   "source": [
    "sns.distplot(train.Salary)\n",
    "plt.title('density plot of salary')\n",
    "#observations----customers ranging from 0 income(maybe_house_wifes) to high income\n",
    "#                customers are equally distributed along the range"
   ]
  },
  {
   "cell_type": "code",
   "execution_count": 38,
   "metadata": {
    "colab": {
     "base_uri": "https://localhost:8080/",
     "height": 367
    },
    "colab_type": "code",
    "id": "T_5zEcodEEtQ",
    "outputId": "6631520a-c958-4b44-a900-e66775bbb05e"
   },
   "outputs": [
    {
     "data": {
      "text/plain": [
       "Text(0.5, 1.0, 'churn vs salary')"
      ]
     },
     "execution_count": 38,
     "metadata": {
      "tags": []
     },
     "output_type": "execute_result"
    },
    {
     "data": {
      "image/png": "[encoded data removed]",
      "text/plain": [
       "<Figure size 720x360 with 1 Axes>"
      ]
     },
     "metadata": {
      "tags": []
     },
     "output_type": "display_data"
    }
   ],
   "source": [
    "sns.violinplot(x='Churn',y='Salary',data=train)\n",
    "plt.title('churn vs salary')\n",
    "#observations----people who churn have similar salary to those who stay"
   ]
  },
  {
   "cell_type": "code",
   "execution_count": 0,
   "metadata": {
    "colab": {},
    "colab_type": "code",
    "id": "IybCnA30EEdW"
   },
   "outputs": [],
   "source": [
    "#creating a function which takes a dataframe and outputs a dataframe\n",
    "#which has some columns dropped and some added all related to date_time.\n",
    "\n",
    "def date_related(df):\n",
    "  #converting columns into string since we need to combine these columns later\n",
    "  df['yearofBirth']=(df.loc[:,'yearofBirth']).astype('str')\n",
    "  df['monthofBirth']=(df.loc[:,'monthofBirth']).astype('str')\n",
    "  df['dayofBirth']=(df.loc[:,'dayofBirth']).astype('str')\n",
    "  df['yearofEntry']=(df.loc[:,'yearofEntry']).astype('str')\n",
    "  df['monthofEntry']=(df.loc[:,'monthofEntry']).astype('str')\n",
    "  df['dayofEntry']=(df.loc[:,'dayofEntry']).astype('str')\n",
    "\n",
    "  #joining customer's birth columns into one and entry columns into one\n",
    "  #separating with character '-'\n",
    "  df['customer_dob'] = df[['yearofBirth', 'monthofBirth','dayofBirth']].apply(lambda x: '-'.join(x), axis=1)  \n",
    "  df['customer_entry'] = df[['yearofEntry', 'monthofEntry','dayofEntry']].apply(lambda x: '-'.join(x), axis=1)\n",
    "\n",
    "  #converting customer dob(date of birth) and customer entry columns into date_time\n",
    "  df['customer_dob']=pd.to_datetime(df.loc[:,'customer_dob']) \n",
    "  df['customer_entry']=pd.to_datetime(df.loc[:,'customer_entry']) \n",
    "\n",
    "\n",
    "  #dropping columns from which we have taken all the information\n",
    "  #and are no more use full....unless you want into increase features:p\n",
    "  cols=['yearofBirth','monthofBirth','dayofBirth','yearofEntry','monthofEntry','dayofEntry']\n",
    "  df.drop(cols,axis=1,inplace=True)\n",
    "\n",
    "  #getting the latest entry of customer so that we can get date when this data has been published\n",
    "  latest_entry=np.max(df.customer_entry)\n",
    "\n",
    "  #customers age when he entered the company...dividing with 8760 hours since\n",
    "  #we have 8760 hours in year and rounding off to 2 decimals\n",
    "  df['age_when_entered']=round(((df.customer_entry-df.customer_dob).astype('timedelta64[h]').abs())/8760,2)\n",
    "  df['time_spent_with_company']=round(((latest_entry-df.customer_entry).astype('timedelta64[h]').abs())/8760,2)\n",
    "\n",
    "\n",
    "\n",
    "  return df \t \t"
   ]
  },
  {
   "cell_type": "code",
   "execution_count": 0,
   "metadata": {
    "colab": {},
    "colab_type": "code",
    "id": "WWHhTjenEEbc"
   },
   "outputs": [],
   "source": [
    "train=date_related(train)\n",
    "val=date_related(val)\n",
    "test=date_related(test)"
   ]
  },
  {
   "cell_type": "code",
   "execution_count": 39,
   "metadata": {
    "colab": {
     "base_uri": "https://localhost:8080/",
     "height": 353
    },
    "colab_type": "code",
    "id": "Ee17j_-lEEZg",
    "outputId": "f32ae105-b479-47b4-c143-76b358cad799"
   },
   "outputs": [
    {
     "data": {
      "text/plain": [
       "CustomerID                         object\n",
       "CustomerName                       object\n",
       "Gender                             object\n",
       "Location                           object\n",
       "Education                          object\n",
       "MaritalStatus                      object\n",
       "Occupation                         object\n",
       "Ownhouse                           object\n",
       "CreditScore                         int64\n",
       "AccountBalance                    float64\n",
       "NumberOfProducts                    int64\n",
       "IsCreditCardCustomer                int64\n",
       "ActiveMember                        int64\n",
       "Salary                            float64\n",
       "Churn                              object\n",
       "customer_dob               datetime64[ns]\n",
       "customer_entry             datetime64[ns]\n",
       "age_when_entered                  float64\n",
       "time_spent_with_company           float64\n",
       "dtype: object"
      ]
     },
     "execution_count": 39,
     "metadata": {
      "tags": []
     },
     "output_type": "execute_result"
    }
   ],
   "source": [
    "train.dtypes"
   ]
  },
  {
   "cell_type": "code",
   "execution_count": 40,
   "metadata": {
    "colab": {
     "base_uri": "https://localhost:8080/",
     "height": 502
    },
    "colab_type": "code",
    "id": "Kuc7wVxFI9ZI",
    "outputId": "378f8f4b-d1e7-492a-a91f-7f3cf896c9f5"
   },
   "outputs": [
    {
     "data": {
      "text/html": [
       "<div>\n",
       "<style scoped>\n",
       "    .dataframe tbody tr th:only-of-type {\n",
       "        vertical-align: middle;\n",
       "    }\n",
       "\n",
       "    .dataframe tbody tr th {\n",
       "        vertical-align: top;\n",
       "    }\n",
       "\n",
       "    .dataframe thead th {\n",
       "        text-align: right;\n",
       "    }\n",
       "</style>\n",
       "<table border=\"1\" class=\"dataframe\">\n",
       "  <thead>\n",
       "    <tr style=\"text-align: right;\">\n",
       "      <th></th>\n",
       "      <th>CustomerID</th>\n",
       "      <th>CustomerName</th>\n",
       "      <th>Gender</th>\n",
       "      <th>Location</th>\n",
       "      <th>Education</th>\n",
       "      <th>MaritalStatus</th>\n",
       "      <th>Occupation</th>\n",
       "      <th>Ownhouse</th>\n",
       "      <th>CreditScore</th>\n",
       "      <th>AccountBalance</th>\n",
       "      <th>NumberOfProducts</th>\n",
       "      <th>IsCreditCardCustomer</th>\n",
       "      <th>ActiveMember</th>\n",
       "      <th>Salary</th>\n",
       "      <th>Churn</th>\n",
       "      <th>customer_dob</th>\n",
       "      <th>customer_entry</th>\n",
       "      <th>age_when_entered</th>\n",
       "      <th>time_spent_with_company</th>\n",
       "    </tr>\n",
       "  </thead>\n",
       "  <tbody>\n",
       "    <tr>\n",
       "      <th>count</th>\n",
       "      <td>6256</td>\n",
       "      <td>6256</td>\n",
       "      <td>6256</td>\n",
       "      <td>6256</td>\n",
       "      <td>6256</td>\n",
       "      <td>6256</td>\n",
       "      <td>6256</td>\n",
       "      <td>6256</td>\n",
       "      <td>6256.000000</td>\n",
       "      <td>6256.000000</td>\n",
       "      <td>6256.000000</td>\n",
       "      <td>6256.000000</td>\n",
       "      <td>6256.000000</td>\n",
       "      <td>6256.000000</td>\n",
       "      <td>6256</td>\n",
       "      <td>6256</td>\n",
       "      <td>6256</td>\n",
       "      <td>6256.000000</td>\n",
       "      <td>6256.000000</td>\n",
       "    </tr>\n",
       "    <tr>\n",
       "      <th>unique</th>\n",
       "      <td>6256</td>\n",
       "      <td>6256</td>\n",
       "      <td>2</td>\n",
       "      <td>3</td>\n",
       "      <td>4</td>\n",
       "      <td>3</td>\n",
       "      <td>7</td>\n",
       "      <td>3</td>\n",
       "      <td>NaN</td>\n",
       "      <td>NaN</td>\n",
       "      <td>NaN</td>\n",
       "      <td>NaN</td>\n",
       "      <td>NaN</td>\n",
       "      <td>NaN</td>\n",
       "      <td>2</td>\n",
       "      <td>4835</td>\n",
       "      <td>2968</td>\n",
       "      <td>NaN</td>\n",
       "      <td>NaN</td>\n",
       "    </tr>\n",
       "    <tr>\n",
       "      <th>top</th>\n",
       "      <td>C2705882</td>\n",
       "      <td>Name_4650236</td>\n",
       "      <td>Male</td>\n",
       "      <td>Location11</td>\n",
       "      <td>primary</td>\n",
       "      <td>single</td>\n",
       "      <td>admin.</td>\n",
       "      <td>no</td>\n",
       "      <td>NaN</td>\n",
       "      <td>NaN</td>\n",
       "      <td>NaN</td>\n",
       "      <td>NaN</td>\n",
       "      <td>NaN</td>\n",
       "      <td>NaN</td>\n",
       "      <td>No</td>\n",
       "      <td>1973-03-24 00:00:00</td>\n",
       "      <td>2013-12-18 00:00:00</td>\n",
       "      <td>NaN</td>\n",
       "      <td>NaN</td>\n",
       "    </tr>\n",
       "    <tr>\n",
       "      <th>freq</th>\n",
       "      <td>1</td>\n",
       "      <td>1</td>\n",
       "      <td>3414</td>\n",
       "      <td>3123</td>\n",
       "      <td>1586</td>\n",
       "      <td>2185</td>\n",
       "      <td>2702</td>\n",
       "      <td>3134</td>\n",
       "      <td>NaN</td>\n",
       "      <td>NaN</td>\n",
       "      <td>NaN</td>\n",
       "      <td>NaN</td>\n",
       "      <td>NaN</td>\n",
       "      <td>NaN</td>\n",
       "      <td>4979</td>\n",
       "      <td>5</td>\n",
       "      <td>8</td>\n",
       "      <td>NaN</td>\n",
       "      <td>NaN</td>\n",
       "    </tr>\n",
       "    <tr>\n",
       "      <th>first</th>\n",
       "      <td>NaN</td>\n",
       "      <td>NaN</td>\n",
       "      <td>NaN</td>\n",
       "      <td>NaN</td>\n",
       "      <td>NaN</td>\n",
       "      <td>NaN</td>\n",
       "      <td>NaN</td>\n",
       "      <td>NaN</td>\n",
       "      <td>NaN</td>\n",
       "      <td>NaN</td>\n",
       "      <td>NaN</td>\n",
       "      <td>NaN</td>\n",
       "      <td>NaN</td>\n",
       "      <td>NaN</td>\n",
       "      <td>NaN</td>\n",
       "      <td>1926-05-13 00:00:00</td>\n",
       "      <td>2008-01-01 00:00:00</td>\n",
       "      <td>NaN</td>\n",
       "      <td>NaN</td>\n",
       "    </tr>\n",
       "    <tr>\n",
       "      <th>last</th>\n",
       "      <td>NaN</td>\n",
       "      <td>NaN</td>\n",
       "      <td>NaN</td>\n",
       "      <td>NaN</td>\n",
       "      <td>NaN</td>\n",
       "      <td>NaN</td>\n",
       "      <td>NaN</td>\n",
       "      <td>NaN</td>\n",
       "      <td>NaN</td>\n",
       "      <td>NaN</td>\n",
       "      <td>NaN</td>\n",
       "      <td>NaN</td>\n",
       "      <td>NaN</td>\n",
       "      <td>NaN</td>\n",
       "      <td>NaN</td>\n",
       "      <td>2000-12-10 00:00:00</td>\n",
       "      <td>2018-12-28 00:00:00</td>\n",
       "      <td>NaN</td>\n",
       "      <td>NaN</td>\n",
       "    </tr>\n",
       "    <tr>\n",
       "      <th>mean</th>\n",
       "      <td>NaN</td>\n",
       "      <td>NaN</td>\n",
       "      <td>NaN</td>\n",
       "      <td>NaN</td>\n",
       "      <td>NaN</td>\n",
       "      <td>NaN</td>\n",
       "      <td>NaN</td>\n",
       "      <td>NaN</td>\n",
       "      <td>651.556905</td>\n",
       "      <td>76155.918055</td>\n",
       "      <td>1.520780</td>\n",
       "      <td>0.705243</td>\n",
       "      <td>0.506394</td>\n",
       "      <td>99459.800777</td>\n",
       "      <td>NaN</td>\n",
       "      <td>NaN</td>\n",
       "      <td>NaN</td>\n",
       "      <td>33.976873</td>\n",
       "      <td>5.497433</td>\n",
       "    </tr>\n",
       "    <tr>\n",
       "      <th>std</th>\n",
       "      <td>NaN</td>\n",
       "      <td>NaN</td>\n",
       "      <td>NaN</td>\n",
       "      <td>NaN</td>\n",
       "      <td>NaN</td>\n",
       "      <td>NaN</td>\n",
       "      <td>NaN</td>\n",
       "      <td>NaN</td>\n",
       "      <td>96.556730</td>\n",
       "      <td>62321.558343</td>\n",
       "      <td>0.577945</td>\n",
       "      <td>0.455970</td>\n",
       "      <td>0.499999</td>\n",
       "      <td>57332.516626</td>\n",
       "      <td>NaN</td>\n",
       "      <td>NaN</td>\n",
       "      <td>NaN</td>\n",
       "      <td>10.914879</td>\n",
       "      <td>2.913223</td>\n",
       "    </tr>\n",
       "    <tr>\n",
       "      <th>min</th>\n",
       "      <td>NaN</td>\n",
       "      <td>NaN</td>\n",
       "      <td>NaN</td>\n",
       "      <td>NaN</td>\n",
       "      <td>NaN</td>\n",
       "      <td>NaN</td>\n",
       "      <td>NaN</td>\n",
       "      <td>NaN</td>\n",
       "      <td>350.000000</td>\n",
       "      <td>0.000000</td>\n",
       "      <td>1.000000</td>\n",
       "      <td>0.000000</td>\n",
       "      <td>0.000000</td>\n",
       "      <td>11.580000</td>\n",
       "      <td>NaN</td>\n",
       "      <td>NaN</td>\n",
       "      <td>NaN</td>\n",
       "      <td>7.150000</td>\n",
       "      <td>0.000000</td>\n",
       "    </tr>\n",
       "    <tr>\n",
       "      <th>25%</th>\n",
       "      <td>NaN</td>\n",
       "      <td>NaN</td>\n",
       "      <td>NaN</td>\n",
       "      <td>NaN</td>\n",
       "      <td>NaN</td>\n",
       "      <td>NaN</td>\n",
       "      <td>NaN</td>\n",
       "      <td>NaN</td>\n",
       "      <td>584.000000</td>\n",
       "      <td>0.000000</td>\n",
       "      <td>1.000000</td>\n",
       "      <td>0.000000</td>\n",
       "      <td>0.000000</td>\n",
       "      <td>50403.620000</td>\n",
       "      <td>NaN</td>\n",
       "      <td>NaN</td>\n",
       "      <td>NaN</td>\n",
       "      <td>26.580000</td>\n",
       "      <td>2.980000</td>\n",
       "    </tr>\n",
       "    <tr>\n",
       "      <th>50%</th>\n",
       "      <td>NaN</td>\n",
       "      <td>NaN</td>\n",
       "      <td>NaN</td>\n",
       "      <td>NaN</td>\n",
       "      <td>NaN</td>\n",
       "      <td>NaN</td>\n",
       "      <td>NaN</td>\n",
       "      <td>NaN</td>\n",
       "      <td>653.000000</td>\n",
       "      <td>96472.395000</td>\n",
       "      <td>1.000000</td>\n",
       "      <td>1.000000</td>\n",
       "      <td>1.000000</td>\n",
       "      <td>98940.675000</td>\n",
       "      <td>NaN</td>\n",
       "      <td>NaN</td>\n",
       "      <td>NaN</td>\n",
       "      <td>32.450000</td>\n",
       "      <td>5.520000</td>\n",
       "    </tr>\n",
       "    <tr>\n",
       "      <th>75%</th>\n",
       "      <td>NaN</td>\n",
       "      <td>NaN</td>\n",
       "      <td>NaN</td>\n",
       "      <td>NaN</td>\n",
       "      <td>NaN</td>\n",
       "      <td>NaN</td>\n",
       "      <td>NaN</td>\n",
       "      <td>NaN</td>\n",
       "      <td>718.000000</td>\n",
       "      <td>127202.515000</td>\n",
       "      <td>2.000000</td>\n",
       "      <td>1.000000</td>\n",
       "      <td>1.000000</td>\n",
       "      <td>148784.170000</td>\n",
       "      <td>NaN</td>\n",
       "      <td>NaN</td>\n",
       "      <td>NaN</td>\n",
       "      <td>39.472500</td>\n",
       "      <td>7.970000</td>\n",
       "    </tr>\n",
       "    <tr>\n",
       "      <th>max</th>\n",
       "      <td>NaN</td>\n",
       "      <td>NaN</td>\n",
       "      <td>NaN</td>\n",
       "      <td>NaN</td>\n",
       "      <td>NaN</td>\n",
       "      <td>NaN</td>\n",
       "      <td>NaN</td>\n",
       "      <td>NaN</td>\n",
       "      <td>850.000000</td>\n",
       "      <td>250898.090000</td>\n",
       "      <td>4.000000</td>\n",
       "      <td>1.000000</td>\n",
       "      <td>1.000000</td>\n",
       "      <td>199970.740000</td>\n",
       "      <td>NaN</td>\n",
       "      <td>NaN</td>\n",
       "      <td>NaN</td>\n",
       "      <td>91.000000</td>\n",
       "      <td>11.000000</td>\n",
       "    </tr>\n",
       "  </tbody>\n",
       "</table>\n",
       "</div>"
      ],
      "text/plain": [
       "       CustomerID  CustomerName  ... age_when_entered time_spent_with_company\n",
       "count        6256          6256  ...      6256.000000             6256.000000\n",
       "unique       6256          6256  ...              NaN                     NaN\n",
       "top      C2705882  Name_4650236  ...              NaN                     NaN\n",
       "freq            1             1  ...              NaN                     NaN\n",
       "first         NaN           NaN  ...              NaN                     NaN\n",
       "last          NaN           NaN  ...              NaN                     NaN\n",
       "mean          NaN           NaN  ...        33.976873                5.497433\n",
       "std           NaN           NaN  ...        10.914879                2.913223\n",
       "min           NaN           NaN  ...         7.150000                0.000000\n",
       "25%           NaN           NaN  ...        26.580000                2.980000\n",
       "50%           NaN           NaN  ...        32.450000                5.520000\n",
       "75%           NaN           NaN  ...        39.472500                7.970000\n",
       "max           NaN           NaN  ...        91.000000               11.000000\n",
       "\n",
       "[13 rows x 19 columns]"
      ]
     },
     "execution_count": 40,
     "metadata": {
      "tags": []
     },
     "output_type": "execute_result"
    }
   ],
   "source": [
    "train.describe(include='all')"
   ]
  },
  {
   "cell_type": "code",
   "execution_count": 0,
   "metadata": {
    "colab": {},
    "colab_type": "code",
    "id": "wmWPchZYI9N2"
   },
   "outputs": [],
   "source": []
  },
  {
   "cell_type": "code",
   "execution_count": 43,
   "metadata": {
    "colab": {
     "base_uri": "https://localhost:8080/",
     "height": 367
    },
    "colab_type": "code",
    "id": "VwJVoo0V_-qZ",
    "outputId": "78f34713-0cbe-4381-c18d-9d77091243f4"
   },
   "outputs": [
    {
     "data": {
      "text/plain": [
       "Text(0.5, 1.0, 'churn vs age')"
      ]
     },
     "execution_count": 43,
     "metadata": {
      "tags": []
     },
     "output_type": "execute_result"
    },
    {
     "data": {
      "image/png": "[encoded data removed]",
      "text/plain": [
       "<Figure size 720x360 with 1 Axes>"
      ]
     },
     "metadata": {
      "tags": []
     },
     "output_type": "display_data"
    }
   ],
   "source": [
    "sns.violinplot(x='Churn',y='age_when_entered',data=train)\n",
    "plt.title('churn vs age')\n",
    "#observations----people who entered the company a bit older tend to churn out"
   ]
  },
  {
   "cell_type": "code",
   "execution_count": 42,
   "metadata": {
    "colab": {
     "base_uri": "https://localhost:8080/",
     "height": 353
    },
    "colab_type": "code",
    "id": "ixY4Ex-7VZEy",
    "outputId": "21748fec-dec5-4c6c-f8d6-3385696efb04"
   },
   "outputs": [
    {
     "data": {
      "text/plain": [
       "CustomerID                         object\n",
       "CustomerName                       object\n",
       "Gender                             object\n",
       "Location                           object\n",
       "Education                          object\n",
       "MaritalStatus                      object\n",
       "Occupation                         object\n",
       "Ownhouse                           object\n",
       "CreditScore                         int64\n",
       "AccountBalance                    float64\n",
       "NumberOfProducts                    int64\n",
       "IsCreditCardCustomer                int64\n",
       "ActiveMember                        int64\n",
       "Salary                            float64\n",
       "Churn                              object\n",
       "customer_dob               datetime64[ns]\n",
       "customer_entry             datetime64[ns]\n",
       "age_when_entered                  float64\n",
       "time_spent_with_company           float64\n",
       "dtype: object"
      ]
     },
     "execution_count": 42,
     "metadata": {
      "tags": []
     },
     "output_type": "execute_result"
    }
   ],
   "source": [
    "train.dtypes"
   ]
  },
  {
   "cell_type": "code",
   "execution_count": 0,
   "metadata": {
    "colab": {},
    "colab_type": "code",
    "id": "jmW55dH2R7ZJ"
   },
   "outputs": [],
   "source": [
    "#creating functions to convert selected columns into categories\n",
    "\n",
    "def columns_train_val(df):\n",
    "  unwanted_cols=['CustomerID','CustomerName','customer_dob','customer_entry']\n",
    "  df.drop(unwanted_cols,axis=1,inplace=True)\n",
    "  to_cat_cols=['Gender','Location','Education','MaritalStatus','Occupation',\n",
    "               'Ownhouse','NumberOfProducts','IsCreditCardCustomer','ActiveMember','Churn']\n",
    "  df.loc[:,to_cat_cols]=df.loc[:,to_cat_cols].astype('category')\n",
    "  return df\n",
    "#2nd function is created since test doesnt have target but above function also uses\n",
    "#target variable \n",
    "def columns_test(df):\n",
    "  unwanted_cols=['CustomerID','CustomerName','customer_dob','customer_entry']\n",
    "  df.drop(unwanted_cols,axis=1,inplace=True)\n",
    "  to_cat_cols=['Gender','Location','Education','MaritalStatus','Occupation',\n",
    "               'Ownhouse','NumberOfProducts','IsCreditCardCustomer','ActiveMember']\n",
    "  df.loc[:,to_cat_cols]=df.loc[:,to_cat_cols].astype('category')\n",
    "  return df\n"
   ]
  },
  {
   "cell_type": "code",
   "execution_count": 45,
   "metadata": {
    "colab": {
     "base_uri": "https://localhost:8080/",
     "height": 286
    },
    "colab_type": "code",
    "id": "suyID1NUSZxg",
    "outputId": "060d73d3-915f-4b31-9a54-7fb87c41a00f"
   },
   "outputs": [
    {
     "data": {
      "text/plain": [
       "Gender                     category\n",
       "Location                   category\n",
       "Education                  category\n",
       "MaritalStatus              category\n",
       "Occupation                 category\n",
       "Ownhouse                   category\n",
       "CreditScore                   int64\n",
       "AccountBalance              float64\n",
       "NumberOfProducts           category\n",
       "IsCreditCardCustomer       category\n",
       "ActiveMember               category\n",
       "Salary                      float64\n",
       "Churn                      category\n",
       "age_when_entered            float64\n",
       "time_spent_with_company     float64\n",
       "dtype: object"
      ]
     },
     "execution_count": 45,
     "metadata": {
      "tags": []
     },
     "output_type": "execute_result"
    }
   ],
   "source": [
    "train=columns_train_val(train)\n",
    "val=columns_train_val(val)\n",
    "test=columns_test(test)\n",
    "train.dtypes"
   ]
  },
  {
   "cell_type": "code",
   "execution_count": 0,
   "metadata": {
    "colab": {},
    "colab_type": "code",
    "id": "196Nraokx52_"
   },
   "outputs": [],
   "source": []
  },
  {
   "cell_type": "code",
   "execution_count": 0,
   "metadata": {
    "colab": {},
    "colab_type": "code",
    "id": "0ICnwsSZeT3e"
   },
   "outputs": [],
   "source": [
    "#splitting the data into predictors and target\n",
    "def splitting_y(df):\n",
    "  df_x=df.loc[:,df.columns!='Churn']\n",
    "  df_y=df['Churn']\n",
    "  return df_x,df_y"
   ]
  },
  {
   "cell_type": "code",
   "execution_count": 0,
   "metadata": {
    "colab": {},
    "colab_type": "code",
    "id": "SiNh_g8EeYco"
   },
   "outputs": [],
   "source": [
    "train_x,train_y=splitting_y(train)\n",
    "val_x,val_y=splitting_y(val)\n",
    "test_x=test"
   ]
  },
  {
   "cell_type": "code",
   "execution_count": 48,
   "metadata": {
    "colab": {
     "base_uri": "https://localhost:8080/",
     "height": 101
    },
    "colab_type": "code",
    "id": "x7hzpu6Nfsg3",
    "outputId": "817376c1-ce3c-4b32-9473-ef0306a2d7a2"
   },
   "outputs": [
    {
     "name": "stdout",
     "output_type": "stream",
     "text": [
      "train_x shape: (6256, 14)\n",
      "train_y shape: (6256,)\n",
      "val_x shape: (1104, 14)\n",
      "val_y shape: (1104,)\n",
      "test_x shape: (1840, 14)\n"
     ]
    }
   ],
   "source": [
    "print('train_x shape:',train_x.shape)\n",
    "print('train_y shape:',train_y.shape)\n",
    "print('val_x shape:',val_x.shape)\n",
    "print('val_y shape:',val_y.shape)\n",
    "print('test_x shape:',test_x.shape)"
   ]
  },
  {
   "cell_type": "code",
   "execution_count": 0,
   "metadata": {
    "colab": {},
    "colab_type": "code",
    "id": "NBVBFFQxR7sx"
   },
   "outputs": [],
   "source": [
    "#separating numerical and categorical columns for standardization and dummification\n",
    "num_cols=['CreditScore','AccountBalance','Salary','age_when_entered','time_spent_with_company']\n",
    "cat_cols=['Gender','Location','Education','MaritalStatus','Occupation',\n",
    "          'Ownhouse','NumberOfProducts','IsCreditCardCustomer','ActiveMember']\n",
    "\n",
    "train_num_x=train_x.loc[:,num_cols]\n",
    "train_cat_x=train_x.loc[:,cat_cols]\n",
    "val_num_x=val_x.loc[:,num_cols]\n",
    "val_cat_x=val_x.loc[:,cat_cols]\n",
    "test_num_x=test_x.loc[:,num_cols]\n",
    "test_cat_x=test_x.loc[:,cat_cols]"
   ]
  },
  {
   "cell_type": "code",
   "execution_count": 0,
   "metadata": {
    "colab": {},
    "colab_type": "code",
    "id": "PWUsgsGKR75c"
   },
   "outputs": [],
   "source": [
    "#standardizing the numerical columns using standardscaler()\n",
    "scaler = StandardScaler()\n",
    "scaler.fit(train_num_x[train_num_x.columns])\n",
    "train_num_x[train_num_x.columns] = scaler.transform(train_num_x[train_num_x.columns])\n",
    "val_num_x[val_num_x.columns] = scaler.transform(val_num_x[val_num_x.columns])\n",
    "test_num_x[test_num_x.columns] = scaler.transform(test_num_x[test_num_x.columns])"
   ]
  },
  {
   "cell_type": "code",
   "execution_count": 51,
   "metadata": {
    "colab": {
     "base_uri": "https://localhost:8080/",
     "height": 284
    },
    "colab_type": "code",
    "id": "qx-pyU0hR7yq",
    "outputId": "2d073013-def2-4f64-c4d9-b5617329f7aa"
   },
   "outputs": [
    {
     "data": {
      "text/html": [
       "<div>\n",
       "<style scoped>\n",
       "    .dataframe tbody tr th:only-of-type {\n",
       "        vertical-align: middle;\n",
       "    }\n",
       "\n",
       "    .dataframe tbody tr th {\n",
       "        vertical-align: top;\n",
       "    }\n",
       "\n",
       "    .dataframe thead th {\n",
       "        text-align: right;\n",
       "    }\n",
       "</style>\n",
       "<table border=\"1\" class=\"dataframe\">\n",
       "  <thead>\n",
       "    <tr style=\"text-align: right;\">\n",
       "      <th></th>\n",
       "      <th>CreditScore</th>\n",
       "      <th>AccountBalance</th>\n",
       "      <th>Salary</th>\n",
       "      <th>age_when_entered</th>\n",
       "      <th>time_spent_with_company</th>\n",
       "    </tr>\n",
       "  </thead>\n",
       "  <tbody>\n",
       "    <tr>\n",
       "      <th>count</th>\n",
       "      <td>6.256000e+03</td>\n",
       "      <td>6.256000e+03</td>\n",
       "      <td>6.256000e+03</td>\n",
       "      <td>6.256000e+03</td>\n",
       "      <td>6.256000e+03</td>\n",
       "    </tr>\n",
       "    <tr>\n",
       "      <th>mean</th>\n",
       "      <td>3.691279e-18</td>\n",
       "      <td>1.465509e-16</td>\n",
       "      <td>8.848421e-17</td>\n",
       "      <td>3.815061e-17</td>\n",
       "      <td>-1.045271e-16</td>\n",
       "    </tr>\n",
       "    <tr>\n",
       "      <th>std</th>\n",
       "      <td>1.000080e+00</td>\n",
       "      <td>1.000080e+00</td>\n",
       "      <td>1.000080e+00</td>\n",
       "      <td>1.000080e+00</td>\n",
       "      <td>1.000080e+00</td>\n",
       "    </tr>\n",
       "    <tr>\n",
       "      <th>min</th>\n",
       "      <td>-3.123356e+00</td>\n",
       "      <td>-1.222081e+00</td>\n",
       "      <td>-1.734725e+00</td>\n",
       "      <td>-2.458022e+00</td>\n",
       "      <td>-1.887213e+00</td>\n",
       "    </tr>\n",
       "    <tr>\n",
       "      <th>25%</th>\n",
       "      <td>-6.997162e-01</td>\n",
       "      <td>-1.222081e+00</td>\n",
       "      <td>-8.557116e-01</td>\n",
       "      <td>-6.777413e-01</td>\n",
       "      <td>-8.642093e-01</td>\n",
       "    </tr>\n",
       "    <tr>\n",
       "      <th>50%</th>\n",
       "      <td>1.494676e-02</td>\n",
       "      <td>3.260204e-01</td>\n",
       "      <td>-9.055372e-03</td>\n",
       "      <td>-1.399004e-01</td>\n",
       "      <td>7.747070e-03</td>\n",
       "    </tr>\n",
       "    <tr>\n",
       "      <th>75%</th>\n",
       "      <td>6.881799e-01</td>\n",
       "      <td>8.191496e-01</td>\n",
       "      <td>8.603898e-01</td>\n",
       "      <td>5.035389e-01</td>\n",
       "      <td>8.488073e-01</td>\n",
       "    </tr>\n",
       "    <tr>\n",
       "      <th>max</th>\n",
       "      <td>2.055361e+00</td>\n",
       "      <td>2.804104e+00</td>\n",
       "      <td>1.753263e+00</td>\n",
       "      <td>5.224766e+00</td>\n",
       "      <td>1.888976e+00</td>\n",
       "    </tr>\n",
       "  </tbody>\n",
       "</table>\n",
       "</div>"
      ],
      "text/plain": [
       "        CreditScore  AccountBalance  ...  age_when_entered  time_spent_with_company\n",
       "count  6.256000e+03    6.256000e+03  ...      6.256000e+03             6.256000e+03\n",
       "mean   3.691279e-18    1.465509e-16  ...      3.815061e-17            -1.045271e-16\n",
       "std    1.000080e+00    1.000080e+00  ...      1.000080e+00             1.000080e+00\n",
       "min   -3.123356e+00   -1.222081e+00  ...     -2.458022e+00            -1.887213e+00\n",
       "25%   -6.997162e-01   -1.222081e+00  ...     -6.777413e-01            -8.642093e-01\n",
       "50%    1.494676e-02    3.260204e-01  ...     -1.399004e-01             7.747070e-03\n",
       "75%    6.881799e-01    8.191496e-01  ...      5.035389e-01             8.488073e-01\n",
       "max    2.055361e+00    2.804104e+00  ...      5.224766e+00             1.888976e+00\n",
       "\n",
       "[8 rows x 5 columns]"
      ]
     },
     "execution_count": 51,
     "metadata": {
      "tags": []
     },
     "output_type": "execute_result"
    }
   ],
   "source": [
    "train_num_x.describe()"
   ]
  },
  {
   "cell_type": "code",
   "execution_count": 0,
   "metadata": {
    "colab": {},
    "colab_type": "code",
    "id": "M7_08qd4R7qi"
   },
   "outputs": [],
   "source": [
    "#creating dummy variables of categorical variables\n",
    "train_dummy_x=pd.get_dummies(train_cat_x,drop_first=True)\n",
    "val_dummy_x=pd.get_dummies(val_cat_x,drop_first=True)\n",
    "test_dummy_x=pd.get_dummies(test_cat_x,drop_first=True)"
   ]
  },
  {
   "cell_type": "code",
   "execution_count": 0,
   "metadata": {
    "colab": {},
    "colab_type": "code",
    "id": "sAeUf2nJR7ob"
   },
   "outputs": [],
   "source": [
    "#combining standardized numerical dataframe and dummyfied categorical dataframe.\n",
    "full_train_x=pd.concat([train_num_x,train_dummy_x],axis=1)\n",
    "full_val_x=pd.concat([val_num_x,val_dummy_x],axis=1)\n",
    "full_test_x=pd.concat([test_num_x,test_dummy_x],axis=1)"
   ]
  },
  {
   "cell_type": "code",
   "execution_count": 54,
   "metadata": {
    "colab": {
     "base_uri": "https://localhost:8080/",
     "height": 321
    },
    "colab_type": "code",
    "id": "Eug9wv_DR7mQ",
    "outputId": "7bd057c4-02af-4d0f-da88-627ddc53f931"
   },
   "outputs": [
    {
     "data": {
      "text/html": [
       "<div>\n",
       "<style scoped>\n",
       "    .dataframe tbody tr th:only-of-type {\n",
       "        vertical-align: middle;\n",
       "    }\n",
       "\n",
       "    .dataframe tbody tr th {\n",
       "        vertical-align: top;\n",
       "    }\n",
       "\n",
       "    .dataframe thead th {\n",
       "        text-align: right;\n",
       "    }\n",
       "</style>\n",
       "<table border=\"1\" class=\"dataframe\">\n",
       "  <thead>\n",
       "    <tr style=\"text-align: right;\">\n",
       "      <th></th>\n",
       "      <th>CreditScore</th>\n",
       "      <th>AccountBalance</th>\n",
       "      <th>Salary</th>\n",
       "      <th>age_when_entered</th>\n",
       "      <th>time_spent_with_company</th>\n",
       "      <th>Gender_Male</th>\n",
       "      <th>Location_Location12</th>\n",
       "      <th>Location_Location13</th>\n",
       "      <th>Education_secondary</th>\n",
       "      <th>Education_tertiary</th>\n",
       "      <th>Education_unknown</th>\n",
       "      <th>MaritalStatus_married</th>\n",
       "      <th>MaritalStatus_single</th>\n",
       "      <th>Occupation_management</th>\n",
       "      <th>Occupation_retired</th>\n",
       "      <th>Occupation_self-employed</th>\n",
       "      <th>Occupation_services</th>\n",
       "      <th>Occupation_technician</th>\n",
       "      <th>Occupation_unknown</th>\n",
       "      <th>Ownhouse_unknown</th>\n",
       "      <th>Ownhouse_yes</th>\n",
       "      <th>NumberOfProducts_2</th>\n",
       "      <th>NumberOfProducts_3</th>\n",
       "      <th>NumberOfProducts_4</th>\n",
       "      <th>IsCreditCardCustomer_1</th>\n",
       "      <th>ActiveMember_1</th>\n",
       "    </tr>\n",
       "  </thead>\n",
       "  <tbody>\n",
       "    <tr>\n",
       "      <th>count</th>\n",
       "      <td>6.256000e+03</td>\n",
       "      <td>6.256000e+03</td>\n",
       "      <td>6.256000e+03</td>\n",
       "      <td>6.256000e+03</td>\n",
       "      <td>6.256000e+03</td>\n",
       "      <td>6256.000000</td>\n",
       "      <td>6256.000000</td>\n",
       "      <td>6256.000000</td>\n",
       "      <td>6256.000000</td>\n",
       "      <td>6256.000000</td>\n",
       "      <td>6256.000000</td>\n",
       "      <td>6256.000000</td>\n",
       "      <td>6256.000000</td>\n",
       "      <td>6256.000000</td>\n",
       "      <td>6256.000000</td>\n",
       "      <td>6256.000000</td>\n",
       "      <td>6256.000000</td>\n",
       "      <td>6256.000000</td>\n",
       "      <td>6256.000000</td>\n",
       "      <td>6256.000000</td>\n",
       "      <td>6256.000000</td>\n",
       "      <td>6256.000000</td>\n",
       "      <td>6256.000000</td>\n",
       "      <td>6256.000000</td>\n",
       "      <td>6256.000000</td>\n",
       "      <td>6256.000000</td>\n",
       "    </tr>\n",
       "    <tr>\n",
       "      <th>mean</th>\n",
       "      <td>3.691279e-18</td>\n",
       "      <td>1.465509e-16</td>\n",
       "      <td>8.848421e-17</td>\n",
       "      <td>3.815061e-17</td>\n",
       "      <td>-1.045271e-16</td>\n",
       "      <td>0.545716</td>\n",
       "      <td>0.250000</td>\n",
       "      <td>0.250799</td>\n",
       "      <td>0.253197</td>\n",
       "      <td>0.244565</td>\n",
       "      <td>0.248721</td>\n",
       "      <td>0.336317</td>\n",
       "      <td>0.349265</td>\n",
       "      <td>0.105339</td>\n",
       "      <td>0.046835</td>\n",
       "      <td>0.103101</td>\n",
       "      <td>0.102941</td>\n",
       "      <td>0.103740</td>\n",
       "      <td>0.106138</td>\n",
       "      <td>0.026055</td>\n",
       "      <td>0.472986</td>\n",
       "      <td>0.452685</td>\n",
       "      <td>0.025895</td>\n",
       "      <td>0.005435</td>\n",
       "      <td>0.705243</td>\n",
       "      <td>0.506394</td>\n",
       "    </tr>\n",
       "    <tr>\n",
       "      <th>std</th>\n",
       "      <td>1.000080e+00</td>\n",
       "      <td>1.000080e+00</td>\n",
       "      <td>1.000080e+00</td>\n",
       "      <td>1.000080e+00</td>\n",
       "      <td>1.000080e+00</td>\n",
       "      <td>0.497945</td>\n",
       "      <td>0.433047</td>\n",
       "      <td>0.433508</td>\n",
       "      <td>0.434878</td>\n",
       "      <td>0.429863</td>\n",
       "      <td>0.432306</td>\n",
       "      <td>0.472487</td>\n",
       "      <td>0.476776</td>\n",
       "      <td>0.307014</td>\n",
       "      <td>0.211302</td>\n",
       "      <td>0.304115</td>\n",
       "      <td>0.303906</td>\n",
       "      <td>0.304948</td>\n",
       "      <td>0.308039</td>\n",
       "      <td>0.159312</td>\n",
       "      <td>0.499310</td>\n",
       "      <td>0.497796</td>\n",
       "      <td>0.158835</td>\n",
       "      <td>0.073526</td>\n",
       "      <td>0.455970</td>\n",
       "      <td>0.499999</td>\n",
       "    </tr>\n",
       "    <tr>\n",
       "      <th>min</th>\n",
       "      <td>-3.123356e+00</td>\n",
       "      <td>-1.222081e+00</td>\n",
       "      <td>-1.734725e+00</td>\n",
       "      <td>-2.458022e+00</td>\n",
       "      <td>-1.887213e+00</td>\n",
       "      <td>0.000000</td>\n",
       "      <td>0.000000</td>\n",
       "      <td>0.000000</td>\n",
       "      <td>0.000000</td>\n",
       "      <td>0.000000</td>\n",
       "      <td>0.000000</td>\n",
       "      <td>0.000000</td>\n",
       "      <td>0.000000</td>\n",
       "      <td>0.000000</td>\n",
       "      <td>0.000000</td>\n",
       "      <td>0.000000</td>\n",
       "      <td>0.000000</td>\n",
       "      <td>0.000000</td>\n",
       "      <td>0.000000</td>\n",
       "      <td>0.000000</td>\n",
       "      <td>0.000000</td>\n",
       "      <td>0.000000</td>\n",
       "      <td>0.000000</td>\n",
       "      <td>0.000000</td>\n",
       "      <td>0.000000</td>\n",
       "      <td>0.000000</td>\n",
       "    </tr>\n",
       "    <tr>\n",
       "      <th>25%</th>\n",
       "      <td>-6.997162e-01</td>\n",
       "      <td>-1.222081e+00</td>\n",
       "      <td>-8.557116e-01</td>\n",
       "      <td>-6.777413e-01</td>\n",
       "      <td>-8.642093e-01</td>\n",
       "      <td>0.000000</td>\n",
       "      <td>0.000000</td>\n",
       "      <td>0.000000</td>\n",
       "      <td>0.000000</td>\n",
       "      <td>0.000000</td>\n",
       "      <td>0.000000</td>\n",
       "      <td>0.000000</td>\n",
       "      <td>0.000000</td>\n",
       "      <td>0.000000</td>\n",
       "      <td>0.000000</td>\n",
       "      <td>0.000000</td>\n",
       "      <td>0.000000</td>\n",
       "      <td>0.000000</td>\n",
       "      <td>0.000000</td>\n",
       "      <td>0.000000</td>\n",
       "      <td>0.000000</td>\n",
       "      <td>0.000000</td>\n",
       "      <td>0.000000</td>\n",
       "      <td>0.000000</td>\n",
       "      <td>0.000000</td>\n",
       "      <td>0.000000</td>\n",
       "    </tr>\n",
       "    <tr>\n",
       "      <th>50%</th>\n",
       "      <td>1.494676e-02</td>\n",
       "      <td>3.260204e-01</td>\n",
       "      <td>-9.055372e-03</td>\n",
       "      <td>-1.399004e-01</td>\n",
       "      <td>7.747070e-03</td>\n",
       "      <td>1.000000</td>\n",
       "      <td>0.000000</td>\n",
       "      <td>0.000000</td>\n",
       "      <td>0.000000</td>\n",
       "      <td>0.000000</td>\n",
       "      <td>0.000000</td>\n",
       "      <td>0.000000</td>\n",
       "      <td>0.000000</td>\n",
       "      <td>0.000000</td>\n",
       "      <td>0.000000</td>\n",
       "      <td>0.000000</td>\n",
       "      <td>0.000000</td>\n",
       "      <td>0.000000</td>\n",
       "      <td>0.000000</td>\n",
       "      <td>0.000000</td>\n",
       "      <td>0.000000</td>\n",
       "      <td>0.000000</td>\n",
       "      <td>0.000000</td>\n",
       "      <td>0.000000</td>\n",
       "      <td>1.000000</td>\n",
       "      <td>1.000000</td>\n",
       "    </tr>\n",
       "    <tr>\n",
       "      <th>75%</th>\n",
       "      <td>6.881799e-01</td>\n",
       "      <td>8.191496e-01</td>\n",
       "      <td>8.603898e-01</td>\n",
       "      <td>5.035389e-01</td>\n",
       "      <td>8.488073e-01</td>\n",
       "      <td>1.000000</td>\n",
       "      <td>0.250000</td>\n",
       "      <td>1.000000</td>\n",
       "      <td>1.000000</td>\n",
       "      <td>0.000000</td>\n",
       "      <td>0.000000</td>\n",
       "      <td>1.000000</td>\n",
       "      <td>1.000000</td>\n",
       "      <td>0.000000</td>\n",
       "      <td>0.000000</td>\n",
       "      <td>0.000000</td>\n",
       "      <td>0.000000</td>\n",
       "      <td>0.000000</td>\n",
       "      <td>0.000000</td>\n",
       "      <td>0.000000</td>\n",
       "      <td>1.000000</td>\n",
       "      <td>1.000000</td>\n",
       "      <td>0.000000</td>\n",
       "      <td>0.000000</td>\n",
       "      <td>1.000000</td>\n",
       "      <td>1.000000</td>\n",
       "    </tr>\n",
       "    <tr>\n",
       "      <th>max</th>\n",
       "      <td>2.055361e+00</td>\n",
       "      <td>2.804104e+00</td>\n",
       "      <td>1.753263e+00</td>\n",
       "      <td>5.224766e+00</td>\n",
       "      <td>1.888976e+00</td>\n",
       "      <td>1.000000</td>\n",
       "      <td>1.000000</td>\n",
       "      <td>1.000000</td>\n",
       "      <td>1.000000</td>\n",
       "      <td>1.000000</td>\n",
       "      <td>1.000000</td>\n",
       "      <td>1.000000</td>\n",
       "      <td>1.000000</td>\n",
       "      <td>1.000000</td>\n",
       "      <td>1.000000</td>\n",
       "      <td>1.000000</td>\n",
       "      <td>1.000000</td>\n",
       "      <td>1.000000</td>\n",
       "      <td>1.000000</td>\n",
       "      <td>1.000000</td>\n",
       "      <td>1.000000</td>\n",
       "      <td>1.000000</td>\n",
       "      <td>1.000000</td>\n",
       "      <td>1.000000</td>\n",
       "      <td>1.000000</td>\n",
       "      <td>1.000000</td>\n",
       "    </tr>\n",
       "  </tbody>\n",
       "</table>\n",
       "</div>"
      ],
      "text/plain": [
       "        CreditScore  AccountBalance  ...  IsCreditCardCustomer_1  ActiveMember_1\n",
       "count  6.256000e+03    6.256000e+03  ...             6256.000000     6256.000000\n",
       "mean   3.691279e-18    1.465509e-16  ...                0.705243        0.506394\n",
       "std    1.000080e+00    1.000080e+00  ...                0.455970        0.499999\n",
       "min   -3.123356e+00   -1.222081e+00  ...                0.000000        0.000000\n",
       "25%   -6.997162e-01   -1.222081e+00  ...                0.000000        0.000000\n",
       "50%    1.494676e-02    3.260204e-01  ...                1.000000        1.000000\n",
       "75%    6.881799e-01    8.191496e-01  ...                1.000000        1.000000\n",
       "max    2.055361e+00    2.804104e+00  ...                1.000000        1.000000\n",
       "\n",
       "[8 rows x 26 columns]"
      ]
     },
     "execution_count": 54,
     "metadata": {
      "tags": []
     },
     "output_type": "execute_result"
    }
   ],
   "source": [
    "full_train_x.describe()"
   ]
  },
  {
   "cell_type": "code",
   "execution_count": 55,
   "metadata": {
    "colab": {
     "base_uri": "https://localhost:8080/",
     "height": 67
    },
    "colab_type": "code",
    "id": "GDyw0jPpR7ju",
    "outputId": "6a142f57-091e-467b-e9e1-ee0ca06ae4ef"
   },
   "outputs": [
    {
     "name": "stdout",
     "output_type": "stream",
     "text": [
      "full train_x shape: (6256, 26)\n",
      "full_val_x shape: (1104, 26)\n",
      "full_test_x shape: (1840, 26)\n"
     ]
    }
   ],
   "source": [
    "print('full train_x shape:',full_train_x.shape)\n",
    "print('full_val_x shape:',full_val_x.shape)\n",
    "print('full_test_x shape:',full_test_x.shape)"
   ]
  },
  {
   "cell_type": "code",
   "execution_count": 56,
   "metadata": {
    "colab": {
     "base_uri": "https://localhost:8080/",
     "height": 1000
    },
    "colab_type": "code",
    "id": "T7X1Eq5QR7h-",
    "outputId": "b9025b2d-c804-4c13-f45c-d1fd742a0e4f"
   },
   "outputs": [
    {
     "data": {
      "text/html": [
       "<div>\n",
       "<style scoped>\n",
       "    .dataframe tbody tr th:only-of-type {\n",
       "        vertical-align: middle;\n",
       "    }\n",
       "\n",
       "    .dataframe tbody tr th {\n",
       "        vertical-align: top;\n",
       "    }\n",
       "\n",
       "    .dataframe thead th {\n",
       "        text-align: right;\n",
       "    }\n",
       "</style>\n",
       "<table border=\"1\" class=\"dataframe\">\n",
       "  <thead>\n",
       "    <tr style=\"text-align: right;\">\n",
       "      <th></th>\n",
       "      <th>train data types</th>\n",
       "      <th>val data types</th>\n",
       "      <th>test data types</th>\n",
       "      <th>train_missing</th>\n",
       "      <th>val_missing</th>\n",
       "      <th>test_missing</th>\n",
       "      <th>#training levels</th>\n",
       "      <th>#validation levels</th>\n",
       "      <th>#testing levels</th>\n",
       "      <th>val_missing_levels</th>\n",
       "      <th>val_extra_levels</th>\n",
       "      <th>test_missing_levels</th>\n",
       "      <th>test_extra_levels</th>\n",
       "    </tr>\n",
       "  </thead>\n",
       "  <tbody>\n",
       "    <tr>\n",
       "      <th>CreditScore</th>\n",
       "      <td>float64</td>\n",
       "      <td>float64</td>\n",
       "      <td>float64</td>\n",
       "      <td>0</td>\n",
       "      <td>0</td>\n",
       "      <td>0</td>\n",
       "      <td>446</td>\n",
       "      <td>367</td>\n",
       "      <td>403</td>\n",
       "      <td>{-0.8240053717996797, 1.4132003048047146, 1.73...</td>\n",
       "      <td>{-2.191186618613476, -3.0404961810281073, -2.3...</td>\n",
       "      <td>{1.5478469427484978, 2.0139314587077464, 1.993...</td>\n",
       "      <td>{-2.750488037764575, -2.657271134572725, -2.45...</td>\n",
       "    </tr>\n",
       "    <tr>\n",
       "      <th>AccountBalance</th>\n",
       "      <td>float64</td>\n",
       "      <td>float64</td>\n",
       "      <td>float64</td>\n",
       "      <td>0</td>\n",
       "      <td>0</td>\n",
       "      <td>0</td>\n",
       "      <td>3989</td>\n",
       "      <td>718</td>\n",
       "      <td>1153</td>\n",
       "      <td>{0.42630024206610884, 1.2139044752388273, 1.65...</td>\n",
       "      <td>{0.44703790222097783, 0.5427594624857779, 0.71...</td>\n",
       "      <td>{0.42630024206610884, 1.2139044752388273, 1.26...</td>\n",
       "      <td>{0.7923829286452575, 1.1551969825563377, 1.442...</td>\n",
       "    </tr>\n",
       "    <tr>\n",
       "      <th>Salary</th>\n",
       "      <td>float64</td>\n",
       "      <td>float64</td>\n",
       "      <td>float64</td>\n",
       "      <td>0</td>\n",
       "      <td>0</td>\n",
       "      <td>0</td>\n",
       "      <td>6255</td>\n",
       "      <td>1104</td>\n",
       "      <td>1840</td>\n",
       "      <td>{-0.56392230428564, 1.5492412276798575, 1.5537...</td>\n",
       "      <td>{-0.8014878154177669, 1.5390421858384604, 1.64...</td>\n",
       "      <td>{-0.56392230428564, 1.5492412276798575, -0.681...</td>\n",
       "      <td>{0.7377994651906405, 1.661182292450743, 0.6152...</td>\n",
       "    </tr>\n",
       "    <tr>\n",
       "      <th>age_when_entered</th>\n",
       "      <td>float64</td>\n",
       "      <td>float64</td>\n",
       "      <td>float64</td>\n",
       "      <td>0</td>\n",
       "      <td>0</td>\n",
       "      <td>0</td>\n",
       "      <td>3118</td>\n",
       "      <td>932</td>\n",
       "      <td>1444</td>\n",
       "      <td>{0.8249148763727021, 0.4556646036564871, 2.593...</td>\n",
       "      <td>{0.6755655104850025, 1.1391899223817887, 2.989...</td>\n",
       "      <td>{0.4556646036564871, 1.7063510112436688, 2.593...</td>\n",
       "      <td>{-0.5879484500005097, 1.2518891371314034, 2.40...</td>\n",
       "    </tr>\n",
       "    <tr>\n",
       "      <th>time_spent_with_company</th>\n",
       "      <td>float64</td>\n",
       "      <td>float64</td>\n",
       "      <td>float64</td>\n",
       "      <td>0</td>\n",
       "      <td>0</td>\n",
       "      <td>0</td>\n",
       "      <td>1070</td>\n",
       "      <td>673</td>\n",
       "      <td>842</td>\n",
       "      <td>{0.8762705295446995, 1.6452399168110956, 1.885...</td>\n",
       "      <td>{0.5158161292635758, 1.8340493645773988, 0.917...</td>\n",
       "      <td>{-0.5552483744289054, 1.885542850331845, -0.55...</td>\n",
       "      <td>{0.2308855080889734, 1.86151255697977, 1.83404...</td>\n",
       "    </tr>\n",
       "    <tr>\n",
       "      <th>Gender_Male</th>\n",
       "      <td>uint8</td>\n",
       "      <td>uint8</td>\n",
       "      <td>uint8</td>\n",
       "      <td>0</td>\n",
       "      <td>0</td>\n",
       "      <td>0</td>\n",
       "      <td>2</td>\n",
       "      <td>2</td>\n",
       "      <td>2</td>\n",
       "      <td>{}</td>\n",
       "      <td>{}</td>\n",
       "      <td>{}</td>\n",
       "      <td>{}</td>\n",
       "    </tr>\n",
       "    <tr>\n",
       "      <th>Location_Location12</th>\n",
       "      <td>uint8</td>\n",
       "      <td>uint8</td>\n",
       "      <td>uint8</td>\n",
       "      <td>0</td>\n",
       "      <td>0</td>\n",
       "      <td>0</td>\n",
       "      <td>2</td>\n",
       "      <td>2</td>\n",
       "      <td>2</td>\n",
       "      <td>{}</td>\n",
       "      <td>{}</td>\n",
       "      <td>{}</td>\n",
       "      <td>{}</td>\n",
       "    </tr>\n",
       "    <tr>\n",
       "      <th>Location_Location13</th>\n",
       "      <td>uint8</td>\n",
       "      <td>uint8</td>\n",
       "      <td>uint8</td>\n",
       "      <td>0</td>\n",
       "      <td>0</td>\n",
       "      <td>0</td>\n",
       "      <td>2</td>\n",
       "      <td>2</td>\n",
       "      <td>2</td>\n",
       "      <td>{}</td>\n",
       "      <td>{}</td>\n",
       "      <td>{}</td>\n",
       "      <td>{}</td>\n",
       "    </tr>\n",
       "    <tr>\n",
       "      <th>Education_secondary</th>\n",
       "      <td>uint8</td>\n",
       "      <td>uint8</td>\n",
       "      <td>uint8</td>\n",
       "      <td>0</td>\n",
       "      <td>0</td>\n",
       "      <td>0</td>\n",
       "      <td>2</td>\n",
       "      <td>2</td>\n",
       "      <td>2</td>\n",
       "      <td>{}</td>\n",
       "      <td>{}</td>\n",
       "      <td>{}</td>\n",
       "      <td>{}</td>\n",
       "    </tr>\n",
       "    <tr>\n",
       "      <th>Education_tertiary</th>\n",
       "      <td>uint8</td>\n",
       "      <td>uint8</td>\n",
       "      <td>uint8</td>\n",
       "      <td>0</td>\n",
       "      <td>0</td>\n",
       "      <td>0</td>\n",
       "      <td>2</td>\n",
       "      <td>2</td>\n",
       "      <td>2</td>\n",
       "      <td>{}</td>\n",
       "      <td>{}</td>\n",
       "      <td>{}</td>\n",
       "      <td>{}</td>\n",
       "    </tr>\n",
       "    <tr>\n",
       "      <th>Education_unknown</th>\n",
       "      <td>uint8</td>\n",
       "      <td>uint8</td>\n",
       "      <td>uint8</td>\n",
       "      <td>0</td>\n",
       "      <td>0</td>\n",
       "      <td>0</td>\n",
       "      <td>2</td>\n",
       "      <td>2</td>\n",
       "      <td>2</td>\n",
       "      <td>{}</td>\n",
       "      <td>{}</td>\n",
       "      <td>{}</td>\n",
       "      <td>{}</td>\n",
       "    </tr>\n",
       "    <tr>\n",
       "      <th>MaritalStatus_married</th>\n",
       "      <td>uint8</td>\n",
       "      <td>uint8</td>\n",
       "      <td>uint8</td>\n",
       "      <td>0</td>\n",
       "      <td>0</td>\n",
       "      <td>0</td>\n",
       "      <td>2</td>\n",
       "      <td>2</td>\n",
       "      <td>2</td>\n",
       "      <td>{}</td>\n",
       "      <td>{}</td>\n",
       "      <td>{}</td>\n",
       "      <td>{}</td>\n",
       "    </tr>\n",
       "    <tr>\n",
       "      <th>MaritalStatus_single</th>\n",
       "      <td>uint8</td>\n",
       "      <td>uint8</td>\n",
       "      <td>uint8</td>\n",
       "      <td>0</td>\n",
       "      <td>0</td>\n",
       "      <td>0</td>\n",
       "      <td>2</td>\n",
       "      <td>2</td>\n",
       "      <td>2</td>\n",
       "      <td>{}</td>\n",
       "      <td>{}</td>\n",
       "      <td>{}</td>\n",
       "      <td>{}</td>\n",
       "    </tr>\n",
       "    <tr>\n",
       "      <th>Occupation_management</th>\n",
       "      <td>uint8</td>\n",
       "      <td>uint8</td>\n",
       "      <td>uint8</td>\n",
       "      <td>0</td>\n",
       "      <td>0</td>\n",
       "      <td>0</td>\n",
       "      <td>2</td>\n",
       "      <td>2</td>\n",
       "      <td>2</td>\n",
       "      <td>{}</td>\n",
       "      <td>{}</td>\n",
       "      <td>{}</td>\n",
       "      <td>{}</td>\n",
       "    </tr>\n",
       "    <tr>\n",
       "      <th>Occupation_retired</th>\n",
       "      <td>uint8</td>\n",
       "      <td>uint8</td>\n",
       "      <td>uint8</td>\n",
       "      <td>0</td>\n",
       "      <td>0</td>\n",
       "      <td>0</td>\n",
       "      <td>2</td>\n",
       "      <td>2</td>\n",
       "      <td>2</td>\n",
       "      <td>{}</td>\n",
       "      <td>{}</td>\n",
       "      <td>{}</td>\n",
       "      <td>{}</td>\n",
       "    </tr>\n",
       "    <tr>\n",
       "      <th>Occupation_self-employed</th>\n",
       "      <td>uint8</td>\n",
       "      <td>uint8</td>\n",
       "      <td>uint8</td>\n",
       "      <td>0</td>\n",
       "      <td>0</td>\n",
       "      <td>0</td>\n",
       "      <td>2</td>\n",
       "      <td>2</td>\n",
       "      <td>2</td>\n",
       "      <td>{}</td>\n",
       "      <td>{}</td>\n",
       "      <td>{}</td>\n",
       "      <td>{}</td>\n",
       "    </tr>\n",
       "    <tr>\n",
       "      <th>Occupation_services</th>\n",
       "      <td>uint8</td>\n",
       "      <td>uint8</td>\n",
       "      <td>uint8</td>\n",
       "      <td>0</td>\n",
       "      <td>0</td>\n",
       "      <td>0</td>\n",
       "      <td>2</td>\n",
       "      <td>2</td>\n",
       "      <td>2</td>\n",
       "      <td>{}</td>\n",
       "      <td>{}</td>\n",
       "      <td>{}</td>\n",
       "      <td>{}</td>\n",
       "    </tr>\n",
       "    <tr>\n",
       "      <th>Occupation_technician</th>\n",
       "      <td>uint8</td>\n",
       "      <td>uint8</td>\n",
       "      <td>uint8</td>\n",
       "      <td>0</td>\n",
       "      <td>0</td>\n",
       "      <td>0</td>\n",
       "      <td>2</td>\n",
       "      <td>2</td>\n",
       "      <td>2</td>\n",
       "      <td>{}</td>\n",
       "      <td>{}</td>\n",
       "      <td>{}</td>\n",
       "      <td>{}</td>\n",
       "    </tr>\n",
       "    <tr>\n",
       "      <th>Occupation_unknown</th>\n",
       "      <td>uint8</td>\n",
       "      <td>uint8</td>\n",
       "      <td>uint8</td>\n",
       "      <td>0</td>\n",
       "      <td>0</td>\n",
       "      <td>0</td>\n",
       "      <td>2</td>\n",
       "      <td>2</td>\n",
       "      <td>2</td>\n",
       "      <td>{}</td>\n",
       "      <td>{}</td>\n",
       "      <td>{}</td>\n",
       "      <td>{}</td>\n",
       "    </tr>\n",
       "    <tr>\n",
       "      <th>Ownhouse_unknown</th>\n",
       "      <td>uint8</td>\n",
       "      <td>uint8</td>\n",
       "      <td>uint8</td>\n",
       "      <td>0</td>\n",
       "      <td>0</td>\n",
       "      <td>0</td>\n",
       "      <td>2</td>\n",
       "      <td>2</td>\n",
       "      <td>2</td>\n",
       "      <td>{}</td>\n",
       "      <td>{}</td>\n",
       "      <td>{}</td>\n",
       "      <td>{}</td>\n",
       "    </tr>\n",
       "    <tr>\n",
       "      <th>Ownhouse_yes</th>\n",
       "      <td>uint8</td>\n",
       "      <td>uint8</td>\n",
       "      <td>uint8</td>\n",
       "      <td>0</td>\n",
       "      <td>0</td>\n",
       "      <td>0</td>\n",
       "      <td>2</td>\n",
       "      <td>2</td>\n",
       "      <td>2</td>\n",
       "      <td>{}</td>\n",
       "      <td>{}</td>\n",
       "      <td>{}</td>\n",
       "      <td>{}</td>\n",
       "    </tr>\n",
       "    <tr>\n",
       "      <th>NumberOfProducts_2</th>\n",
       "      <td>uint8</td>\n",
       "      <td>uint8</td>\n",
       "      <td>uint8</td>\n",
       "      <td>0</td>\n",
       "      <td>0</td>\n",
       "      <td>0</td>\n",
       "      <td>2</td>\n",
       "      <td>2</td>\n",
       "      <td>2</td>\n",
       "      <td>{}</td>\n",
       "      <td>{}</td>\n",
       "      <td>{}</td>\n",
       "      <td>{}</td>\n",
       "    </tr>\n",
       "    <tr>\n",
       "      <th>NumberOfProducts_3</th>\n",
       "      <td>uint8</td>\n",
       "      <td>uint8</td>\n",
       "      <td>uint8</td>\n",
       "      <td>0</td>\n",
       "      <td>0</td>\n",
       "      <td>0</td>\n",
       "      <td>2</td>\n",
       "      <td>2</td>\n",
       "      <td>2</td>\n",
       "      <td>{}</td>\n",
       "      <td>{}</td>\n",
       "      <td>{}</td>\n",
       "      <td>{}</td>\n",
       "    </tr>\n",
       "    <tr>\n",
       "      <th>NumberOfProducts_4</th>\n",
       "      <td>uint8</td>\n",
       "      <td>uint8</td>\n",
       "      <td>uint8</td>\n",
       "      <td>0</td>\n",
       "      <td>0</td>\n",
       "      <td>0</td>\n",
       "      <td>2</td>\n",
       "      <td>2</td>\n",
       "      <td>2</td>\n",
       "      <td>{}</td>\n",
       "      <td>{}</td>\n",
       "      <td>{}</td>\n",
       "      <td>{}</td>\n",
       "    </tr>\n",
       "    <tr>\n",
       "      <th>IsCreditCardCustomer_1</th>\n",
       "      <td>uint8</td>\n",
       "      <td>uint8</td>\n",
       "      <td>uint8</td>\n",
       "      <td>0</td>\n",
       "      <td>0</td>\n",
       "      <td>0</td>\n",
       "      <td>2</td>\n",
       "      <td>2</td>\n",
       "      <td>2</td>\n",
       "      <td>{}</td>\n",
       "      <td>{}</td>\n",
       "      <td>{}</td>\n",
       "      <td>{}</td>\n",
       "    </tr>\n",
       "    <tr>\n",
       "      <th>ActiveMember_1</th>\n",
       "      <td>uint8</td>\n",
       "      <td>uint8</td>\n",
       "      <td>uint8</td>\n",
       "      <td>0</td>\n",
       "      <td>0</td>\n",
       "      <td>0</td>\n",
       "      <td>2</td>\n",
       "      <td>2</td>\n",
       "      <td>2</td>\n",
       "      <td>{}</td>\n",
       "      <td>{}</td>\n",
       "      <td>{}</td>\n",
       "      <td>{}</td>\n",
       "    </tr>\n",
       "  </tbody>\n",
       "</table>\n",
       "</div>"
      ],
      "text/plain": [
       "                         train data types  ...                                  test_extra_levels\n",
       "CreditScore                       float64  ...  {-2.750488037764575, -2.657271134572725, -2.45...\n",
       "AccountBalance                    float64  ...  {0.7923829286452575, 1.1551969825563377, 1.442...\n",
       "Salary                            float64  ...  {0.7377994651906405, 1.661182292450743, 0.6152...\n",
       "age_when_entered                  float64  ...  {-0.5879484500005097, 1.2518891371314034, 2.40...\n",
       "time_spent_with_company           float64  ...  {0.2308855080889734, 1.86151255697977, 1.83404...\n",
       "Gender_Male                         uint8  ...                                                 {}\n",
       "Location_Location12                 uint8  ...                                                 {}\n",
       "Location_Location13                 uint8  ...                                                 {}\n",
       "Education_secondary                 uint8  ...                                                 {}\n",
       "Education_tertiary                  uint8  ...                                                 {}\n",
       "Education_unknown                   uint8  ...                                                 {}\n",
       "MaritalStatus_married               uint8  ...                                                 {}\n",
       "MaritalStatus_single                uint8  ...                                                 {}\n",
       "Occupation_management               uint8  ...                                                 {}\n",
       "Occupation_retired                  uint8  ...                                                 {}\n",
       "Occupation_self-employed            uint8  ...                                                 {}\n",
       "Occupation_services                 uint8  ...                                                 {}\n",
       "Occupation_technician               uint8  ...                                                 {}\n",
       "Occupation_unknown                  uint8  ...                                                 {}\n",
       "Ownhouse_unknown                    uint8  ...                                                 {}\n",
       "Ownhouse_yes                        uint8  ...                                                 {}\n",
       "NumberOfProducts_2                  uint8  ...                                                 {}\n",
       "NumberOfProducts_3                  uint8  ...                                                 {}\n",
       "NumberOfProducts_4                  uint8  ...                                                 {}\n",
       "IsCreditCardCustomer_1              uint8  ...                                                 {}\n",
       "ActiveMember_1                      uint8  ...                                                 {}\n",
       "\n",
       "[26 rows x 13 columns]"
      ]
     },
     "execution_count": 56,
     "metadata": {
      "tags": []
     },
     "output_type": "execute_result"
    }
   ],
   "source": [
    "compare_train_val_test(full_train_x,full_val_x,full_test_x)\n",
    "#no missing levels in different dataframes....yaaayyy:D"
   ]
  },
  {
   "cell_type": "markdown",
   "metadata": {
    "colab_type": "text",
    "id": "hu4f762_jWAE"
   },
   "source": [
    "## modelling\n",
    "## DT"
   ]
  },
  {
   "cell_type": "markdown",
   "metadata": {
    "colab_type": "text",
    "id": "z_PrgNWjq58k"
   },
   "source": [
    "### function to create learning curves"
   ]
  },
  {
   "cell_type": "code",
   "execution_count": 0,
   "metadata": {
    "colab": {},
    "colab_type": "code",
    "id": "CGAVoSnqq4oS"
   },
   "outputs": [],
   "source": [
    "#creating a function which will plot learning curves for our model\n",
    "#which will help us get bias and variance\n",
    "from sklearn.model_selection import learning_curve\n",
    "def plot_learning_curve(estimator, title, X, y, ylim=None, cv=None,n_jobs=None, train_sizes=np.linspace(.1, 1.0, 10)):\n",
    "    \n",
    "    plt.figure()\n",
    "    plt.title(title)\n",
    "    if ylim is not None:\n",
    "        plt.ylim(*ylim)#if y limits are given consider the specified limits\n",
    "    plt.xlabel(\"Training examples\")\n",
    "    plt.ylabel(\"Score\")\n",
    "    train_sizes, train_scores, test_scores = learning_curve(\n",
    "        estimator, X, y, cv=cv, n_jobs=n_jobs, train_sizes=train_sizes)\n",
    "    #getting means and std for train and test for particular train_sizes\n",
    "    #with specified cv.\n",
    "    train_scores_mean = np.mean(train_scores, axis=1)\n",
    "    train_scores_std = np.std(train_scores, axis=1)\n",
    "    test_scores_mean = np.mean(test_scores, axis=1)\n",
    "    test_scores_std = np.std(test_scores, axis=1)\n",
    "    plt.grid()\n",
    "    #creating connections between the training score points since we only get points.\n",
    "    plt.fill_between(train_sizes, train_scores_mean - train_scores_std,\n",
    "                     train_scores_mean + train_scores_std, alpha=0.1,\n",
    "                     color=\"r\")\n",
    "    #similarly for cross validation\n",
    "    plt.fill_between(train_sizes, test_scores_mean - test_scores_std,\n",
    "                     test_scores_mean + test_scores_std, alpha=0.1, color=\"g\")\n",
    "    plt.plot(train_sizes, train_scores_mean, 'o-', color=\"r\",\n",
    "             label=\"Training score\")\n",
    "    plt.plot(train_sizes, test_scores_mean, 'o-', color=\"g\",\n",
    "             label=\"Cross-validation score\")\n",
    "\n",
    "    plt.legend(loc=\"best\")\n",
    "    return plt"
   ]
  },
  {
   "cell_type": "code",
   "execution_count": 68,
   "metadata": {
    "colab": {
     "base_uri": "https://localhost:8080/",
     "height": 218
    },
    "colab_type": "code",
    "id": "F20rROiErecz",
    "outputId": "e22fa5c6-9d0f-40b9-9073-bba304f3f279"
   },
   "outputs": [
    {
     "name": "stdout",
     "output_type": "stream",
     "text": [
      "Fitting 5 folds for each of 1500 candidates, totalling 7500 fits\n"
     ]
    },
    {
     "name": "stderr",
     "output_type": "stream",
     "text": [
      "[Parallel(n_jobs=-1)]: Using backend LokyBackend with 2 concurrent workers.\n",
      "[Parallel(n_jobs=-1)]: Done 218 tasks      | elapsed:    4.3s\n",
      "[Parallel(n_jobs=-1)]: Done 1418 tasks      | elapsed:   19.0s\n",
      "[Parallel(n_jobs=-1)]: Done 3418 tasks      | elapsed:   43.6s\n",
      "[Parallel(n_jobs=-1)]: Done 6218 tasks      | elapsed:  1.3min\n",
      "[Parallel(n_jobs=-1)]: Done 7500 out of 7500 | elapsed:  1.6min finished\n"
     ]
    },
    {
     "data": {
      "text/plain": [
       "{'criterion': 'entropy',\n",
       " 'max_depth': 8,\n",
       " 'max_features': 'sqrt',\n",
       " 'min_samples_split': 0.06099999999999999,\n",
       " 'min_weight_fraction_leaf': 0.001}"
      ]
     },
     "execution_count": 68,
     "metadata": {
      "tags": []
     },
     "output_type": "execute_result"
    }
   ],
   "source": [
    "#creating a random search for some hyper parameters given in param_grid_1\n",
    "from sklearn import tree\n",
    "from sklearn.model_selection import RandomizedSearchCV,GridSearchCV\n",
    "dt=tree.DecisionTreeClassifier()\n",
    "#creating a parameter grid for randomizedcv to search in\n",
    "DT_param_grid_1={\n",
    "    'criterion':['gini','entropy'],#parameter for information gain\n",
    "    'max_depth':np.arange(4,20,1),#maximum depth of tree\n",
    "    'min_samples_split':np.arange(0.001,0.1,0.01),#The minimum number of samples required to split an internal node\n",
    "    'max_features':['log2','sqrt','auto'],#number of features considered for best split\n",
    "    'min_weight_fraction_leaf':np.arange(0.001,0.25,0.05)#minimum fraction of total samples in each leaf\n",
    "}\n",
    "#creating randomized search for DT_param_grid_1 with 1500 iterations \n",
    "r_search=RandomizedSearchCV(dt,param_distributions=DT_param_grid_1,n_iter=1500,verbose=1,cv=5,n_jobs=-1)\n",
    "r_search.fit(full_train_x,train_y)\n",
    "r_search.best_params_#getting the best parameters."
   ]
  },
  {
   "cell_type": "code",
   "execution_count": 0,
   "metadata": {
    "colab": {},
    "colab_type": "code",
    "id": "foycqJDzR7VU"
   },
   "outputs": [],
   "source": [
    "#creating a 2nd grid with values closer to best parameter values of randomized search\n",
    "#inorder to get finer results using grid search\n",
    "DT_param_grid_2={\n",
    "    'criterion':['gini','entropy'],\n",
    "    'max_depth':(6,7,8,9,10),\n",
    "    'min_samples_split':np.arange(0.02,0.1,0.0025),\n",
    "    'max_features':['log2','sqrt','auto'],\n",
    "    'min_weight_fraction_leaf':np.arange(0.0001,0.25,0.025)\n",
    "}"
   ]
  },
  {
   "cell_type": "code",
   "execution_count": 70,
   "metadata": {
    "colab": {
     "base_uri": "https://localhost:8080/",
     "height": 252
    },
    "colab_type": "code",
    "id": "yxeHP67bqN8s",
    "outputId": "cae3d3b4-67b0-4cb3-d231-a578b764f4ea"
   },
   "outputs": [
    {
     "name": "stdout",
     "output_type": "stream",
     "text": [
      "Fitting 3 folds for each of 9600 candidates, totalling 28800 fits\n"
     ]
    },
    {
     "name": "stderr",
     "output_type": "stream",
     "text": [
      "[Parallel(n_jobs=-1)]: Using backend LokyBackend with 2 concurrent workers.\n",
      "[Parallel(n_jobs=-1)]: Done 508 tasks      | elapsed:    6.0s\n",
      "[Parallel(n_jobs=-1)]: Done 2308 tasks      | elapsed:   27.3s\n",
      "[Parallel(n_jobs=-1)]: Done 5308 tasks      | elapsed:  1.0min\n",
      "[Parallel(n_jobs=-1)]: Done 9508 tasks      | elapsed:  1.9min\n",
      "[Parallel(n_jobs=-1)]: Done 14908 tasks      | elapsed:  2.9min\n",
      "[Parallel(n_jobs=-1)]: Done 21508 tasks      | elapsed:  4.3min\n",
      "[Parallel(n_jobs=-1)]: Done 28800 out of 28800 | elapsed:  5.8min finished\n"
     ]
    },
    {
     "data": {
      "text/plain": [
       "{'criterion': 'entropy',\n",
       " 'max_depth': 10,\n",
       " 'max_features': 'auto',\n",
       " 'min_samples_split': 0.04749999999999999,\n",
       " 'min_weight_fraction_leaf': 0.0001}"
      ]
     },
     "execution_count": 70,
     "metadata": {
      "tags": []
     },
     "output_type": "execute_result"
    }
   ],
   "source": [
    "dt=tree.DecisionTreeClassifier()\n",
    "grid_search=GridSearchCV(estimator=dt,param_grid = DT_param_grid_2,cv=3,verbose=1,n_jobs=-1)\n",
    "grid_search.fit(full_train_x,train_y)\n",
    "grid_search.best_params_#getting best parameters of grid search"
   ]
  },
  {
   "cell_type": "code",
   "execution_count": 0,
   "metadata": {
    "colab": {},
    "colab_type": "code",
    "id": "tQMwtvgMtbU3"
   },
   "outputs": [],
   "source": [
    "#creating decision tree classifier with best results form grid search\n",
    "dt=tree.DecisionTreeClassifier(criterion= 'entropy',max_depth= 10,max_features= 'auto',min_samples_split= 0.04749999999999999,min_weight_fraction_leaf= 0.0001)"
   ]
  },
  {
   "cell_type": "code",
   "execution_count": 72,
   "metadata": {
    "colab": {
     "base_uri": "https://localhost:8080/",
     "height": 367
    },
    "colab_type": "code",
    "id": "O8faZecsqeB7",
    "outputId": "af61769c-32bc-4253-823b-ac05871e5de7"
   },
   "outputs": [
    {
     "data": {
      "text/plain": [
       "<module 'matplotlib.pyplot' from '/usr/local/lib/python3.6/dist-packages/matplotlib/pyplot.py'>"
      ]
     },
     "execution_count": 72,
     "metadata": {
      "tags": []
     },
     "output_type": "execute_result"
    },
    {
     "data": {
      "image/png": "[encoded data removed]",
      "text/plain": [
       "<Figure size 720x360 with 1 Axes>"
      ]
     },
     "metadata": {
      "tags": []
     },
     "output_type": "display_data"
    }
   ],
   "source": [
    "#plotting learning curve for decision tree classifier\n",
    "plot_learning_curve(estimator=dt,title='decision_tree_learning_curves',X=full_train_x,y=train_y,ylim=(0.75,1.05),cv=5)\n",
    "#observations----very low variance ok bias"
   ]
  },
  {
   "cell_type": "code",
   "execution_count": 77,
   "metadata": {
    "colab": {
     "base_uri": "https://localhost:8080/",
     "height": 235
    },
    "colab_type": "code",
    "id": "85nWk4ePqd_j",
    "outputId": "6d4b6475-a7f4-4f19-bbd7-92b8f071500f"
   },
   "outputs": [
    {
     "name": "stdout",
     "output_type": "stream",
     "text": [
      "Decision tree classification report\n",
      "\n",
      "\n",
      "              precision    recall  f1-score   support\n",
      "\n",
      "          No       0.83      0.99      0.90       889\n",
      "         Yes       0.83      0.13      0.23       215\n",
      "\n",
      "    accuracy                           0.83      1104\n",
      "   macro avg       0.83      0.56      0.57      1104\n",
      "weighted avg       0.83      0.83      0.77      1104\n",
      "\n",
      "accuracy of model is: 0.8260869565217391\n"
     ]
    }
   ],
   "source": [
    "#predicting validation labels\n",
    "dt.fit(full_train_x,train_y)\n",
    "dt_predictions_val=dt.predict(full_val_x)\n",
    "print('Decision tree classification report\\n\\n')\n",
    "print(classification_report(val_y,dt_predictions_val))\n",
    "print('accuracy of model is:',accuracy_score(val_y,dt_predictions_val))\n",
    "#observations----though accuracy is good but recall score is very low \n",
    "#                what more can we expect from decision tree\n",
    "#                moving forward into building random forest"
   ]
  },
  {
   "cell_type": "markdown",
   "metadata": {
    "colab_type": "text",
    "id": "Nlih0JUZvZm-"
   },
   "source": [
    "## Random forest\n"
   ]
  },
  {
   "cell_type": "code",
   "execution_count": 78,
   "metadata": {
    "colab": {
     "base_uri": "https://localhost:8080/",
     "height": 134
    },
    "colab_type": "code",
    "id": "U_9Yq1_xqd6t",
    "outputId": "f46fd440-5283-415c-ee5f-9a7ddaf2f503"
   },
   "outputs": [
    {
     "data": {
      "text/plain": [
       "<bound method BaseEstimator.get_params of RandomForestClassifier(bootstrap=True, class_weight=None, criterion='gini',\n",
       "                       max_depth=None, max_features='auto', max_leaf_nodes=None,\n",
       "                       min_impurity_decrease=0.0, min_impurity_split=None,\n",
       "                       min_samples_leaf=1, min_samples_split=2,\n",
       "                       min_weight_fraction_leaf=0.0, n_estimators='warn',\n",
       "                       n_jobs=None, oob_score=False, random_state=None,\n",
       "                       verbose=0, warm_start=False)>"
      ]
     },
     "execution_count": 78,
     "metadata": {
      "tags": []
     },
     "output_type": "execute_result"
    }
   ],
   "source": [
    "#importing random forest classifier\n",
    "from sklearn.ensemble import RandomForestClassifier\n",
    "rf=RandomForestClassifier()\n",
    "rf.get_params"
   ]
  },
  {
   "cell_type": "code",
   "execution_count": 0,
   "metadata": {
    "colab": {},
    "colab_type": "code",
    "id": "1HTy51Wwqd4R"
   },
   "outputs": [],
   "source": [
    "#creating parameter grid for random search\n",
    "RF_grid_forest_1={'criterion':['gini','entropy'],\n",
    "      'n_estimators':np.arange(5,200,1),#number of trees you want in forest\n",
    "      'max_depth':np.arange(5,20,1),#mamimum depth of trees in forest \n",
    "      'min_samples_split':np.arange(0.001,0.1,0.01),#The minimum number of samples required to split an internal node\n",
    "      'max_features':['log2','sqrt','auto'],#maximum featuers to consider while checking for best split\n",
    "      'min_weight_fraction_leaf':np.arange(0.001,0.25,0.05)#minimum fraction of datapoints in each leaf\n",
    "}\n"
   ]
  },
  {
   "cell_type": "code",
   "execution_count": 83,
   "metadata": {
    "colab": {
     "base_uri": "https://localhost:8080/",
     "height": 286
    },
    "colab_type": "code",
    "id": "pXc4LhqWqdzX",
    "outputId": "fc68d0e2-29ae-4a49-cf42-7f35cf4cbb60"
   },
   "outputs": [
    {
     "name": "stdout",
     "output_type": "stream",
     "text": [
      "Fitting 3 folds for each of 1000 candidates, totalling 3000 fits\n"
     ]
    },
    {
     "name": "stderr",
     "output_type": "stream",
     "text": [
      "[Parallel(n_jobs=-1)]: Using backend LokyBackend with 2 concurrent workers.\n",
      "[Parallel(n_jobs=-1)]: Done  46 tasks      | elapsed:   10.1s\n",
      "[Parallel(n_jobs=-1)]: Done 196 tasks      | elapsed:   49.9s\n",
      "[Parallel(n_jobs=-1)]: Done 446 tasks      | elapsed:  1.7min\n",
      "[Parallel(n_jobs=-1)]: Done 796 tasks      | elapsed:  3.1min\n",
      "[Parallel(n_jobs=-1)]: Done 1246 tasks      | elapsed:  4.7min\n",
      "[Parallel(n_jobs=-1)]: Done 1796 tasks      | elapsed:  6.7min\n",
      "[Parallel(n_jobs=-1)]: Done 2446 tasks      | elapsed:  9.2min\n",
      "[Parallel(n_jobs=-1)]: Done 3000 out of 3000 | elapsed: 11.3min finished\n"
     ]
    },
    {
     "data": {
      "text/plain": [
       "{'criterion': 'entropy',\n",
       " 'max_depth': 14,\n",
       " 'max_features': 'auto',\n",
       " 'min_samples_split': 0.001,\n",
       " 'min_weight_fraction_leaf': 0.001,\n",
       " 'n_estimators': 140}"
      ]
     },
     "execution_count": 83,
     "metadata": {
      "tags": []
     },
     "output_type": "execute_result"
    }
   ],
   "source": [
    "#getting best parameters form random search\n",
    "rf_random=RandomizedSearchCV(estimator=rf,param_distributions=RF_grid_forest_1,n_iter=1000,n_jobs=-1,cv=3,verbose=1)\n",
    "rf_random.fit(full_train_x,train_y)\n",
    "rf_random.best_params_"
   ]
  },
  {
   "cell_type": "code",
   "execution_count": 0,
   "metadata": {
    "colab": {},
    "colab_type": "code",
    "id": "vOs5h7rsy9Ng"
   },
   "outputs": [],
   "source": [
    "rf=RandomForestClassifier(criterion='entropy',max_depth= 14,max_features= 'auto',min_samples_split= 0.001,min_weight_fraction_leaf= 0.001,n_estimators=140)"
   ]
  },
  {
   "cell_type": "code",
   "execution_count": 85,
   "metadata": {
    "colab": {
     "base_uri": "https://localhost:8080/",
     "height": 367
    },
    "colab_type": "code",
    "id": "10dAE8S3qdwK",
    "outputId": "24076f45-95d2-4bb4-b376-e58110363741"
   },
   "outputs": [
    {
     "data": {
      "text/plain": [
       "<module 'matplotlib.pyplot' from '/usr/local/lib/python3.6/dist-packages/matplotlib/pyplot.py'>"
      ]
     },
     "execution_count": 85,
     "metadata": {
      "tags": []
     },
     "output_type": "execute_result"
    },
    {
     "data": {
      "image/png": "[encoded data removed]",
      "text/plain": [
       "<Figure size 720x360 with 1 Axes>"
      ]
     },
     "metadata": {
      "tags": []
     },
     "output_type": "display_data"
    }
   ],
   "source": [
    "#plotting learning curve with parameters from randomized search random_forest_classifer\n",
    "plot_learning_curve(estimator=rf,title='RF_learning_curves',X=full_train_x,y=train_y,ylim=(0.75,1.05),cv=5)\n",
    "\n",
    "#observations----okbias....and ok variance"
   ]
  },
  {
   "cell_type": "code",
   "execution_count": 0,
   "metadata": {
    "colab": {},
    "colab_type": "code",
    "id": "MC-3l8Wlz-Bi"
   },
   "outputs": [],
   "source": [
    "#creating 2nd grid with values closer to best parameters from randomcv\n",
    "RF_grid_forest_2={'criterion':['entropy'],\n",
    "      'n_estimators':(135,140,145,150),\n",
    "      'max_depth':(12,13,14,15,16),\n",
    "      'min_samples_split':np.arange(0.001,0.01,0.005),\n",
    "      'max_features':['log2','auto'],    \n",
    "      'min_weight_fraction_leaf':np.arange(0.0001,0.1,0.005)\n",
    "}"
   ]
  },
  {
   "cell_type": "code",
   "execution_count": 92,
   "metadata": {
    "colab": {
     "base_uri": "https://localhost:8080/",
     "height": 319
    },
    "colab_type": "code",
    "id": "c0ElKCUo10xT",
    "outputId": "2fa5a0bc-6c23-4125-8361-cf881b7e2130"
   },
   "outputs": [
    {
     "name": "stdout",
     "output_type": "stream",
     "text": [
      "Fitting 3 folds for each of 1600 candidates, totalling 4800 fits\n"
     ]
    },
    {
     "name": "stderr",
     "output_type": "stream",
     "text": [
      "[Parallel(n_jobs=-1)]: Using backend LokyBackend with 2 concurrent workers.\n",
      "[Parallel(n_jobs=-1)]: Done  46 tasks      | elapsed:   27.9s\n",
      "[Parallel(n_jobs=-1)]: Done 196 tasks      | elapsed:  1.4min\n",
      "[Parallel(n_jobs=-1)]: Done 446 tasks      | elapsed:  3.0min\n",
      "[Parallel(n_jobs=-1)]: Done 796 tasks      | elapsed:  5.6min\n",
      "[Parallel(n_jobs=-1)]: Done 1246 tasks      | elapsed:  8.6min\n",
      "[Parallel(n_jobs=-1)]: Done 1796 tasks      | elapsed: 12.5min\n",
      "[Parallel(n_jobs=-1)]: Done 2446 tasks      | elapsed: 16.8min\n",
      "[Parallel(n_jobs=-1)]: Done 3196 tasks      | elapsed: 22.0min\n",
      "[Parallel(n_jobs=-1)]: Done 4046 tasks      | elapsed: 27.8min\n",
      "[Parallel(n_jobs=-1)]: Done 4800 out of 4800 | elapsed: 33.0min finished\n"
     ]
    },
    {
     "data": {
      "text/plain": [
       "{'criterion': 'entropy',\n",
       " 'max_depth': 16,\n",
       " 'max_features': 'auto',\n",
       " 'min_samples_split': 0.001,\n",
       " 'min_weight_fraction_leaf': 0.0001,\n",
       " 'n_estimators': 135}"
      ]
     },
     "execution_count": 92,
     "metadata": {
      "tags": []
     },
     "output_type": "execute_result"
    }
   ],
   "source": [
    "rf=RandomForestClassifier()\n",
    "grid_search_rf=GridSearchCV(estimator=rf,param_grid = RF_grid_forest_2,cv=3,n_jobs=-1,verbose=1)\n",
    "grid_search_rf.fit(full_train_x,train_y)\n",
    "grid_search_rf.best_params_"
   ]
  },
  {
   "cell_type": "code",
   "execution_count": 103,
   "metadata": {
    "colab": {
     "base_uri": "https://localhost:8080/",
     "height": 185
    },
    "colab_type": "code",
    "id": "NYaRiWoVqdtW",
    "outputId": "7c027c62-d7ba-4ef6-8c0b-5e045d847efe"
   },
   "outputs": [
    {
     "name": "stdout",
     "output_type": "stream",
     "text": [
      "              precision    recall  f1-score   support\n",
      "\n",
      "          No       0.87      0.97      0.92       889\n",
      "         Yes       0.76      0.38      0.51       215\n",
      "\n",
      "    accuracy                           0.86      1104\n",
      "   macro avg       0.81      0.68      0.71      1104\n",
      "weighted avg       0.85      0.86      0.84      1104\n",
      "\n",
      "0.8559782608695652\n"
     ]
    }
   ],
   "source": [
    "rf=RandomForestClassifier(criterion='entropy',n_estimators=135,max_depth=16,min_samples_split=0.001,max_features='auto',min_weight_fraction_leaf=0.0001)\n",
    "rf.fit(full_train_x,train_y)\n",
    "predictions=rf.predict(full_val_x)\n",
    "print(classification_report(val_y,predictions))\n",
    "print(accuracy_score(val_y,predictions))\n",
    "#observations----accuracy has increased from decision tree and recall score \n",
    "#                has increased to 0.38 form 0.13"
   ]
  },
  {
   "cell_type": "code",
   "execution_count": 105,
   "metadata": {
    "colab": {
     "base_uri": "https://localhost:8080/",
     "height": 367
    },
    "colab_type": "code",
    "id": "R_PTelon-I-p",
    "outputId": "83a1a0d5-408e-4b98-f1e6-81ab127d9cac"
   },
   "outputs": [
    {
     "data": {
      "text/plain": [
       "<module 'matplotlib.pyplot' from '/usr/local/lib/python3.6/dist-packages/matplotlib/pyplot.py'>"
      ]
     },
     "execution_count": 105,
     "metadata": {
      "tags": []
     },
     "output_type": "execute_result"
    },
    {
     "data": {
      "image/png": "[encoded data removed]",
      "text/plain": [
       "<Figure size 720x360 with 1 Axes>"
      ]
     },
     "metadata": {
      "tags": []
     },
     "output_type": "display_data"
    }
   ],
   "source": [
    "plot_learning_curve(estimator=rf,title='RF_learning_curves',X=full_train_x,y=train_y,ylim=(0.75,1.05),cv=5)\n",
    "#but variance of our model has increased....indicating model has started overfitting"
   ]
  },
  {
   "cell_type": "markdown",
   "metadata": {
    "colab_type": "text",
    "id": "tC-u9I6f_eFf"
   },
   "source": [
    "## Gradient Boosting classifier"
   ]
  },
  {
   "cell_type": "code",
   "execution_count": 59,
   "metadata": {
    "colab": {
     "base_uri": "https://localhost:8080/",
     "height": 185
    },
    "colab_type": "code",
    "id": "oPAiTS0F_Z1R",
    "outputId": "252ba2c8-d6dc-4fd8-fa5b-64426f1ad4db"
   },
   "outputs": [
    {
     "data": {
      "text/plain": [
       "<bound method BaseEstimator.get_params of GradientBoostingClassifier(criterion='friedman_mse', init=None,\n",
       "                           learning_rate=0.1, loss='deviance', max_depth=3,\n",
       "                           max_features=None, max_leaf_nodes=None,\n",
       "                           min_impurity_decrease=0.0, min_impurity_split=None,\n",
       "                           min_samples_leaf=1, min_samples_split=2,\n",
       "                           min_weight_fraction_leaf=0.0, n_estimators=100,\n",
       "                           n_iter_no_change=None, presort='auto',\n",
       "                           random_state=None, subsample=1.0, tol=0.0001,\n",
       "                           validation_fraction=0.1, verbose=0,\n",
       "                           warm_start=False)>"
      ]
     },
     "execution_count": 59,
     "metadata": {
      "tags": []
     },
     "output_type": "execute_result"
    }
   ],
   "source": [
    "from sklearn.ensemble import GradientBoostingClassifier\n",
    "gbc=GradientBoostingClassifier()\n",
    "gbc.get_params"
   ]
  },
  {
   "cell_type": "code",
   "execution_count": 0,
   "metadata": {
    "colab": {},
    "colab_type": "code",
    "id": "UUb40PzR_oTG"
   },
   "outputs": [],
   "source": [
    "#creating parameter grid for randomized search cv for gradient boosting\n",
    "gbc_param_grid_1={\n",
    "    'n_estimators':np.arange(50,200,10),\n",
    "    'learning_rate':np.arange(0.01,0.3,0.01),#howmuch you want to learcn from each tree\n",
    "    'subsample':np.arange(0.5,1.0,0.1),\n",
    "    'max_depth':np.arange(2,7,1),\n",
    "    'max_features':['sqrt','log2']\n",
    "}"
   ]
  },
  {
   "cell_type": "code",
   "execution_count": 114,
   "metadata": {
    "colab": {
     "base_uri": "https://localhost:8080/",
     "height": 356
    },
    "colab_type": "code",
    "id": "-DCOc2ZK_oP6",
    "outputId": "e70e06fd-65c1-4941-ef2f-27ddaf12c0da"
   },
   "outputs": [
    {
     "name": "stdout",
     "output_type": "stream",
     "text": [
      "Fitting 3 folds for each of 1500 candidates, totalling 4500 fits\n"
     ]
    },
    {
     "name": "stderr",
     "output_type": "stream",
     "text": [
      "/usr/local/lib/python3.6/dist-packages/sklearn/model_selection/_split.py:1978: FutureWarning: The default value of cv will change from 3 to 5 in version 0.22. Specify it explicitly to silence this warning.\n",
      "  warnings.warn(CV_WARNING, FutureWarning)\n",
      "[Parallel(n_jobs=-1)]: Using backend LokyBackend with 2 concurrent workers.\n",
      "[Parallel(n_jobs=-1)]: Done  46 tasks      | elapsed:   16.6s\n",
      "[Parallel(n_jobs=-1)]: Done 196 tasks      | elapsed:  1.1min\n",
      "[Parallel(n_jobs=-1)]: Done 446 tasks      | elapsed:  2.4min\n",
      "[Parallel(n_jobs=-1)]: Done 796 tasks      | elapsed:  4.4min\n",
      "[Parallel(n_jobs=-1)]: Done 1246 tasks      | elapsed:  6.9min\n",
      "[Parallel(n_jobs=-1)]: Done 1796 tasks      | elapsed:  9.9min\n",
      "[Parallel(n_jobs=-1)]: Done 2446 tasks      | elapsed: 13.6min\n",
      "[Parallel(n_jobs=-1)]: Done 3196 tasks      | elapsed: 17.7min\n",
      "[Parallel(n_jobs=-1)]: Done 4046 tasks      | elapsed: 22.3min\n",
      "[Parallel(n_jobs=-1)]: Done 4500 out of 4500 | elapsed: 25.0min finished\n"
     ]
    },
    {
     "data": {
      "text/plain": [
       "{'learning_rate': 0.04,\n",
       " 'max_depth': 6,\n",
       " 'max_features': 'sqrt',\n",
       " 'n_estimators': 180,\n",
       " 'subsample': 0.7}"
      ]
     },
     "execution_count": 114,
     "metadata": {
      "tags": []
     },
     "output_type": "execute_result"
    }
   ],
   "source": [
    "random_gbc=RandomizedSearchCV(estimator=gbc,param_distributions=gbc_param_grid_1,n_jobs=-1,n_iter=1500,verbose=1)\n",
    "random_gbc.fit(full_train_x,train_y)\n",
    "random_gbc.best_params_"
   ]
  },
  {
   "cell_type": "code",
   "execution_count": 0,
   "metadata": {
    "colab": {},
    "colab_type": "code",
    "id": "hffpvlrK_oOD"
   },
   "outputs": [],
   "source": [
    "gradient_boosting=GradientBoostingClassifier(learning_rate= 0.04,max_depth= 6,max_features= 'sqrt',n_estimators= 180,subsample= 0.7)\n"
   ]
  },
  {
   "cell_type": "code",
   "execution_count": 119,
   "metadata": {
    "colab": {
     "base_uri": "https://localhost:8080/",
     "height": 367
    },
    "colab_type": "code",
    "id": "FCBZ8nGCHebf",
    "outputId": "b2b241db-89aa-4c6d-971e-a037f409b4ba"
   },
   "outputs": [
    {
     "data": {
      "text/plain": [
       "<module 'matplotlib.pyplot' from '/usr/local/lib/python3.6/dist-packages/matplotlib/pyplot.py'>"
      ]
     },
     "execution_count": 119,
     "metadata": {
      "tags": []
     },
     "output_type": "execute_result"
    },
    {
     "data": {
      "image/png": "[encoded data removed]",
      "text/plain": [
       "<Figure size 720x360 with 1 Axes>"
      ]
     },
     "metadata": {
      "tags": []
     },
     "output_type": "display_data"
    }
   ],
   "source": [
    "#plotting a learning curve for gradient boosting form best parameters from\n",
    "#randomized search cv\n",
    "plot_learning_curve(estimator=gradient_boosting,title='GB_learning_curves',X=full_train_x,y=train_y,ylim=(0.75,1.05),cv=5)\n",
    "#observations----good bias and variance and we can improve the parameters from grid search"
   ]
  },
  {
   "cell_type": "code",
   "execution_count": 0,
   "metadata": {
    "colab": {},
    "colab_type": "code",
    "id": "F4Qe2Wvd_oKC"
   },
   "outputs": [],
   "source": [
    "#2nd parameter grid for refining the hyper_parameters using grid search\n",
    "gbc=GradientBoostingClassifier()\n",
    "gbc_param_grid_2={\n",
    "    'n_estimators':(160,170,175,180,185,190,200),\n",
    "    'learning_rate':np.arange(0.01,0.1,0.005),\n",
    "    'subsample':np.arange(0.5,0.9,0.05),\n",
    "    'max_depth':(5,6,7),\n",
    "    'max_features':['sqrt']\n",
    "}"
   ]
  },
  {
   "cell_type": "code",
   "execution_count": 127,
   "metadata": {
    "colab": {
     "base_uri": "https://localhost:8080/",
     "height": 370
    },
    "colab_type": "code",
    "id": "ZJfDgi9L_oFt",
    "outputId": "bb3d9298-2895-4e5d-ccb4-adf686bff2f7"
   },
   "outputs": [
    {
     "name": "stdout",
     "output_type": "stream",
     "text": [
      "Fitting 3 folds for each of 3024 candidates, totalling 9072 fits\n"
     ]
    },
    {
     "name": "stderr",
     "output_type": "stream",
     "text": [
      "[Parallel(n_jobs=-1)]: Using backend LokyBackend with 2 concurrent workers.\n",
      "[Parallel(n_jobs=-1)]: Done  46 tasks      | elapsed:   28.0s\n",
      "[Parallel(n_jobs=-1)]: Done 196 tasks      | elapsed:  2.1min\n",
      "[Parallel(n_jobs=-1)]: Done 446 tasks      | elapsed:  6.2min\n",
      "[Parallel(n_jobs=-1)]: Done 796 tasks      | elapsed: 10.9min\n",
      "[Parallel(n_jobs=-1)]: Done 1246 tasks      | elapsed: 17.5min\n",
      "[Parallel(n_jobs=-1)]: Done 1796 tasks      | elapsed: 25.4min\n",
      "[Parallel(n_jobs=-1)]: Done 2446 tasks      | elapsed: 35.3min\n",
      "[Parallel(n_jobs=-1)]: Done 3196 tasks      | elapsed: 45.9min\n",
      "[Parallel(n_jobs=-1)]: Done 4046 tasks      | elapsed: 58.9min\n",
      "[Parallel(n_jobs=-1)]: Done 4996 tasks      | elapsed: 72.5min\n",
      "[Parallel(n_jobs=-1)]: Done 6046 tasks      | elapsed: 87.9min\n",
      "[Parallel(n_jobs=-1)]: Done 7196 tasks      | elapsed: 104.1min\n",
      "[Parallel(n_jobs=-1)]: Done 8446 tasks      | elapsed: 122.4min\n",
      "[Parallel(n_jobs=-1)]: Done 9072 out of 9072 | elapsed: 132.3min finished\n"
     ]
    },
    {
     "data": {
      "text/plain": [
       "{'learning_rate': 0.034999999999999996,\n",
       " 'max_depth': 7,\n",
       " 'max_features': 'sqrt',\n",
       " 'n_estimators': 180,\n",
       " 'subsample': 0.55}"
      ]
     },
     "execution_count": 127,
     "metadata": {
      "tags": []
     },
     "output_type": "execute_result"
    }
   ],
   "source": [
    "grid_search_gbc=GridSearchCV(estimator=gbc,param_grid=gbc_param_grid_2,n_jobs=-1,cv=3,verbose=1)\n",
    "grid_search_gbc.fit(full_train_x,train_y)\n",
    "grid_search_gbc.best_params_"
   ]
  },
  {
   "cell_type": "code",
   "execution_count": 0,
   "metadata": {
    "colab": {},
    "colab_type": "code",
    "id": "5W3E8qAi_oDY"
   },
   "outputs": [],
   "source": [
    "gradient_boosting=GradientBoostingClassifier(learning_rate= 0.034999999999999996,max_depth= 7,max_features= 'sqrt',n_estimators= 180,subsample= 0.55)\n"
   ]
  },
  {
   "cell_type": "code",
   "execution_count": 129,
   "metadata": {
    "colab": {
     "base_uri": "https://localhost:8080/",
     "height": 367
    },
    "colab_type": "code",
    "id": "FBiVVLo0KScx",
    "outputId": "0a57da0e-f5fd-4082-878d-cf6ad59e2f76"
   },
   "outputs": [
    {
     "data": {
      "text/plain": [
       "<module 'matplotlib.pyplot' from '/usr/local/lib/python3.6/dist-packages/matplotlib/pyplot.py'>"
      ]
     },
     "execution_count": 129,
     "metadata": {
      "tags": []
     },
     "output_type": "execute_result"
    },
    {
     "data": {
      "image/png": "[encoded data removed]",
      "text/plain": [
       "<Figure size 720x360 with 1 Axes>"
      ]
     },
     "metadata": {
      "tags": []
     },
     "output_type": "display_data"
    }
   ],
   "source": [
    "plot_learning_curve(estimator=gradient_boosting,title='GB_learning_curves',X=full_train_x,y=train_y,ylim=(0.75,1.05),cv=5)\n",
    "#observations----there is bias and variance in our model\n",
    "#                from next step will try to simplify the models"
   ]
  },
  {
   "cell_type": "code",
   "execution_count": 130,
   "metadata": {
    "colab": {
     "base_uri": "https://localhost:8080/",
     "height": 185
    },
    "colab_type": "code",
    "id": "ssg3SsHDKSZ2",
    "outputId": "32cf06b7-066f-4a1f-f6d1-d257b09df6fe"
   },
   "outputs": [
    {
     "name": "stdout",
     "output_type": "stream",
     "text": [
      "              precision    recall  f1-score   support\n",
      "\n",
      "          No       0.87      0.97      0.92       889\n",
      "         Yes       0.74      0.41      0.53       215\n",
      "\n",
      "    accuracy                           0.86      1104\n",
      "   macro avg       0.81      0.69      0.72      1104\n",
      "weighted avg       0.85      0.86      0.84      1104\n",
      "\n",
      "0.8577898550724637\n"
     ]
    }
   ],
   "source": [
    "gradient_boosting.fit(full_train_x,train_y)\n",
    "val_predictions=gradient_boosting.predict(full_val_x)\n",
    "print(classification_report(val_y,val_predictions))\n",
    "print(accuracy_score(val_y,val_predictions))\n",
    "#observations----recall has increased but there is variance in the model"
   ]
  },
  {
   "cell_type": "code",
   "execution_count": 0,
   "metadata": {
    "colab": {},
    "colab_type": "code",
    "id": "7KIlczrKKSXk"
   },
   "outputs": [],
   "source": [
    "test_predictions=gradient_boosting.predict(full_test_x)\n"
   ]
  },
  {
   "cell_type": "code",
   "execution_count": 133,
   "metadata": {
    "colab": {
     "base_uri": "https://localhost:8080/",
     "height": 34
    },
    "colab_type": "code",
    "id": "56Wrtp_RKSU6",
    "outputId": "ee3988f3-fa6a-4c19-8087-ad4303d7ba38"
   },
   "outputs": [
    {
     "data": {
      "text/plain": [
       "array(['No', 'No', 'Yes', ..., 'No', 'No', 'Yes'], dtype=object)"
      ]
     },
     "execution_count": 133,
     "metadata": {
      "tags": []
     },
     "output_type": "execute_result"
    }
   ],
   "source": [
    "test_predictions"
   ]
  },
  {
   "cell_type": "code",
   "execution_count": 0,
   "metadata": {
    "colab": {},
    "colab_type": "code",
    "id": "YShPlWZ_KSSw"
   },
   "outputs": [],
   "source": [
    "submission_GBC = pd.DataFrame(list(zip(test_id, test_predictions)), columns =['CustomerID', 'Churn'])"
   ]
  },
  {
   "cell_type": "code",
   "execution_count": 137,
   "metadata": {
    "colab": {
     "base_uri": "https://localhost:8080/",
     "height": 195
    },
    "colab_type": "code",
    "id": "9IQL2CeiKSQp",
    "outputId": "c9945935-9bd8-4ce5-f818-b995ca9345fd"
   },
   "outputs": [
    {
     "data": {
      "text/html": [
       "<div>\n",
       "<style scoped>\n",
       "    .dataframe tbody tr th:only-of-type {\n",
       "        vertical-align: middle;\n",
       "    }\n",
       "\n",
       "    .dataframe tbody tr th {\n",
       "        vertical-align: top;\n",
       "    }\n",
       "\n",
       "    .dataframe thead th {\n",
       "        text-align: right;\n",
       "    }\n",
       "</style>\n",
       "<table border=\"1\" class=\"dataframe\">\n",
       "  <thead>\n",
       "    <tr style=\"text-align: right;\">\n",
       "      <th></th>\n",
       "      <th>CustomerID</th>\n",
       "      <th>Churn</th>\n",
       "    </tr>\n",
       "  </thead>\n",
       "  <tbody>\n",
       "    <tr>\n",
       "      <th>0</th>\n",
       "      <td>C5993228</td>\n",
       "      <td>No</td>\n",
       "    </tr>\n",
       "    <tr>\n",
       "      <th>1</th>\n",
       "      <td>C6546925</td>\n",
       "      <td>No</td>\n",
       "    </tr>\n",
       "    <tr>\n",
       "      <th>2</th>\n",
       "      <td>C7491750</td>\n",
       "      <td>Yes</td>\n",
       "    </tr>\n",
       "    <tr>\n",
       "      <th>3</th>\n",
       "      <td>C8462011</td>\n",
       "      <td>No</td>\n",
       "    </tr>\n",
       "    <tr>\n",
       "      <th>4</th>\n",
       "      <td>C3187447</td>\n",
       "      <td>No</td>\n",
       "    </tr>\n",
       "  </tbody>\n",
       "</table>\n",
       "</div>"
      ],
      "text/plain": [
       "  CustomerID Churn\n",
       "0   C5993228    No\n",
       "1   C6546925    No\n",
       "2   C7491750   Yes\n",
       "3   C8462011    No\n",
       "4   C3187447    No"
      ]
     },
     "execution_count": 137,
     "metadata": {
      "tags": []
     },
     "output_type": "execute_result"
    }
   ],
   "source": [
    "submission_GBC.head()"
   ]
  },
  {
   "cell_type": "code",
   "execution_count": 0,
   "metadata": {
    "colab": {},
    "colab_type": "code",
    "id": "3eR-SYlaKSOj"
   },
   "outputs": [],
   "source": [
    "submission_GBC['Churn']=[1 if x=='Yes' else 0 for x in submission_GBC['Churn']]"
   ]
  },
  {
   "cell_type": "code",
   "execution_count": 139,
   "metadata": {
    "colab": {
     "base_uri": "https://localhost:8080/",
     "height": 195
    },
    "colab_type": "code",
    "id": "IhgUGghhKSMP",
    "outputId": "f54a85f7-4531-4c2c-de27-faf896aa74a4"
   },
   "outputs": [
    {
     "data": {
      "text/html": [
       "<div>\n",
       "<style scoped>\n",
       "    .dataframe tbody tr th:only-of-type {\n",
       "        vertical-align: middle;\n",
       "    }\n",
       "\n",
       "    .dataframe tbody tr th {\n",
       "        vertical-align: top;\n",
       "    }\n",
       "\n",
       "    .dataframe thead th {\n",
       "        text-align: right;\n",
       "    }\n",
       "</style>\n",
       "<table border=\"1\" class=\"dataframe\">\n",
       "  <thead>\n",
       "    <tr style=\"text-align: right;\">\n",
       "      <th></th>\n",
       "      <th>CustomerID</th>\n",
       "      <th>Churn</th>\n",
       "    </tr>\n",
       "  </thead>\n",
       "  <tbody>\n",
       "    <tr>\n",
       "      <th>0</th>\n",
       "      <td>C5993228</td>\n",
       "      <td>0</td>\n",
       "    </tr>\n",
       "    <tr>\n",
       "      <th>1</th>\n",
       "      <td>C6546925</td>\n",
       "      <td>0</td>\n",
       "    </tr>\n",
       "    <tr>\n",
       "      <th>2</th>\n",
       "      <td>C7491750</td>\n",
       "      <td>1</td>\n",
       "    </tr>\n",
       "    <tr>\n",
       "      <th>3</th>\n",
       "      <td>C8462011</td>\n",
       "      <td>0</td>\n",
       "    </tr>\n",
       "    <tr>\n",
       "      <th>4</th>\n",
       "      <td>C3187447</td>\n",
       "      <td>0</td>\n",
       "    </tr>\n",
       "  </tbody>\n",
       "</table>\n",
       "</div>"
      ],
      "text/plain": [
       "  CustomerID  Churn\n",
       "0   C5993228      0\n",
       "1   C6546925      0\n",
       "2   C7491750      1\n",
       "3   C8462011      0\n",
       "4   C3187447      0"
      ]
     },
     "execution_count": 139,
     "metadata": {
      "tags": []
     },
     "output_type": "execute_result"
    }
   ],
   "source": [
    "submission_GBC.head()"
   ]
  },
  {
   "cell_type": "code",
   "execution_count": 140,
   "metadata": {
    "colab": {
     "base_uri": "https://localhost:8080/",
     "height": 121
    },
    "colab_type": "code",
    "id": "Jx4bfgq3qTvl",
    "outputId": "060a80cb-b247-43b2-c6b6-2de591714742"
   },
   "outputs": [
    {
     "name": "stdout",
     "output_type": "stream",
     "text": [
      "Go to this URL in a browser: https://accounts.google.com/o/oauth2/auth?client_id=947318989803-6bn6qk8qdgf4n4g3pfee6491hc0brc4i.apps.googleusercontent.com&redirect_uri=urn%3Aietf%3Awg%3Aoauth%3A2.0%3Aoob&scope=email%20https%3A%2F%2Fwww.googleapis.com%2Fauth%2Fdocs.test%20https%3A%2F%2Fwww.googleapis.com%2Fauth%2Fdrive%20https%3A%2F%2Fwww.googleapis.com%2Fauth%2Fdrive.photos.readonly%20https%3A%2F%2Fwww.googleapis.com%2Fauth%2Fpeopleapi.readonly&response_type=code\n",
      "\n",
      "Enter your authorization code:\n",
      "··········\n",
      "Mounted at /content/drive\n"
     ]
    }
   ],
   "source": [
    "from google.colab import drive\n",
    "drive.mount('/content/drive')"
   ]
  },
  {
   "cell_type": "code",
   "execution_count": 0,
   "metadata": {
    "colab": {},
    "colab_type": "code",
    "id": "e98NSomRKSKC"
   },
   "outputs": [],
   "source": [
    "submission_GBC.to_csv('submission_GBC.csv',index=False)\n",
    "!cp submission_GBC.csv drive/My\\ Drive/"
   ]
  },
  {
   "cell_type": "code",
   "execution_count": 0,
   "metadata": {
    "colab": {},
    "colab_type": "code",
    "id": "nqXgfqf3rPAe"
   },
   "outputs": [],
   "source": [
    "#reducing the number of hyper_parameters\n",
    "gbc_param_grid_1={\n",
    "    'n_estimators':np.arange(150,200,5),\n",
    "    'learning_rate':np.arange(0.01,0.3,0.1),\n",
    "    'max_depth':np.arange(2,7,1),\n",
    "    'max_features':['sqrt','log2']\n",
    "}"
   ]
  },
  {
   "cell_type": "code",
   "execution_count": 0,
   "metadata": {
    "colab": {},
    "colab_type": "code",
    "id": "yZ2LjmnyrO4u"
   },
   "outputs": [],
   "source": []
  },
  {
   "cell_type": "code",
   "execution_count": 77,
   "metadata": {
    "colab": {
     "base_uri": "https://localhost:8080/",
     "height": 185
    },
    "colab_type": "code",
    "id": "PRgv3ngTrO2T",
    "outputId": "c1a1ea8a-732d-49e1-c8f4-88144f253390"
   },
   "outputs": [
    {
     "name": "stdout",
     "output_type": "stream",
     "text": [
      "              precision    recall  f1-score   support\n",
      "\n",
      "          No       0.88      0.97      0.92       889\n",
      "         Yes       0.76      0.44      0.56       215\n",
      "\n",
      "    accuracy                           0.86      1104\n",
      "   macro avg       0.82      0.70      0.74      1104\n",
      "weighted avg       0.85      0.86      0.85      1104\n",
      "\n",
      "0.8641304347826086\n"
     ]
    }
   ],
   "source": [
    "gbc=GradientBoostingClassifier(learning_rate= 0.11,max_depth= 4,max_features= 'sqrt',n_estimators= 150)\n",
    "gbc.fit(full_train_x,train_y)\n",
    "predictions=gbc.predict(full_val_x)\n",
    "print(classification_report(val_y,predictions))\n",
    "print(accuracy_score(val_y,predictions))\n",
    "#observations----best recall score "
   ]
  },
  {
   "cell_type": "code",
   "execution_count": 78,
   "metadata": {
    "colab": {
     "base_uri": "https://localhost:8080/",
     "height": 367
    },
    "colab_type": "code",
    "id": "-nkKzp95rOyP",
    "outputId": "8d8762f3-851c-4b91-8134-2e0911c4c926"
   },
   "outputs": [
    {
     "data": {
      "text/plain": [
       "<module 'matplotlib.pyplot' from '/usr/local/lib/python3.6/dist-packages/matplotlib/pyplot.py'>"
      ]
     },
     "execution_count": 78,
     "metadata": {
      "tags": []
     },
     "output_type": "execute_result"
    },
    {
     "data": {
      "image/png": "[encoded data removed]",
      "text/plain": [
       "<Figure size 720x360 with 1 Axes>"
      ]
     },
     "metadata": {
      "tags": []
     },
     "output_type": "display_data"
    }
   ],
   "source": [
    "plot_learning_curve(estimator=gbc,title='GB_learning_curves',X=full_train_x,y=train_y,ylim=(0.75,1.05),cv=5)\n",
    "#best recall and good variance and bias \n",
    "#using this model to predict test"
   ]
  },
  {
   "cell_type": "code",
   "execution_count": 0,
   "metadata": {
    "colab": {},
    "colab_type": "code",
    "id": "Nualt7q5x7WK"
   },
   "outputs": [],
   "source": [
    "new_predictions=gbc.predict(full_test_x)\n",
    "new_submission_GBC = pd.DataFrame(list(zip(test_id, new_predictions)), columns =['CustomerID', 'Churn'])\n",
    "new_submission_GBC['Churn']=[1 if x=='Yes' else 0 for x in new_submission_GBC['Churn']]\n",
    "new_submission_GBC.to_csv('new_submission_GBC2.csv',index=False)"
   ]
  },
  {
   "cell_type": "code",
   "execution_count": 0,
   "metadata": {
    "colab": {},
    "colab_type": "code",
    "id": "7vrY1LA-2aOg"
   },
   "outputs": [],
   "source": []
  },
  {
   "cell_type": "code",
   "execution_count": 0,
   "metadata": {
    "colab": {},
    "colab_type": "code",
    "id": "qN0hRw0ayKcR"
   },
   "outputs": [],
   "source": []
  },
  {
   "cell_type": "code",
   "execution_count": 0,
   "metadata": {
    "colab": {},
    "colab_type": "code",
    "id": "60dol8ndyKZ6"
   },
   "outputs": [],
   "source": []
  },
  {
   "cell_type": "code",
   "execution_count": 0,
   "metadata": {
    "colab": {},
    "colab_type": "code",
    "id": "xDmLgVNhyKXU"
   },
   "outputs": [],
   "source": []
  },
  {
   "cell_type": "code",
   "execution_count": 0,
   "metadata": {
    "colab": {},
    "colab_type": "code",
    "id": "QhW6-ShOyKUU"
   },
   "outputs": [],
   "source": []
  },
  {
   "cell_type": "code",
   "execution_count": 0,
   "metadata": {
    "colab": {},
    "colab_type": "code",
    "id": "pVbnp6MyyKRo"
   },
   "outputs": [],
   "source": []
  },
  {
   "cell_type": "code",
   "execution_count": 0,
   "metadata": {
    "colab": {},
    "colab_type": "code",
    "id": "SIYut1YZyKOw"
   },
   "outputs": [],
   "source": []
  }
 ],
 "metadata": {
  "accelerator": "GPU",
  "colab": {
   "name": "churn_1(1).ipynb",
   "provenance": [],
   "toc_visible": true
  },
  "kernelspec": {
   "display_name": "Python 3",
   "language": "python",
   "name": "python3"
  },
  "language_info": {
   "codemirror_mode": {
    "name": "ipython",
    "version": 3
   },
   "file_extension": ".py",
   "mimetype": "text/x-python",
   "name": "python",
   "nbconvert_exporter": "python",
   "pygments_lexer": "ipython3",
   "version": "3.7.3"
  }
 },
 "nbformat": 4,
 "nbformat_minor": 1
}
