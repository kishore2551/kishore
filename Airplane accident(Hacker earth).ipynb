{
 "cells": [
  {
   "cell_type": "markdown",
   "metadata": {},
   "source": [
    "##### Importing required packages"
   ]
  },
  {
   "cell_type": "code",
   "execution_count": 1,
   "metadata": {},
   "outputs": [],
   "source": [
    "import pandas as pd  #for dealing with dataframes\n",
    "import numpy as np   #for better numerical operations"
   ]
  },
  {
   "cell_type": "markdown",
   "metadata": {},
   "source": [
    "###### Preparing a dataframes"
   ]
  },
  {
   "cell_type": "code",
   "execution_count": 2,
   "metadata": {},
   "outputs": [],
   "source": [
    "air_train = pd.read_csv(\"train.csv\")\n",
    "air_test = pd.read_csv(\"test.csv\")"
   ]
  },
  {
   "cell_type": "markdown",
   "metadata": {},
   "source": [
    "###### Getting the shape"
   ]
  },
  {
   "cell_type": "code",
   "execution_count": 3,
   "metadata": {},
   "outputs": [
    {
     "data": {
      "text/plain": [
       "(10000, 12)"
      ]
     },
     "execution_count": 3,
     "metadata": {},
     "output_type": "execute_result"
    }
   ],
   "source": [
    "air_train.shape"
   ]
  },
  {
   "cell_type": "code",
   "execution_count": 4,
   "metadata": {},
   "outputs": [
    {
     "data": {
      "text/plain": [
       "(2500, 11)"
      ]
     },
     "execution_count": 4,
     "metadata": {},
     "output_type": "execute_result"
    }
   ],
   "source": [
    "air_test.shape"
   ]
  },
  {
   "cell_type": "code",
   "execution_count": 5,
   "metadata": {},
   "outputs": [
    {
     "data": {
      "text/html": [
       "<div>\n",
       "<style scoped>\n",
       "    .dataframe tbody tr th:only-of-type {\n",
       "        vertical-align: middle;\n",
       "    }\n",
       "\n",
       "    .dataframe tbody tr th {\n",
       "        vertical-align: top;\n",
       "    }\n",
       "\n",
       "    .dataframe thead th {\n",
       "        text-align: right;\n",
       "    }\n",
       "</style>\n",
       "<table border=\"1\" class=\"dataframe\">\n",
       "  <thead>\n",
       "    <tr style=\"text-align: right;\">\n",
       "      <th></th>\n",
       "      <th>Severity</th>\n",
       "      <th>Safety_Score</th>\n",
       "      <th>Days_Since_Inspection</th>\n",
       "      <th>Total_Safety_Complaints</th>\n",
       "      <th>Control_Metric</th>\n",
       "      <th>Turbulence_In_gforces</th>\n",
       "      <th>Cabin_Temperature</th>\n",
       "      <th>Accident_Type_Code</th>\n",
       "      <th>Max_Elevation</th>\n",
       "      <th>Violations</th>\n",
       "      <th>Adverse_Weather_Metric</th>\n",
       "      <th>Accident_ID</th>\n",
       "    </tr>\n",
       "  </thead>\n",
       "  <tbody>\n",
       "    <tr>\n",
       "      <th>0</th>\n",
       "      <td>Minor_Damage_And_Injuries</td>\n",
       "      <td>49.223744</td>\n",
       "      <td>14</td>\n",
       "      <td>22</td>\n",
       "      <td>71.285324</td>\n",
       "      <td>0.272118</td>\n",
       "      <td>78.04</td>\n",
       "      <td>2</td>\n",
       "      <td>31335.476824</td>\n",
       "      <td>3</td>\n",
       "      <td>0.424352</td>\n",
       "      <td>7570</td>\n",
       "    </tr>\n",
       "    <tr>\n",
       "      <th>1</th>\n",
       "      <td>Minor_Damage_And_Injuries</td>\n",
       "      <td>62.465753</td>\n",
       "      <td>10</td>\n",
       "      <td>27</td>\n",
       "      <td>72.288058</td>\n",
       "      <td>0.423939</td>\n",
       "      <td>84.54</td>\n",
       "      <td>2</td>\n",
       "      <td>26024.711057</td>\n",
       "      <td>2</td>\n",
       "      <td>0.352350</td>\n",
       "      <td>12128</td>\n",
       "    </tr>\n",
       "    <tr>\n",
       "      <th>2</th>\n",
       "      <td>Significant_Damage_And_Fatalities</td>\n",
       "      <td>63.059361</td>\n",
       "      <td>13</td>\n",
       "      <td>16</td>\n",
       "      <td>66.362808</td>\n",
       "      <td>0.322604</td>\n",
       "      <td>78.86</td>\n",
       "      <td>7</td>\n",
       "      <td>39269.053927</td>\n",
       "      <td>3</td>\n",
       "      <td>0.003364</td>\n",
       "      <td>2181</td>\n",
       "    </tr>\n",
       "    <tr>\n",
       "      <th>3</th>\n",
       "      <td>Significant_Damage_And_Serious_Injuries</td>\n",
       "      <td>48.082192</td>\n",
       "      <td>11</td>\n",
       "      <td>9</td>\n",
       "      <td>74.703737</td>\n",
       "      <td>0.337029</td>\n",
       "      <td>81.79</td>\n",
       "      <td>3</td>\n",
       "      <td>42771.499200</td>\n",
       "      <td>1</td>\n",
       "      <td>0.211728</td>\n",
       "      <td>5946</td>\n",
       "    </tr>\n",
       "    <tr>\n",
       "      <th>4</th>\n",
       "      <td>Significant_Damage_And_Fatalities</td>\n",
       "      <td>26.484018</td>\n",
       "      <td>13</td>\n",
       "      <td>25</td>\n",
       "      <td>47.948952</td>\n",
       "      <td>0.541140</td>\n",
       "      <td>77.16</td>\n",
       "      <td>3</td>\n",
       "      <td>35509.228515</td>\n",
       "      <td>2</td>\n",
       "      <td>0.176883</td>\n",
       "      <td>9054</td>\n",
       "    </tr>\n",
       "  </tbody>\n",
       "</table>\n",
       "</div>"
      ],
      "text/plain": [
       "                                  Severity  Safety_Score  \\\n",
       "0                Minor_Damage_And_Injuries     49.223744   \n",
       "1                Minor_Damage_And_Injuries     62.465753   \n",
       "2        Significant_Damage_And_Fatalities     63.059361   \n",
       "3  Significant_Damage_And_Serious_Injuries     48.082192   \n",
       "4        Significant_Damage_And_Fatalities     26.484018   \n",
       "\n",
       "   Days_Since_Inspection  Total_Safety_Complaints  Control_Metric  \\\n",
       "0                     14                       22       71.285324   \n",
       "1                     10                       27       72.288058   \n",
       "2                     13                       16       66.362808   \n",
       "3                     11                        9       74.703737   \n",
       "4                     13                       25       47.948952   \n",
       "\n",
       "   Turbulence_In_gforces  Cabin_Temperature  Accident_Type_Code  \\\n",
       "0               0.272118              78.04                   2   \n",
       "1               0.423939              84.54                   2   \n",
       "2               0.322604              78.86                   7   \n",
       "3               0.337029              81.79                   3   \n",
       "4               0.541140              77.16                   3   \n",
       "\n",
       "   Max_Elevation  Violations  Adverse_Weather_Metric  Accident_ID  \n",
       "0   31335.476824           3                0.424352         7570  \n",
       "1   26024.711057           2                0.352350        12128  \n",
       "2   39269.053927           3                0.003364         2181  \n",
       "3   42771.499200           1                0.211728         5946  \n",
       "4   35509.228515           2                0.176883         9054  "
      ]
     },
     "execution_count": 5,
     "metadata": {},
     "output_type": "execute_result"
    }
   ],
   "source": [
    "air_train.head()"
   ]
  },
  {
   "cell_type": "code",
   "execution_count": 6,
   "metadata": {},
   "outputs": [
    {
     "data": {
      "text/html": [
       "<div>\n",
       "<style scoped>\n",
       "    .dataframe tbody tr th:only-of-type {\n",
       "        vertical-align: middle;\n",
       "    }\n",
       "\n",
       "    .dataframe tbody tr th {\n",
       "        vertical-align: top;\n",
       "    }\n",
       "\n",
       "    .dataframe thead th {\n",
       "        text-align: right;\n",
       "    }\n",
       "</style>\n",
       "<table border=\"1\" class=\"dataframe\">\n",
       "  <thead>\n",
       "    <tr style=\"text-align: right;\">\n",
       "      <th></th>\n",
       "      <th>Safety_Score</th>\n",
       "      <th>Days_Since_Inspection</th>\n",
       "      <th>Total_Safety_Complaints</th>\n",
       "      <th>Control_Metric</th>\n",
       "      <th>Turbulence_In_gforces</th>\n",
       "      <th>Cabin_Temperature</th>\n",
       "      <th>Accident_Type_Code</th>\n",
       "      <th>Max_Elevation</th>\n",
       "      <th>Violations</th>\n",
       "      <th>Adverse_Weather_Metric</th>\n",
       "      <th>Accident_ID</th>\n",
       "    </tr>\n",
       "  </thead>\n",
       "  <tbody>\n",
       "    <tr>\n",
       "      <th>0</th>\n",
       "      <td>19.497717</td>\n",
       "      <td>16</td>\n",
       "      <td>6</td>\n",
       "      <td>72.151322</td>\n",
       "      <td>0.388959</td>\n",
       "      <td>78.32</td>\n",
       "      <td>4</td>\n",
       "      <td>37949.724386</td>\n",
       "      <td>2</td>\n",
       "      <td>0.069692</td>\n",
       "      <td>1</td>\n",
       "    </tr>\n",
       "    <tr>\n",
       "      <th>1</th>\n",
       "      <td>58.173516</td>\n",
       "      <td>15</td>\n",
       "      <td>3</td>\n",
       "      <td>64.585232</td>\n",
       "      <td>0.250841</td>\n",
       "      <td>78.60</td>\n",
       "      <td>7</td>\n",
       "      <td>30194.805567</td>\n",
       "      <td>2</td>\n",
       "      <td>0.002777</td>\n",
       "      <td>10</td>\n",
       "    </tr>\n",
       "    <tr>\n",
       "      <th>2</th>\n",
       "      <td>33.287671</td>\n",
       "      <td>15</td>\n",
       "      <td>3</td>\n",
       "      <td>64.721969</td>\n",
       "      <td>0.336669</td>\n",
       "      <td>86.96</td>\n",
       "      <td>6</td>\n",
       "      <td>17572.925484</td>\n",
       "      <td>1</td>\n",
       "      <td>0.004316</td>\n",
       "      <td>14</td>\n",
       "    </tr>\n",
       "    <tr>\n",
       "      <th>3</th>\n",
       "      <td>3.287671</td>\n",
       "      <td>21</td>\n",
       "      <td>5</td>\n",
       "      <td>66.362808</td>\n",
       "      <td>0.421775</td>\n",
       "      <td>80.86</td>\n",
       "      <td>3</td>\n",
       "      <td>40209.186341</td>\n",
       "      <td>2</td>\n",
       "      <td>0.199990</td>\n",
       "      <td>17</td>\n",
       "    </tr>\n",
       "    <tr>\n",
       "      <th>4</th>\n",
       "      <td>10.867580</td>\n",
       "      <td>18</td>\n",
       "      <td>2</td>\n",
       "      <td>56.107566</td>\n",
       "      <td>0.313228</td>\n",
       "      <td>79.22</td>\n",
       "      <td>2</td>\n",
       "      <td>35495.525408</td>\n",
       "      <td>2</td>\n",
       "      <td>0.483696</td>\n",
       "      <td>21</td>\n",
       "    </tr>\n",
       "  </tbody>\n",
       "</table>\n",
       "</div>"
      ],
      "text/plain": [
       "   Safety_Score  Days_Since_Inspection  Total_Safety_Complaints  \\\n",
       "0     19.497717                     16                        6   \n",
       "1     58.173516                     15                        3   \n",
       "2     33.287671                     15                        3   \n",
       "3      3.287671                     21                        5   \n",
       "4     10.867580                     18                        2   \n",
       "\n",
       "   Control_Metric  Turbulence_In_gforces  Cabin_Temperature  \\\n",
       "0       72.151322               0.388959              78.32   \n",
       "1       64.585232               0.250841              78.60   \n",
       "2       64.721969               0.336669              86.96   \n",
       "3       66.362808               0.421775              80.86   \n",
       "4       56.107566               0.313228              79.22   \n",
       "\n",
       "   Accident_Type_Code  Max_Elevation  Violations  Adverse_Weather_Metric  \\\n",
       "0                   4   37949.724386           2                0.069692   \n",
       "1                   7   30194.805567           2                0.002777   \n",
       "2                   6   17572.925484           1                0.004316   \n",
       "3                   3   40209.186341           2                0.199990   \n",
       "4                   2   35495.525408           2                0.483696   \n",
       "\n",
       "   Accident_ID  \n",
       "0            1  \n",
       "1           10  \n",
       "2           14  \n",
       "3           17  \n",
       "4           21  "
      ]
     },
     "execution_count": 6,
     "metadata": {},
     "output_type": "execute_result"
    }
   ],
   "source": [
    "air_test.head()"
   ]
  },
  {
   "cell_type": "code",
   "execution_count": 7,
   "metadata": {},
   "outputs": [],
   "source": [
    "# information of the varibles \n",
    "def air_data(data):\n",
    "    return pd.DataFrame({\"Data Type\":data.dtypes,\"No of Unique Data\":data.apply(lambda x: x.nunique(),axis=0),\n",
    "                        \"Levels\":data.apply(lambda x: str(x.unique()),axis = 0),\"Null_values\":data.isnull().sum(),'null%':(data.isnull().sum()/100)})"
   ]
  },
  {
   "cell_type": "code",
   "execution_count": 8,
   "metadata": {},
   "outputs": [
    {
     "data": {
      "text/html": [
       "<div>\n",
       "<style scoped>\n",
       "    .dataframe tbody tr th:only-of-type {\n",
       "        vertical-align: middle;\n",
       "    }\n",
       "\n",
       "    .dataframe tbody tr th {\n",
       "        vertical-align: top;\n",
       "    }\n",
       "\n",
       "    .dataframe thead th {\n",
       "        text-align: right;\n",
       "    }\n",
       "</style>\n",
       "<table border=\"1\" class=\"dataframe\">\n",
       "  <thead>\n",
       "    <tr style=\"text-align: right;\">\n",
       "      <th></th>\n",
       "      <th>Data Type</th>\n",
       "      <th>No of Unique Data</th>\n",
       "      <th>Levels</th>\n",
       "      <th>Null_values</th>\n",
       "      <th>null%</th>\n",
       "    </tr>\n",
       "  </thead>\n",
       "  <tbody>\n",
       "    <tr>\n",
       "      <th>Severity</th>\n",
       "      <td>object</td>\n",
       "      <td>4</td>\n",
       "      <td>['Minor_Damage_And_Injuries' 'Significant_Dama...</td>\n",
       "      <td>0</td>\n",
       "      <td>0.0</td>\n",
       "    </tr>\n",
       "    <tr>\n",
       "      <th>Safety_Score</th>\n",
       "      <td>float64</td>\n",
       "      <td>1175</td>\n",
       "      <td>[49.2237442922374 62.4657534246575 63.05936073...</td>\n",
       "      <td>0</td>\n",
       "      <td>0.0</td>\n",
       "    </tr>\n",
       "    <tr>\n",
       "      <th>Days_Since_Inspection</th>\n",
       "      <td>int64</td>\n",
       "      <td>23</td>\n",
       "      <td>[14 10 13 11 15 18 5 6 12 7 8 17 9 16 20 19 21...</td>\n",
       "      <td>0</td>\n",
       "      <td>0.0</td>\n",
       "    </tr>\n",
       "    <tr>\n",
       "      <th>Total_Safety_Complaints</th>\n",
       "      <td>int64</td>\n",
       "      <td>44</td>\n",
       "      <td>[22 27 16 9 25 0 10 4 40 11 2 14 1 3 5 7 20 28...</td>\n",
       "      <td>0</td>\n",
       "      <td>0.0</td>\n",
       "    </tr>\n",
       "    <tr>\n",
       "      <th>Control_Metric</th>\n",
       "      <td>float64</td>\n",
       "      <td>952</td>\n",
       "      <td>[71.285323609845 72.2880583409298 66.362807657...</td>\n",
       "      <td>0</td>\n",
       "      <td>0.0</td>\n",
       "    </tr>\n",
       "    <tr>\n",
       "      <th>Turbulence_In_gforces</th>\n",
       "      <td>float64</td>\n",
       "      <td>1117</td>\n",
       "      <td>[0.272117562206996 0.42393869455463395 0.32260...</td>\n",
       "      <td>0</td>\n",
       "      <td>0.0</td>\n",
       "    </tr>\n",
       "    <tr>\n",
       "      <th>Cabin_Temperature</th>\n",
       "      <td>float64</td>\n",
       "      <td>950</td>\n",
       "      <td>[78.04 84.54 78.86 81.79 77.16 78.63 88.04 83....</td>\n",
       "      <td>0</td>\n",
       "      <td>0.0</td>\n",
       "    </tr>\n",
       "    <tr>\n",
       "      <th>Accident_Type_Code</th>\n",
       "      <td>int64</td>\n",
       "      <td>7</td>\n",
       "      <td>[2 7 3 4 1 6 5]</td>\n",
       "      <td>0</td>\n",
       "      <td>0.0</td>\n",
       "    </tr>\n",
       "    <tr>\n",
       "      <th>Max_Elevation</th>\n",
       "      <td>float64</td>\n",
       "      <td>4191</td>\n",
       "      <td>[31335.4768243775 26024.711057085402 39269.053...</td>\n",
       "      <td>0</td>\n",
       "      <td>0.0</td>\n",
       "    </tr>\n",
       "    <tr>\n",
       "      <th>Violations</th>\n",
       "      <td>int64</td>\n",
       "      <td>6</td>\n",
       "      <td>[3 2 1 0 4 5]</td>\n",
       "      <td>0</td>\n",
       "      <td>0.0</td>\n",
       "    </tr>\n",
       "    <tr>\n",
       "      <th>Adverse_Weather_Metric</th>\n",
       "      <td>float64</td>\n",
       "      <td>4258</td>\n",
       "      <td>[0.42435208330785296 0.352349972573073 0.00336...</td>\n",
       "      <td>0</td>\n",
       "      <td>0.0</td>\n",
       "    </tr>\n",
       "    <tr>\n",
       "      <th>Accident_ID</th>\n",
       "      <td>int64</td>\n",
       "      <td>10000</td>\n",
       "      <td>[7570 12128 2181 ... 612 4963 9387]</td>\n",
       "      <td>0</td>\n",
       "      <td>0.0</td>\n",
       "    </tr>\n",
       "  </tbody>\n",
       "</table>\n",
       "</div>"
      ],
      "text/plain": [
       "                        Data Type  No of Unique Data  \\\n",
       "Severity                   object                  4   \n",
       "Safety_Score              float64               1175   \n",
       "Days_Since_Inspection       int64                 23   \n",
       "Total_Safety_Complaints     int64                 44   \n",
       "Control_Metric            float64                952   \n",
       "Turbulence_In_gforces     float64               1117   \n",
       "Cabin_Temperature         float64                950   \n",
       "Accident_Type_Code          int64                  7   \n",
       "Max_Elevation             float64               4191   \n",
       "Violations                  int64                  6   \n",
       "Adverse_Weather_Metric    float64               4258   \n",
       "Accident_ID                 int64              10000   \n",
       "\n",
       "                                                                    Levels  \\\n",
       "Severity                 ['Minor_Damage_And_Injuries' 'Significant_Dama...   \n",
       "Safety_Score             [49.2237442922374 62.4657534246575 63.05936073...   \n",
       "Days_Since_Inspection    [14 10 13 11 15 18 5 6 12 7 8 17 9 16 20 19 21...   \n",
       "Total_Safety_Complaints  [22 27 16 9 25 0 10 4 40 11 2 14 1 3 5 7 20 28...   \n",
       "Control_Metric           [71.285323609845 72.2880583409298 66.362807657...   \n",
       "Turbulence_In_gforces    [0.272117562206996 0.42393869455463395 0.32260...   \n",
       "Cabin_Temperature        [78.04 84.54 78.86 81.79 77.16 78.63 88.04 83....   \n",
       "Accident_Type_Code                                         [2 7 3 4 1 6 5]   \n",
       "Max_Elevation            [31335.4768243775 26024.711057085402 39269.053...   \n",
       "Violations                                                   [3 2 1 0 4 5]   \n",
       "Adverse_Weather_Metric   [0.42435208330785296 0.352349972573073 0.00336...   \n",
       "Accident_ID                            [7570 12128 2181 ... 612 4963 9387]   \n",
       "\n",
       "                         Null_values  null%  \n",
       "Severity                           0    0.0  \n",
       "Safety_Score                       0    0.0  \n",
       "Days_Since_Inspection              0    0.0  \n",
       "Total_Safety_Complaints            0    0.0  \n",
       "Control_Metric                     0    0.0  \n",
       "Turbulence_In_gforces              0    0.0  \n",
       "Cabin_Temperature                  0    0.0  \n",
       "Accident_Type_Code                 0    0.0  \n",
       "Max_Elevation                      0    0.0  \n",
       "Violations                         0    0.0  \n",
       "Adverse_Weather_Metric             0    0.0  \n",
       "Accident_ID                        0    0.0  "
      ]
     },
     "execution_count": 8,
     "metadata": {},
     "output_type": "execute_result"
    }
   ],
   "source": [
    "air_data(air_train)"
   ]
  },
  {
   "cell_type": "code",
   "execution_count": 9,
   "metadata": {},
   "outputs": [
    {
     "data": {
      "text/plain": [
       "Highly_Fatal_And_Damaging                  3049\n",
       "Significant_Damage_And_Serious_Injuries    2729\n",
       "Minor_Damage_And_Injuries                  2527\n",
       "Significant_Damage_And_Fatalities          1695\n",
       "Name: Severity, dtype: int64"
      ]
     },
     "execution_count": 9,
     "metadata": {},
     "output_type": "execute_result"
    }
   ],
   "source": [
    "air_train.Severity.value_counts()"
   ]
  },
  {
   "cell_type": "code",
   "execution_count": 10,
   "metadata": {},
   "outputs": [],
   "source": [
    "import matplotlib.pyplot as plt #to deal with plots\n",
    "import seaborn as sns #to get better and user friendly plots"
   ]
  },
  {
   "cell_type": "code",
   "execution_count": 11,
   "metadata": {},
   "outputs": [
    {
     "data": {
      "text/plain": [
       "Text(0.5, 1.0, 'count of Severity')"
      ]
     },
     "execution_count": 11,
     "metadata": {},
     "output_type": "execute_result"
    },
    {
     "data": {
      "image/png": "[encoded data removed]",
      "text/plain": [
       "<Figure size 720x360 with 1 Axes>"
      ]
     },
     "metadata": {
      "needs_background": "light"
     },
     "output_type": "display_data"
    }
   ],
   "source": [
    "plt.rcParams['figure.figsize']=(10,5)\n",
    "sns.countplot('Severity',data=air_train)\n",
    "plt.title('count of Severity')"
   ]
  },
  {
   "cell_type": "code",
   "execution_count": 12,
   "metadata": {},
   "outputs": [
    {
     "data": {
      "text/plain": [
       "Index(['Accident_ID', 'Accident_Type_Code', 'Adverse_Weather_Metric',\n",
       "       'Cabin_Temperature', 'Control_Metric', 'Days_Since_Inspection',\n",
       "       'Max_Elevation', 'Safety_Score', 'Total_Safety_Complaints',\n",
       "       'Turbulence_In_gforces', 'Violations'],\n",
       "      dtype='object')"
      ]
     },
     "execution_count": 12,
     "metadata": {},
     "output_type": "execute_result"
    }
   ],
   "source": [
    "cat_cols = ['Severity']\n",
    "num_cols = air_train.columns.difference(cat_cols)\n",
    "num_cols"
   ]
  },
  {
   "cell_type": "code",
   "execution_count": 13,
   "metadata": {},
   "outputs": [],
   "source": [
    "air_train[cat_cols]=air_train[cat_cols].astype(\"category\")\n",
    "air_train[num_cols]=air_train[num_cols].astype(\"float\")"
   ]
  },
  {
   "cell_type": "code",
   "execution_count": 14,
   "metadata": {},
   "outputs": [
    {
     "data": {
      "text/plain": [
       "Severity                   category\n",
       "Safety_Score                float64\n",
       "Days_Since_Inspection       float64\n",
       "Total_Safety_Complaints     float64\n",
       "Control_Metric              float64\n",
       "Turbulence_In_gforces       float64\n",
       "Cabin_Temperature           float64\n",
       "Accident_Type_Code          float64\n",
       "Max_Elevation               float64\n",
       "Violations                  float64\n",
       "Adverse_Weather_Metric      float64\n",
       "Accident_ID                 float64\n",
       "dtype: object"
      ]
     },
     "execution_count": 14,
     "metadata": {},
     "output_type": "execute_result"
    }
   ],
   "source": [
    "air_train.dtypes"
   ]
  },
  {
   "cell_type": "code",
   "execution_count": 15,
   "metadata": {},
   "outputs": [
    {
     "data": {
      "text/html": [
       "<div>\n",
       "<style scoped>\n",
       "    .dataframe tbody tr th:only-of-type {\n",
       "        vertical-align: middle;\n",
       "    }\n",
       "\n",
       "    .dataframe tbody tr th {\n",
       "        vertical-align: top;\n",
       "    }\n",
       "\n",
       "    .dataframe thead th {\n",
       "        text-align: right;\n",
       "    }\n",
       "</style>\n",
       "<table border=\"1\" class=\"dataframe\">\n",
       "  <thead>\n",
       "    <tr style=\"text-align: right;\">\n",
       "      <th></th>\n",
       "      <th>Safety_Score</th>\n",
       "      <th>Days_Since_Inspection</th>\n",
       "      <th>Total_Safety_Complaints</th>\n",
       "      <th>Control_Metric</th>\n",
       "      <th>Turbulence_In_gforces</th>\n",
       "      <th>Cabin_Temperature</th>\n",
       "      <th>Accident_Type_Code</th>\n",
       "      <th>Max_Elevation</th>\n",
       "      <th>Violations</th>\n",
       "      <th>Adverse_Weather_Metric</th>\n",
       "      <th>Accident_ID</th>\n",
       "    </tr>\n",
       "  </thead>\n",
       "  <tbody>\n",
       "    <tr>\n",
       "      <th>Safety_Score</th>\n",
       "      <td>1.000</td>\n",
       "      <td>-0.685</td>\n",
       "      <td>0.058</td>\n",
       "      <td>0.001</td>\n",
       "      <td>0.020</td>\n",
       "      <td>0.033</td>\n",
       "      <td>0.174</td>\n",
       "      <td>0.004</td>\n",
       "      <td>0.042</td>\n",
       "      <td>-0.108</td>\n",
       "      <td>-0.001</td>\n",
       "    </tr>\n",
       "    <tr>\n",
       "      <th>Days_Since_Inspection</th>\n",
       "      <td>-0.685</td>\n",
       "      <td>1.000</td>\n",
       "      <td>-0.032</td>\n",
       "      <td>-0.012</td>\n",
       "      <td>-0.002</td>\n",
       "      <td>-0.039</td>\n",
       "      <td>-0.025</td>\n",
       "      <td>0.000</td>\n",
       "      <td>-0.017</td>\n",
       "      <td>0.041</td>\n",
       "      <td>0.001</td>\n",
       "    </tr>\n",
       "    <tr>\n",
       "      <th>Total_Safety_Complaints</th>\n",
       "      <td>0.058</td>\n",
       "      <td>-0.032</td>\n",
       "      <td>1.000</td>\n",
       "      <td>-0.020</td>\n",
       "      <td>0.066</td>\n",
       "      <td>0.014</td>\n",
       "      <td>0.035</td>\n",
       "      <td>0.037</td>\n",
       "      <td>-0.019</td>\n",
       "      <td>-0.003</td>\n",
       "      <td>0.005</td>\n",
       "    </tr>\n",
       "    <tr>\n",
       "      <th>Control_Metric</th>\n",
       "      <td>0.001</td>\n",
       "      <td>-0.012</td>\n",
       "      <td>-0.020</td>\n",
       "      <td>1.000</td>\n",
       "      <td>-0.643</td>\n",
       "      <td>-0.008</td>\n",
       "      <td>0.008</td>\n",
       "      <td>-0.028</td>\n",
       "      <td>-0.003</td>\n",
       "      <td>-0.028</td>\n",
       "      <td>0.006</td>\n",
       "    </tr>\n",
       "    <tr>\n",
       "      <th>Turbulence_In_gforces</th>\n",
       "      <td>0.020</td>\n",
       "      <td>-0.002</td>\n",
       "      <td>0.066</td>\n",
       "      <td>-0.643</td>\n",
       "      <td>1.000</td>\n",
       "      <td>0.011</td>\n",
       "      <td>-0.008</td>\n",
       "      <td>0.048</td>\n",
       "      <td>0.013</td>\n",
       "      <td>0.040</td>\n",
       "      <td>-0.014</td>\n",
       "    </tr>\n",
       "    <tr>\n",
       "      <th>Cabin_Temperature</th>\n",
       "      <td>0.033</td>\n",
       "      <td>-0.039</td>\n",
       "      <td>0.014</td>\n",
       "      <td>-0.008</td>\n",
       "      <td>0.011</td>\n",
       "      <td>1.000</td>\n",
       "      <td>0.031</td>\n",
       "      <td>-0.009</td>\n",
       "      <td>0.019</td>\n",
       "      <td>-0.027</td>\n",
       "      <td>0.015</td>\n",
       "    </tr>\n",
       "    <tr>\n",
       "      <th>Accident_Type_Code</th>\n",
       "      <td>0.174</td>\n",
       "      <td>-0.025</td>\n",
       "      <td>0.035</td>\n",
       "      <td>0.008</td>\n",
       "      <td>-0.008</td>\n",
       "      <td>0.031</td>\n",
       "      <td>1.000</td>\n",
       "      <td>0.020</td>\n",
       "      <td>0.046</td>\n",
       "      <td>-0.739</td>\n",
       "      <td>-0.012</td>\n",
       "    </tr>\n",
       "    <tr>\n",
       "      <th>Max_Elevation</th>\n",
       "      <td>0.004</td>\n",
       "      <td>0.000</td>\n",
       "      <td>0.037</td>\n",
       "      <td>-0.028</td>\n",
       "      <td>0.048</td>\n",
       "      <td>-0.009</td>\n",
       "      <td>0.020</td>\n",
       "      <td>1.000</td>\n",
       "      <td>-0.031</td>\n",
       "      <td>0.173</td>\n",
       "      <td>0.009</td>\n",
       "    </tr>\n",
       "    <tr>\n",
       "      <th>Violations</th>\n",
       "      <td>0.042</td>\n",
       "      <td>-0.017</td>\n",
       "      <td>-0.019</td>\n",
       "      <td>-0.003</td>\n",
       "      <td>0.013</td>\n",
       "      <td>0.019</td>\n",
       "      <td>0.046</td>\n",
       "      <td>-0.031</td>\n",
       "      <td>1.000</td>\n",
       "      <td>-0.022</td>\n",
       "      <td>-0.002</td>\n",
       "    </tr>\n",
       "    <tr>\n",
       "      <th>Adverse_Weather_Metric</th>\n",
       "      <td>-0.108</td>\n",
       "      <td>0.041</td>\n",
       "      <td>-0.003</td>\n",
       "      <td>-0.028</td>\n",
       "      <td>0.040</td>\n",
       "      <td>-0.027</td>\n",
       "      <td>-0.739</td>\n",
       "      <td>0.173</td>\n",
       "      <td>-0.022</td>\n",
       "      <td>1.000</td>\n",
       "      <td>0.009</td>\n",
       "    </tr>\n",
       "    <tr>\n",
       "      <th>Accident_ID</th>\n",
       "      <td>-0.001</td>\n",
       "      <td>0.001</td>\n",
       "      <td>0.005</td>\n",
       "      <td>0.006</td>\n",
       "      <td>-0.014</td>\n",
       "      <td>0.015</td>\n",
       "      <td>-0.012</td>\n",
       "      <td>0.009</td>\n",
       "      <td>-0.002</td>\n",
       "      <td>0.009</td>\n",
       "      <td>1.000</td>\n",
       "    </tr>\n",
       "  </tbody>\n",
       "</table>\n",
       "</div>"
      ],
      "text/plain": [
       "                         Safety_Score  Days_Since_Inspection  \\\n",
       "Safety_Score                    1.000                 -0.685   \n",
       "Days_Since_Inspection          -0.685                  1.000   \n",
       "Total_Safety_Complaints         0.058                 -0.032   \n",
       "Control_Metric                  0.001                 -0.012   \n",
       "Turbulence_In_gforces           0.020                 -0.002   \n",
       "Cabin_Temperature               0.033                 -0.039   \n",
       "Accident_Type_Code              0.174                 -0.025   \n",
       "Max_Elevation                   0.004                  0.000   \n",
       "Violations                      0.042                 -0.017   \n",
       "Adverse_Weather_Metric         -0.108                  0.041   \n",
       "Accident_ID                    -0.001                  0.001   \n",
       "\n",
       "                         Total_Safety_Complaints  Control_Metric  \\\n",
       "Safety_Score                               0.058           0.001   \n",
       "Days_Since_Inspection                     -0.032          -0.012   \n",
       "Total_Safety_Complaints                    1.000          -0.020   \n",
       "Control_Metric                            -0.020           1.000   \n",
       "Turbulence_In_gforces                      0.066          -0.643   \n",
       "Cabin_Temperature                          0.014          -0.008   \n",
       "Accident_Type_Code                         0.035           0.008   \n",
       "Max_Elevation                              0.037          -0.028   \n",
       "Violations                                -0.019          -0.003   \n",
       "Adverse_Weather_Metric                    -0.003          -0.028   \n",
       "Accident_ID                                0.005           0.006   \n",
       "\n",
       "                         Turbulence_In_gforces  Cabin_Temperature  \\\n",
       "Safety_Score                             0.020              0.033   \n",
       "Days_Since_Inspection                   -0.002             -0.039   \n",
       "Total_Safety_Complaints                  0.066              0.014   \n",
       "Control_Metric                          -0.643             -0.008   \n",
       "Turbulence_In_gforces                    1.000              0.011   \n",
       "Cabin_Temperature                        0.011              1.000   \n",
       "Accident_Type_Code                      -0.008              0.031   \n",
       "Max_Elevation                            0.048             -0.009   \n",
       "Violations                               0.013              0.019   \n",
       "Adverse_Weather_Metric                   0.040             -0.027   \n",
       "Accident_ID                             -0.014              0.015   \n",
       "\n",
       "                         Accident_Type_Code  Max_Elevation  Violations  \\\n",
       "Safety_Score                          0.174          0.004       0.042   \n",
       "Days_Since_Inspection                -0.025          0.000      -0.017   \n",
       "Total_Safety_Complaints               0.035          0.037      -0.019   \n",
       "Control_Metric                        0.008         -0.028      -0.003   \n",
       "Turbulence_In_gforces                -0.008          0.048       0.013   \n",
       "Cabin_Temperature                     0.031         -0.009       0.019   \n",
       "Accident_Type_Code                    1.000          0.020       0.046   \n",
       "Max_Elevation                         0.020          1.000      -0.031   \n",
       "Violations                            0.046         -0.031       1.000   \n",
       "Adverse_Weather_Metric               -0.739          0.173      -0.022   \n",
       "Accident_ID                          -0.012          0.009      -0.002   \n",
       "\n",
       "                         Adverse_Weather_Metric  Accident_ID  \n",
       "Safety_Score                             -0.108       -0.001  \n",
       "Days_Since_Inspection                     0.041        0.001  \n",
       "Total_Safety_Complaints                  -0.003        0.005  \n",
       "Control_Metric                           -0.028        0.006  \n",
       "Turbulence_In_gforces                     0.040       -0.014  \n",
       "Cabin_Temperature                        -0.027        0.015  \n",
       "Accident_Type_Code                       -0.739       -0.012  \n",
       "Max_Elevation                             0.173        0.009  \n",
       "Violations                               -0.022       -0.002  \n",
       "Adverse_Weather_Metric                    1.000        0.009  \n",
       "Accident_ID                               0.009        1.000  "
      ]
     },
     "execution_count": 15,
     "metadata": {},
     "output_type": "execute_result"
    }
   ],
   "source": [
    "# Corelation\n",
    "cor =air_train.corr()\n",
    "round(cor,3)"
   ]
  },
  {
   "cell_type": "code",
   "execution_count": 16,
   "metadata": {},
   "outputs": [
    {
     "data": {
      "text/plain": [
       "<matplotlib.axes._subplots.AxesSubplot at 0x2c22d7184e0>"
      ]
     },
     "execution_count": 16,
     "metadata": {},
     "output_type": "execute_result"
    },
    {
     "data": {
      "image/png": "[encoded data removed]",
      "text/plain": [
       "<Figure size 1440x720 with 2 Axes>"
      ]
     },
     "metadata": {
      "needs_background": "light"
     },
     "output_type": "display_data"
    }
   ],
   "source": [
    "plt.figure(figsize=(20,10))\n",
    "sns.heatmap(cor, cmap=\"YlGnBu\", annot=True)"
   ]
  },
  {
   "cell_type": "code",
   "execution_count": 17,
   "metadata": {},
   "outputs": [],
   "source": [
    "X = air_train.drop(columns=['Severity'],axis=1)\n",
    "y = air_train['Severity']"
   ]
  },
  {
   "cell_type": "code",
   "execution_count": 18,
   "metadata": {},
   "outputs": [
    {
     "name": "stdout",
     "output_type": "stream",
     "text": [
      "(7000, 11) (3000, 11) (7000,) (3000,)\n"
     ]
    }
   ],
   "source": [
    "from sklearn.model_selection import train_test_split\n",
    "trainx,valx,trainy,valy = train_test_split(X, y ,test_size=0.3,random_state=123)\n",
    "\n",
    "print(trainx.shape,valx.shape,trainy.shape,valy.shape)"
   ]
  },
  {
   "cell_type": "code",
   "execution_count": 19,
   "metadata": {},
   "outputs": [
    {
     "data": {
      "text/html": [
       "<div>\n",
       "<style scoped>\n",
       "    .dataframe tbody tr th:only-of-type {\n",
       "        vertical-align: middle;\n",
       "    }\n",
       "\n",
       "    .dataframe tbody tr th {\n",
       "        vertical-align: top;\n",
       "    }\n",
       "\n",
       "    .dataframe thead th {\n",
       "        text-align: right;\n",
       "    }\n",
       "</style>\n",
       "<table border=\"1\" class=\"dataframe\">\n",
       "  <thead>\n",
       "    <tr style=\"text-align: right;\">\n",
       "      <th></th>\n",
       "      <th>Safety_Score</th>\n",
       "      <th>Days_Since_Inspection</th>\n",
       "      <th>Total_Safety_Complaints</th>\n",
       "      <th>Control_Metric</th>\n",
       "      <th>Turbulence_In_gforces</th>\n",
       "      <th>Cabin_Temperature</th>\n",
       "      <th>Accident_Type_Code</th>\n",
       "      <th>Max_Elevation</th>\n",
       "      <th>Violations</th>\n",
       "      <th>Adverse_Weather_Metric</th>\n",
       "      <th>Accident_ID</th>\n",
       "    </tr>\n",
       "  </thead>\n",
       "  <tbody>\n",
       "    <tr>\n",
       "      <th>3144</th>\n",
       "      <td>40.639269</td>\n",
       "      <td>9.0</td>\n",
       "      <td>3.0</td>\n",
       "      <td>41.020966</td>\n",
       "      <td>0.543304</td>\n",
       "      <td>80.15</td>\n",
       "      <td>1.0</td>\n",
       "      <td>34325.615077</td>\n",
       "      <td>3.0</td>\n",
       "      <td>1.263655</td>\n",
       "      <td>8159.0</td>\n",
       "    </tr>\n",
       "    <tr>\n",
       "      <th>9939</th>\n",
       "      <td>18.310502</td>\n",
       "      <td>16.0</td>\n",
       "      <td>9.0</td>\n",
       "      <td>59.070191</td>\n",
       "      <td>0.392565</td>\n",
       "      <td>78.29</td>\n",
       "      <td>5.0</td>\n",
       "      <td>23487.729496</td>\n",
       "      <td>3.0</td>\n",
       "      <td>0.014991</td>\n",
       "      <td>1408.0</td>\n",
       "    </tr>\n",
       "    <tr>\n",
       "      <th>7925</th>\n",
       "      <td>38.812785</td>\n",
       "      <td>13.0</td>\n",
       "      <td>0.0</td>\n",
       "      <td>61.531449</td>\n",
       "      <td>0.424299</td>\n",
       "      <td>86.39</td>\n",
       "      <td>3.0</td>\n",
       "      <td>831.695553</td>\n",
       "      <td>3.0</td>\n",
       "      <td>0.047601</td>\n",
       "      <td>100.0</td>\n",
       "    </tr>\n",
       "    <tr>\n",
       "      <th>309</th>\n",
       "      <td>32.876712</td>\n",
       "      <td>15.0</td>\n",
       "      <td>7.0</td>\n",
       "      <td>57.748405</td>\n",
       "      <td>0.478392</td>\n",
       "      <td>78.85</td>\n",
       "      <td>5.0</td>\n",
       "      <td>33635.234643</td>\n",
       "      <td>2.0</td>\n",
       "      <td>0.023609</td>\n",
       "      <td>337.0</td>\n",
       "    </tr>\n",
       "    <tr>\n",
       "      <th>9415</th>\n",
       "      <td>28.219178</td>\n",
       "      <td>13.0</td>\n",
       "      <td>10.0</td>\n",
       "      <td>86.964448</td>\n",
       "      <td>0.289427</td>\n",
       "      <td>80.65</td>\n",
       "      <td>4.0</td>\n",
       "      <td>36065.208527</td>\n",
       "      <td>2.0</td>\n",
       "      <td>0.065909</td>\n",
       "      <td>7196.0</td>\n",
       "    </tr>\n",
       "  </tbody>\n",
       "</table>\n",
       "</div>"
      ],
      "text/plain": [
       "      Safety_Score  Days_Since_Inspection  Total_Safety_Complaints  \\\n",
       "3144     40.639269                    9.0                      3.0   \n",
       "9939     18.310502                   16.0                      9.0   \n",
       "7925     38.812785                   13.0                      0.0   \n",
       "309      32.876712                   15.0                      7.0   \n",
       "9415     28.219178                   13.0                     10.0   \n",
       "\n",
       "      Control_Metric  Turbulence_In_gforces  Cabin_Temperature  \\\n",
       "3144       41.020966               0.543304              80.15   \n",
       "9939       59.070191               0.392565              78.29   \n",
       "7925       61.531449               0.424299              86.39   \n",
       "309        57.748405               0.478392              78.85   \n",
       "9415       86.964448               0.289427              80.65   \n",
       "\n",
       "      Accident_Type_Code  Max_Elevation  Violations  Adverse_Weather_Metric  \\\n",
       "3144                 1.0   34325.615077         3.0                1.263655   \n",
       "9939                 5.0   23487.729496         3.0                0.014991   \n",
       "7925                 3.0     831.695553         3.0                0.047601   \n",
       "309                  5.0   33635.234643         2.0                0.023609   \n",
       "9415                 4.0   36065.208527         2.0                0.065909   \n",
       "\n",
       "      Accident_ID  \n",
       "3144       8159.0  \n",
       "9939       1408.0  \n",
       "7925        100.0  \n",
       "309         337.0  \n",
       "9415       7196.0  "
      ]
     },
     "execution_count": 19,
     "metadata": {},
     "output_type": "execute_result"
    }
   ],
   "source": [
    "trainx.head()"
   ]
  },
  {
   "cell_type": "code",
   "execution_count": 20,
   "metadata": {},
   "outputs": [
    {
     "data": {
      "text/plain": [
       "3144          Significant_Damage_And_Fatalities\n",
       "9939                  Highly_Fatal_And_Damaging\n",
       "7925    Significant_Damage_And_Serious_Injuries\n",
       "309     Significant_Damage_And_Serious_Injuries\n",
       "9415                  Highly_Fatal_And_Damaging\n",
       "Name: Severity, dtype: category\n",
       "Categories (4, object): [Highly_Fatal_And_Damaging, Minor_Damage_And_Injuries, Significant_Damage_And_Fatalities, Significant_Damage_And_Serious_Injuries]"
      ]
     },
     "execution_count": 20,
     "metadata": {},
     "output_type": "execute_result"
    }
   ],
   "source": [
    "trainy.head()"
   ]
  },
  {
   "cell_type": "code",
   "execution_count": 21,
   "metadata": {},
   "outputs": [],
   "source": [
    "from sklearn.preprocessing import StandardScaler\n",
    "import warnings\n",
    "warnings.filterwarnings('ignore') "
   ]
  },
  {
   "cell_type": "code",
   "execution_count": 1,
   "metadata": {},
   "outputs": [
    {
     "ename": "NameError",
     "evalue": "name 'StandardScaler' is not defined",
     "output_type": "error",
     "traceback": [
      "\u001b[1;31m---------------------------------------------------------------------------\u001b[0m",
      "\u001b[1;31mNameError\u001b[0m                                 Traceback (most recent call last)",
      "\u001b[1;32m<ipython-input-1-73128ab00fd8>\u001b[0m in \u001b[0;36m<module>\u001b[1;34m\u001b[0m\n\u001b[0;32m      1\u001b[0m \u001b[1;31m#Standardizing Train Data\u001b[0m\u001b[1;33m\u001b[0m\u001b[1;33m\u001b[0m\u001b[1;33m\u001b[0m\u001b[0m\n\u001b[0;32m      2\u001b[0m \u001b[1;31m## Scale the numeric attributes\u001b[0m\u001b[1;33m\u001b[0m\u001b[1;33m\u001b[0m\u001b[1;33m\u001b[0m\u001b[0m\n\u001b[1;32m----> 3\u001b[1;33m \u001b[0mscaler\u001b[0m \u001b[1;33m=\u001b[0m \u001b[0mStandardScaler\u001b[0m\u001b[1;33m(\u001b[0m\u001b[1;33m)\u001b[0m\u001b[1;33m\u001b[0m\u001b[1;33m\u001b[0m\u001b[0m\n\u001b[0m\u001b[0;32m      4\u001b[0m \u001b[0mscaler\u001b[0m\u001b[1;33m.\u001b[0m\u001b[0mfit\u001b[0m\u001b[1;33m(\u001b[0m\u001b[0mtrainx\u001b[0m\u001b[1;33m.\u001b[0m\u001b[0miloc\u001b[0m\u001b[1;33m[\u001b[0m\u001b[1;33m:\u001b[0m\u001b[1;33m]\u001b[0m\u001b[1;33m)\u001b[0m\u001b[1;33m\u001b[0m\u001b[1;33m\u001b[0m\u001b[0m\n\u001b[0;32m      5\u001b[0m \u001b[1;33m\u001b[0m\u001b[0m\n",
      "\u001b[1;31mNameError\u001b[0m: name 'StandardScaler' is not defined"
     ]
    }
   ],
   "source": [
    "#Standardizing Train Data\n",
    "## Scale the numeric attributes\n",
    "scaler = StandardScaler()\n",
    "scaler.fit(trainx.iloc[:])\n",
    "\n",
    "trainx.iloc[:] = scaler.transform(trainx.iloc[:])\n",
    "trainx.head()"
   ]
  },
  {
   "cell_type": "code",
   "execution_count": null,
   "metadata": {},
   "outputs": [],
   "source": [
    "## Scale the numeric attributes of Validation Dataset\n",
    "scaler = StandardScaler()\n",
    "scaler.fit(valx.iloc[:])\n",
    "\n",
    "valx.iloc[:] = scaler.transform(valx.iloc[:])\n",
    "\n",
    "valx.head()"
   ]
  },
  {
   "cell_type": "markdown",
   "metadata": {},
   "source": [
    "### creating a random search for some hyper parameters given in param_grid_1\n",
    "from sklearn import tree\n",
    "dt=tree.DecisionTreeClassifier()"
   ]
  },
  {
   "cell_type": "code",
   "execution_count": 25,
   "metadata": {},
   "outputs": [],
   "source": [
    " #creating decision tree classifier with best results form grid search\n",
    "dt=tree.DecisionTreeClassifier(criterion= 'gini',max_depth= 8,max_features= 'log2',class_weight='balanced')"
   ]
  },
  {
   "cell_type": "code",
   "execution_count": 26,
   "metadata": {},
   "outputs": [],
   "source": [
    "from sklearn.metrics import classification_report,accuracy_score,f1_score   #to get classification report and accuracy of models"
   ]
  },
  {
   "cell_type": "code",
   "execution_count": 27,
   "metadata": {},
   "outputs": [
    {
     "name": "stdout",
     "output_type": "stream",
     "text": [
      "Decision tree classification report\n",
      "\n",
      "\n",
      "                                         precision    recall  f1-score   support\n",
      "\n",
      "              Highly_Fatal_And_Damaging       0.84      0.70      0.76      2104\n",
      "              Minor_Damage_And_Injuries       0.65      0.81      0.72      1770\n",
      "      Significant_Damage_And_Fatalities       0.76      0.75      0.76      1183\n",
      "Significant_Damage_And_Serious_Injuries       0.79      0.76      0.78      1943\n",
      "\n",
      "                               accuracy                           0.75      7000\n",
      "                              macro avg       0.76      0.76      0.75      7000\n",
      "                           weighted avg       0.76      0.75      0.76      7000\n",
      "\n",
      "f1_score: 0.7555079924797524\n"
     ]
    }
   ],
   "source": [
    "#predicting validation labels\n",
    "dt.fit(trainx,trainy)\n",
    "dt_predictions_train=dt.predict(trainx)\n",
    "print('Decision tree classification report\\n\\n')\n",
    "print(classification_report(trainy,dt_predictions_train))\n",
    "print('f1_score:',f1_score(trainy,dt_predictions_train,average='weighted'))"
   ]
  },
  {
   "cell_type": "code",
   "execution_count": 28,
   "metadata": {},
   "outputs": [
    {
     "name": "stdout",
     "output_type": "stream",
     "text": [
      "Decision tree classification report\n",
      "\n",
      "\n",
      "                                         precision    recall  f1-score   support\n",
      "\n",
      "              Highly_Fatal_And_Damaging       0.79      0.67      0.72       945\n",
      "              Minor_Damage_And_Injuries       0.60      0.76      0.67       757\n",
      "      Significant_Damage_And_Fatalities       0.72      0.66      0.69       512\n",
      "Significant_Damage_And_Serious_Injuries       0.74      0.72      0.73       786\n",
      "\n",
      "                               accuracy                           0.70      3000\n",
      "                              macro avg       0.71      0.70      0.70      3000\n",
      "                           weighted avg       0.72      0.70      0.71      3000\n",
      "\n",
      "f1_score: 0.7063204575480085\n"
     ]
    }
   ],
   "source": [
    "#predicting validation labels\n",
    "dt_predictions_val=dt.predict(valx)\n",
    "print('Decision tree classification report\\n\\n')\n",
    "print(classification_report(valy,dt_predictions_val))\n",
    "print('f1_score:',f1_score(valy,dt_predictions_val,average='weighted'))"
   ]
  },
  {
   "cell_type": "code",
   "execution_count": 29,
   "metadata": {},
   "outputs": [
    {
     "data": {
      "text/plain": [
       "<bound method BaseEstimator.get_params of RandomForestClassifier(bootstrap=True, class_weight=None, criterion='gini',\n",
       "                       max_depth=None, max_features='auto', max_leaf_nodes=None,\n",
       "                       min_impurity_decrease=0.0, min_impurity_split=None,\n",
       "                       min_samples_leaf=1, min_samples_split=2,\n",
       "                       min_weight_fraction_leaf=0.0, n_estimators='warn',\n",
       "                       n_jobs=None, oob_score=False, random_state=None,\n",
       "                       verbose=0, warm_start=False)>"
      ]
     },
     "execution_count": 29,
     "metadata": {},
     "output_type": "execute_result"
    }
   ],
   "source": [
    "#importing random forest classifier\n",
    "from sklearn.ensemble import RandomForestClassifier\n",
    "rf=RandomForestClassifier()\n",
    "rf.get_params"
   ]
  },
  {
   "cell_type": "code",
   "execution_count": 30,
   "metadata": {},
   "outputs": [
    {
     "data": {
      "text/plain": [
       "RandomForestClassifier(bootstrap=True, class_weight=None, criterion='gini',\n",
       "                       max_depth=None, max_features='auto', max_leaf_nodes=None,\n",
       "                       min_impurity_decrease=0.0, min_impurity_split=None,\n",
       "                       min_samples_leaf=1, min_samples_split=2,\n",
       "                       min_weight_fraction_leaf=0.0, n_estimators=10,\n",
       "                       n_jobs=None, oob_score=False, random_state=None,\n",
       "                       verbose=0, warm_start=False)"
      ]
     },
     "execution_count": 30,
     "metadata": {},
     "output_type": "execute_result"
    }
   ],
   "source": [
    "#getting best parameters form random search\n",
    "rf.fit(trainx,trainy)"
   ]
  },
  {
   "cell_type": "code",
   "execution_count": 31,
   "metadata": {},
   "outputs": [
    {
     "name": "stdout",
     "output_type": "stream",
     "text": [
      "                                         precision    recall  f1-score   support\n",
      "\n",
      "              Highly_Fatal_And_Damaging       0.93      0.87      0.90      2104\n",
      "              Minor_Damage_And_Injuries       0.83      0.88      0.85      1770\n",
      "      Significant_Damage_And_Fatalities       0.87      0.91      0.89      1183\n",
      "Significant_Damage_And_Serious_Injuries       0.89      0.87      0.88      1943\n",
      "\n",
      "                               accuracy                           0.88      7000\n",
      "                              macro avg       0.88      0.88      0.88      7000\n",
      "                           weighted avg       0.88      0.88      0.88      7000\n",
      "\n",
      "0.8796807065516264\n"
     ]
    }
   ],
   "source": [
    "rf=RandomForestClassifier(criterion='entropy',max_depth=8,min_samples_split=0.001,class_weight='balanced')\n",
    "rf.fit(trainx,trainy)\n",
    "predictions=rf.predict(trainx)\n",
    "print(classification_report(trainy,predictions))\n",
    "print(f1_score(trainy,predictions,average='weighted'))"
   ]
  },
  {
   "cell_type": "code",
   "execution_count": 32,
   "metadata": {},
   "outputs": [
    {
     "name": "stdout",
     "output_type": "stream",
     "text": [
      "                                         precision    recall  f1-score   support\n",
      "\n",
      "              Highly_Fatal_And_Damaging       0.89      0.84      0.86       945\n",
      "              Minor_Damage_And_Injuries       0.75      0.77      0.76       757\n",
      "      Significant_Damage_And_Fatalities       0.80      0.85      0.82       512\n",
      "Significant_Damage_And_Serious_Injuries       0.83      0.83      0.83       786\n",
      "\n",
      "                               accuracy                           0.82      3000\n",
      "                              macro avg       0.82      0.82      0.82      3000\n",
      "                           weighted avg       0.82      0.82      0.82      3000\n",
      "\n",
      "0.8205954009468713\n"
     ]
    }
   ],
   "source": [
    "predictions=rf.predict(valx)\n",
    "print(classification_report(valy,predictions))\n",
    "print(f1_score(valy,predictions,average='weighted'))"
   ]
  },
  {
   "cell_type": "code",
   "execution_count": null,
   "metadata": {},
   "outputs": [],
   "source": []
  }
 ],
 "metadata": {
  "kernelspec": {
   "display_name": "Python 3",
   "language": "python",
   "name": "python3"
  },
  "language_info": {
   "codemirror_mode": {
    "name": "ipython",
    "version": 3
   },
   "file_extension": ".py",
   "mimetype": "text/x-python",
   "name": "python",
   "nbconvert_exporter": "python",
   "pygments_lexer": "ipython3",
   "version": "3.7.3"
  }
 },
 "nbformat": 4,
 "nbformat_minor": 2
}
