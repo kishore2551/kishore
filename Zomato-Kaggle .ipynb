{
 "cells": [
  {
   "cell_type": "code",
   "execution_count": 1,
   "metadata": {},
   "outputs": [],
   "source": [
    "# importing requied packages \n",
    "import numpy as np #for dealing with dataframes\n",
    "import pandas as pd #for better numerical operations"
   ]
  },
  {
   "cell_type": "code",
   "execution_count": 2,
   "metadata": {},
   "outputs": [],
   "source": [
    "zom = pd.read_excel(\"zomato_train.xlsx\")"
   ]
  },
  {
   "cell_type": "code",
   "execution_count": 3,
   "metadata": {},
   "outputs": [
    {
     "data": {
      "text/html": [
       "<div>\n",
       "<style scoped>\n",
       "    .dataframe tbody tr th:only-of-type {\n",
       "        vertical-align: middle;\n",
       "    }\n",
       "\n",
       "    .dataframe tbody tr th {\n",
       "        vertical-align: top;\n",
       "    }\n",
       "\n",
       "    .dataframe thead th {\n",
       "        text-align: right;\n",
       "    }\n",
       "</style>\n",
       "<table border=\"1\" class=\"dataframe\">\n",
       "  <thead>\n",
       "    <tr style=\"text-align: right;\">\n",
       "      <th></th>\n",
       "      <th>url</th>\n",
       "      <th>address</th>\n",
       "      <th>name</th>\n",
       "      <th>online_order</th>\n",
       "      <th>book_table</th>\n",
       "      <th>votes</th>\n",
       "      <th>phone</th>\n",
       "      <th>location</th>\n",
       "      <th>rest_type</th>\n",
       "      <th>dish_liked</th>\n",
       "      <th>cuisines</th>\n",
       "      <th>approx_cost(for two people)</th>\n",
       "      <th>reviews_list</th>\n",
       "      <th>menu_item</th>\n",
       "      <th>listed_in(type)</th>\n",
       "      <th>listed_in(city)</th>\n",
       "      <th>rates</th>\n",
       "    </tr>\n",
       "  </thead>\n",
       "  <tbody>\n",
       "    <tr>\n",
       "      <th>0</th>\n",
       "      <td>https://www.zomato.com/bangalore/al-swaad-take...</td>\n",
       "      <td>18, Masjid Street, Opp Akbari Masjid Neelasand...</td>\n",
       "      <td>Al Swaad Take Away</td>\n",
       "      <td>Yes</td>\n",
       "      <td>No</td>\n",
       "      <td>13</td>\n",
       "      <td>+91 7019942388\\n+91 9902335220</td>\n",
       "      <td>Richmond Road</td>\n",
       "      <td>Quick Bites</td>\n",
       "      <td>NaN</td>\n",
       "      <td>North Indian, South Indian, Arabian</td>\n",
       "      <td>350</td>\n",
       "      <td>[('Rated 1.0', 'RATED\\n  If U need reasonable ...</td>\n",
       "      <td>['Beef Seekh Kabab', 'Beef BBQ Chops', 'Beef M...</td>\n",
       "      <td>Delivery</td>\n",
       "      <td>Residency Road</td>\n",
       "      <td>3.1</td>\n",
       "    </tr>\n",
       "    <tr>\n",
       "      <th>1</th>\n",
       "      <td>https://www.zomato.com/bangalore/the-boozy-gri...</td>\n",
       "      <td>2nd Floor, 1st A Cross Road, Jyothi Nivas Coll...</td>\n",
       "      <td>The Boozy Griffin</td>\n",
       "      <td>No</td>\n",
       "      <td>Yes</td>\n",
       "      <td>5015</td>\n",
       "      <td>080 33512954</td>\n",
       "      <td>Koramangala 5th Block</td>\n",
       "      <td>Casual Dining, Pub</td>\n",
       "      <td>Cocktails, Craft Beer, Salads, Devils Chicken,...</td>\n",
       "      <td>European, Continental</td>\n",
       "      <td>1,800</td>\n",
       "      <td>[('Rated 5.0', 'RATED\\n  Really great ambience...</td>\n",
       "      <td>[]</td>\n",
       "      <td>Dine-out</td>\n",
       "      <td>Koramangala 6th Block</td>\n",
       "      <td>4.6</td>\n",
       "    </tr>\n",
       "    <tr>\n",
       "      <th>2</th>\n",
       "      <td>https://www.zomato.com/bangalore/barkat-btm-ba...</td>\n",
       "      <td>28th, 8th Cross, Maruthi Nagar, Madiwala, BTM,...</td>\n",
       "      <td>Barkat</td>\n",
       "      <td>No</td>\n",
       "      <td>No</td>\n",
       "      <td>6</td>\n",
       "      <td>+91 9019670836</td>\n",
       "      <td>BTM</td>\n",
       "      <td>Quick Bites</td>\n",
       "      <td>NaN</td>\n",
       "      <td>Kerala</td>\n",
       "      <td>250</td>\n",
       "      <td>[]</td>\n",
       "      <td>[]</td>\n",
       "      <td>Dine-out</td>\n",
       "      <td>Koramangala 4th Block</td>\n",
       "      <td>3.4</td>\n",
       "    </tr>\n",
       "    <tr>\n",
       "      <th>3</th>\n",
       "      <td>https://www.zomato.com/bangalore/sriracha-lave...</td>\n",
       "      <td>204, 2nd Level, 4th Floor, Comet Block, UB Cit...</td>\n",
       "      <td>Sriracha</td>\n",
       "      <td>No</td>\n",
       "      <td>No</td>\n",
       "      <td>699</td>\n",
       "      <td>+91 8041755366\\n+91 7022422473</td>\n",
       "      <td>Lavelle Road</td>\n",
       "      <td>Casual Dining</td>\n",
       "      <td>Noodles, Laksa, Cocktails, Dumplings, Sangria,...</td>\n",
       "      <td>Thai, Chinese, Indonesian, Asian, Momos</td>\n",
       "      <td>1,500</td>\n",
       "      <td>[('Rated 3.0', 'RATED\\n  Another restaurant in...</td>\n",
       "      <td>[]</td>\n",
       "      <td>Dine-out</td>\n",
       "      <td>Residency Road</td>\n",
       "      <td>4.3</td>\n",
       "    </tr>\n",
       "    <tr>\n",
       "      <th>4</th>\n",
       "      <td>https://www.zomato.com/bangalore/sri-ganesh-ju...</td>\n",
       "      <td>513, Opposite Ganesh Temple, Koramangala 8th B...</td>\n",
       "      <td>Sri Ganesh Juice Junction</td>\n",
       "      <td>Yes</td>\n",
       "      <td>No</td>\n",
       "      <td>129</td>\n",
       "      <td>+91 9845623889</td>\n",
       "      <td>Koramangala 8th Block</td>\n",
       "      <td>Beverage Shop</td>\n",
       "      <td>NaN</td>\n",
       "      <td>Juices, Fast Food</td>\n",
       "      <td>150</td>\n",
       "      <td>[('Rated 4.0', 'RATED\\n  Good cafe with most v...</td>\n",
       "      <td>['Dry Fruit Milkshake', 'Wheat Grass with Wate...</td>\n",
       "      <td>Delivery</td>\n",
       "      <td>Koramangala 6th Block</td>\n",
       "      <td>3.7</td>\n",
       "    </tr>\n",
       "  </tbody>\n",
       "</table>\n",
       "</div>"
      ],
      "text/plain": [
       "                                                 url  \\\n",
       "0  https://www.zomato.com/bangalore/al-swaad-take...   \n",
       "1  https://www.zomato.com/bangalore/the-boozy-gri...   \n",
       "2  https://www.zomato.com/bangalore/barkat-btm-ba...   \n",
       "3  https://www.zomato.com/bangalore/sriracha-lave...   \n",
       "4  https://www.zomato.com/bangalore/sri-ganesh-ju...   \n",
       "\n",
       "                                             address  \\\n",
       "0  18, Masjid Street, Opp Akbari Masjid Neelasand...   \n",
       "1  2nd Floor, 1st A Cross Road, Jyothi Nivas Coll...   \n",
       "2  28th, 8th Cross, Maruthi Nagar, Madiwala, BTM,...   \n",
       "3  204, 2nd Level, 4th Floor, Comet Block, UB Cit...   \n",
       "4  513, Opposite Ganesh Temple, Koramangala 8th B...   \n",
       "\n",
       "                        name online_order book_table  votes  \\\n",
       "0         Al Swaad Take Away          Yes         No     13   \n",
       "1          The Boozy Griffin           No        Yes   5015   \n",
       "2                     Barkat           No         No      6   \n",
       "3                   Sriracha           No         No    699   \n",
       "4  Sri Ganesh Juice Junction          Yes         No    129   \n",
       "\n",
       "                            phone               location           rest_type  \\\n",
       "0  +91 7019942388\\n+91 9902335220          Richmond Road         Quick Bites   \n",
       "1                    080 33512954  Koramangala 5th Block  Casual Dining, Pub   \n",
       "2                  +91 9019670836                    BTM         Quick Bites   \n",
       "3  +91 8041755366\\n+91 7022422473           Lavelle Road       Casual Dining   \n",
       "4                  +91 9845623889  Koramangala 8th Block       Beverage Shop   \n",
       "\n",
       "                                          dish_liked  \\\n",
       "0                                                NaN   \n",
       "1  Cocktails, Craft Beer, Salads, Devils Chicken,...   \n",
       "2                                                NaN   \n",
       "3  Noodles, Laksa, Cocktails, Dumplings, Sangria,...   \n",
       "4                                                NaN   \n",
       "\n",
       "                                  cuisines approx_cost(for two people)  \\\n",
       "0      North Indian, South Indian, Arabian                         350   \n",
       "1                    European, Continental                       1,800   \n",
       "2                                   Kerala                         250   \n",
       "3  Thai, Chinese, Indonesian, Asian, Momos                       1,500   \n",
       "4                        Juices, Fast Food                         150   \n",
       "\n",
       "                                        reviews_list  \\\n",
       "0  [('Rated 1.0', 'RATED\\n  If U need reasonable ...   \n",
       "1  [('Rated 5.0', 'RATED\\n  Really great ambience...   \n",
       "2                                                 []   \n",
       "3  [('Rated 3.0', 'RATED\\n  Another restaurant in...   \n",
       "4  [('Rated 4.0', 'RATED\\n  Good cafe with most v...   \n",
       "\n",
       "                                           menu_item listed_in(type)  \\\n",
       "0  ['Beef Seekh Kabab', 'Beef BBQ Chops', 'Beef M...        Delivery   \n",
       "1                                                 []        Dine-out   \n",
       "2                                                 []        Dine-out   \n",
       "3                                                 []        Dine-out   \n",
       "4  ['Dry Fruit Milkshake', 'Wheat Grass with Wate...        Delivery   \n",
       "\n",
       "         listed_in(city) rates  \n",
       "0         Residency Road  3.1   \n",
       "1  Koramangala 6th Block  4.6   \n",
       "2  Koramangala 4th Block  3.4   \n",
       "3         Residency Road  4.3   \n",
       "4  Koramangala 6th Block  3.7   "
      ]
     },
     "execution_count": 3,
     "metadata": {},
     "output_type": "execute_result"
    }
   ],
   "source": [
    "zom.head(5)"
   ]
  },
  {
   "cell_type": "code",
   "execution_count": 4,
   "metadata": {},
   "outputs": [
    {
     "name": "stdout",
     "output_type": "stream",
     "text": [
      "Number of rows =  41373\n",
      "Number of columns =  17\n"
     ]
    }
   ],
   "source": [
    "print('Number of rows = ',zom.shape[0])\n",
    "print('Number of columns = ', zom.shape[1])"
   ]
  },
  {
   "cell_type": "code",
   "execution_count": 5,
   "metadata": {},
   "outputs": [],
   "source": [
    "# information of the varibles \n",
    "def air_data(data):\n",
    "    return pd.DataFrame({\"Data Type\":data.dtypes,\"No of Unique Data\":data.apply(lambda x: x.nunique(),axis=0),\n",
    "                        \"Levels\":data.apply(lambda x: str(x.unique()),axis = 0),\"Null_values\":data.isnull().sum(),'null%':((data.isnull().sum().values/len(data))*100).round(2)})"
   ]
  },
  {
   "cell_type": "code",
   "execution_count": 6,
   "metadata": {},
   "outputs": [
    {
     "data": {
      "text/html": [
       "<div>\n",
       "<style scoped>\n",
       "    .dataframe tbody tr th:only-of-type {\n",
       "        vertical-align: middle;\n",
       "    }\n",
       "\n",
       "    .dataframe tbody tr th {\n",
       "        vertical-align: top;\n",
       "    }\n",
       "\n",
       "    .dataframe thead th {\n",
       "        text-align: right;\n",
       "    }\n",
       "</style>\n",
       "<table border=\"1\" class=\"dataframe\">\n",
       "  <thead>\n",
       "    <tr style=\"text-align: right;\">\n",
       "      <th></th>\n",
       "      <th>Data Type</th>\n",
       "      <th>No of Unique Data</th>\n",
       "      <th>Levels</th>\n",
       "      <th>Null_values</th>\n",
       "      <th>null%</th>\n",
       "    </tr>\n",
       "  </thead>\n",
       "  <tbody>\n",
       "    <tr>\n",
       "      <th>url</th>\n",
       "      <td>object</td>\n",
       "      <td>41373</td>\n",
       "      <td>['https://www.zomato.com/bangalore/al-swaad-ta...</td>\n",
       "      <td>0</td>\n",
       "      <td>0.00</td>\n",
       "    </tr>\n",
       "    <tr>\n",
       "      <th>address</th>\n",
       "      <td>object</td>\n",
       "      <td>11012</td>\n",
       "      <td>['18, Masjid Street, Opp Akbari Masjid Neelasa...</td>\n",
       "      <td>0</td>\n",
       "      <td>0.00</td>\n",
       "    </tr>\n",
       "    <tr>\n",
       "      <th>name</th>\n",
       "      <td>object</td>\n",
       "      <td>8487</td>\n",
       "      <td>['Al Swaad Take Away' 'The Boozy Griffin' 'Bar...</td>\n",
       "      <td>0</td>\n",
       "      <td>0.00</td>\n",
       "    </tr>\n",
       "    <tr>\n",
       "      <th>online_order</th>\n",
       "      <td>object</td>\n",
       "      <td>2</td>\n",
       "      <td>['Yes' 'No']</td>\n",
       "      <td>0</td>\n",
       "      <td>0.00</td>\n",
       "    </tr>\n",
       "    <tr>\n",
       "      <th>book_table</th>\n",
       "      <td>object</td>\n",
       "      <td>2</td>\n",
       "      <td>['No' 'Yes']</td>\n",
       "      <td>0</td>\n",
       "      <td>0.00</td>\n",
       "    </tr>\n",
       "    <tr>\n",
       "      <th>votes</th>\n",
       "      <td>int64</td>\n",
       "      <td>2203</td>\n",
       "      <td>[13 5015 6 ... 2027 573 2421]</td>\n",
       "      <td>0</td>\n",
       "      <td>0.00</td>\n",
       "    </tr>\n",
       "    <tr>\n",
       "      <th>phone</th>\n",
       "      <td>object</td>\n",
       "      <td>12126</td>\n",
       "      <td>['+91 7019942388\\n+91 9902335220' '080 3351295...</td>\n",
       "      <td>971</td>\n",
       "      <td>2.35</td>\n",
       "    </tr>\n",
       "    <tr>\n",
       "      <th>location</th>\n",
       "      <td>object</td>\n",
       "      <td>93</td>\n",
       "      <td>['Richmond Road' 'Koramangala 5th Block' 'BTM'...</td>\n",
       "      <td>15</td>\n",
       "      <td>0.04</td>\n",
       "    </tr>\n",
       "    <tr>\n",
       "      <th>rest_type</th>\n",
       "      <td>object</td>\n",
       "      <td>93</td>\n",
       "      <td>['Quick Bites' 'Casual Dining, Pub' 'Casual Di...</td>\n",
       "      <td>175</td>\n",
       "      <td>0.42</td>\n",
       "    </tr>\n",
       "    <tr>\n",
       "      <th>dish_liked</th>\n",
       "      <td>object</td>\n",
       "      <td>5026</td>\n",
       "      <td>[nan\\n 'Cocktails, Craft Beer, Salads, Devils ...</td>\n",
       "      <td>22472</td>\n",
       "      <td>54.32</td>\n",
       "    </tr>\n",
       "    <tr>\n",
       "      <th>cuisines</th>\n",
       "      <td>object</td>\n",
       "      <td>2654</td>\n",
       "      <td>['North Indian, South Indian, Arabian' 'Europe...</td>\n",
       "      <td>32</td>\n",
       "      <td>0.08</td>\n",
       "    </tr>\n",
       "    <tr>\n",
       "      <th>approx_cost(for two people)</th>\n",
       "      <td>object</td>\n",
       "      <td>68</td>\n",
       "      <td>['350' '1,800' '250' '1,500' '150' '1,000' '45...</td>\n",
       "      <td>279</td>\n",
       "      <td>0.67</td>\n",
       "    </tr>\n",
       "    <tr>\n",
       "      <th>reviews_list</th>\n",
       "      <td>object</td>\n",
       "      <td>19556</td>\n",
       "      <td>['[(\\'Rated 1.0\\', \\'RATED\\\\n  If U need reaso...</td>\n",
       "      <td>0</td>\n",
       "      <td>0.00</td>\n",
       "    </tr>\n",
       "    <tr>\n",
       "      <th>menu_item</th>\n",
       "      <td>object</td>\n",
       "      <td>7658</td>\n",
       "      <td>['[\\'Beef Seekh Kabab\\', \\'Beef BBQ Chops\\', \\...</td>\n",
       "      <td>0</td>\n",
       "      <td>0.00</td>\n",
       "    </tr>\n",
       "    <tr>\n",
       "      <th>listed_in(type)</th>\n",
       "      <td>object</td>\n",
       "      <td>7</td>\n",
       "      <td>['Delivery' 'Dine-out' 'Drinks &amp; nightlife' 'D...</td>\n",
       "      <td>0</td>\n",
       "      <td>0.00</td>\n",
       "    </tr>\n",
       "    <tr>\n",
       "      <th>listed_in(city)</th>\n",
       "      <td>object</td>\n",
       "      <td>30</td>\n",
       "      <td>['Residency Road' 'Koramangala 6th Block' 'Kor...</td>\n",
       "      <td>0</td>\n",
       "      <td>0.00</td>\n",
       "    </tr>\n",
       "    <tr>\n",
       "      <th>rates</th>\n",
       "      <td>object</td>\n",
       "      <td>63</td>\n",
       "      <td>['3.1 ' '4.6 ' '3.4 ' '4.3 ' '3.7 ' '3.0' '3.9...</td>\n",
       "      <td>7981</td>\n",
       "      <td>19.29</td>\n",
       "    </tr>\n",
       "  </tbody>\n",
       "</table>\n",
       "</div>"
      ],
      "text/plain": [
       "                            Data Type  No of Unique Data  \\\n",
       "url                            object              41373   \n",
       "address                        object              11012   \n",
       "name                           object               8487   \n",
       "online_order                   object                  2   \n",
       "book_table                     object                  2   \n",
       "votes                           int64               2203   \n",
       "phone                          object              12126   \n",
       "location                       object                 93   \n",
       "rest_type                      object                 93   \n",
       "dish_liked                     object               5026   \n",
       "cuisines                       object               2654   \n",
       "approx_cost(for two people)    object                 68   \n",
       "reviews_list                   object              19556   \n",
       "menu_item                      object               7658   \n",
       "listed_in(type)                object                  7   \n",
       "listed_in(city)                object                 30   \n",
       "rates                          object                 63   \n",
       "\n",
       "                                                                        Levels  \\\n",
       "url                          ['https://www.zomato.com/bangalore/al-swaad-ta...   \n",
       "address                      ['18, Masjid Street, Opp Akbari Masjid Neelasa...   \n",
       "name                         ['Al Swaad Take Away' 'The Boozy Griffin' 'Bar...   \n",
       "online_order                                                      ['Yes' 'No']   \n",
       "book_table                                                        ['No' 'Yes']   \n",
       "votes                                            [13 5015 6 ... 2027 573 2421]   \n",
       "phone                        ['+91 7019942388\\n+91 9902335220' '080 3351295...   \n",
       "location                     ['Richmond Road' 'Koramangala 5th Block' 'BTM'...   \n",
       "rest_type                    ['Quick Bites' 'Casual Dining, Pub' 'Casual Di...   \n",
       "dish_liked                   [nan\\n 'Cocktails, Craft Beer, Salads, Devils ...   \n",
       "cuisines                     ['North Indian, South Indian, Arabian' 'Europe...   \n",
       "approx_cost(for two people)  ['350' '1,800' '250' '1,500' '150' '1,000' '45...   \n",
       "reviews_list                 ['[(\\'Rated 1.0\\', \\'RATED\\\\n  If U need reaso...   \n",
       "menu_item                    ['[\\'Beef Seekh Kabab\\', \\'Beef BBQ Chops\\', \\...   \n",
       "listed_in(type)              ['Delivery' 'Dine-out' 'Drinks & nightlife' 'D...   \n",
       "listed_in(city)              ['Residency Road' 'Koramangala 6th Block' 'Kor...   \n",
       "rates                        ['3.1 ' '4.6 ' '3.4 ' '4.3 ' '3.7 ' '3.0' '3.9...   \n",
       "\n",
       "                             Null_values  null%  \n",
       "url                                    0   0.00  \n",
       "address                                0   0.00  \n",
       "name                                   0   0.00  \n",
       "online_order                           0   0.00  \n",
       "book_table                             0   0.00  \n",
       "votes                                  0   0.00  \n",
       "phone                                971   2.35  \n",
       "location                              15   0.04  \n",
       "rest_type                            175   0.42  \n",
       "dish_liked                         22472  54.32  \n",
       "cuisines                              32   0.08  \n",
       "approx_cost(for two people)          279   0.67  \n",
       "reviews_list                           0   0.00  \n",
       "menu_item                              0   0.00  \n",
       "listed_in(type)                        0   0.00  \n",
       "listed_in(city)                        0   0.00  \n",
       "rates                               7981  19.29  "
      ]
     },
     "execution_count": 6,
     "metadata": {},
     "output_type": "execute_result"
    }
   ],
   "source": [
    "air_data(zom)"
   ]
  },
  {
   "cell_type": "markdown",
   "metadata": {},
   "source": [
    "From the above table we can find more than 50% of missing values in \"dish_liked\""
   ]
  },
  {
   "cell_type": "code",
   "execution_count": 7,
   "metadata": {},
   "outputs": [
    {
     "data": {
      "text/plain": [
       "int64      1\n",
       "object    16\n",
       "dtype: int64"
      ]
     },
     "execution_count": 7,
     "metadata": {},
     "output_type": "execute_result"
    }
   ],
   "source": [
    "#count of data types\n",
    "zom.get_dtype_counts()"
   ]
  },
  {
   "cell_type": "code",
   "execution_count": 8,
   "metadata": {},
   "outputs": [
    {
     "data": {
      "text/html": [
       "<div>\n",
       "<style scoped>\n",
       "    .dataframe tbody tr th:only-of-type {\n",
       "        vertical-align: middle;\n",
       "    }\n",
       "\n",
       "    .dataframe tbody tr th {\n",
       "        vertical-align: top;\n",
       "    }\n",
       "\n",
       "    .dataframe thead th {\n",
       "        text-align: right;\n",
       "    }\n",
       "</style>\n",
       "<table border=\"1\" class=\"dataframe\">\n",
       "  <thead>\n",
       "    <tr style=\"text-align: right;\">\n",
       "      <th></th>\n",
       "      <th>url</th>\n",
       "      <th>address</th>\n",
       "      <th>name</th>\n",
       "      <th>online_order</th>\n",
       "      <th>book_table</th>\n",
       "      <th>votes</th>\n",
       "      <th>phone</th>\n",
       "      <th>location</th>\n",
       "      <th>rest_type</th>\n",
       "      <th>dish_liked</th>\n",
       "      <th>cuisines</th>\n",
       "      <th>approx_cost(for two people)</th>\n",
       "      <th>reviews_list</th>\n",
       "      <th>menu_item</th>\n",
       "      <th>listed_in(type)</th>\n",
       "      <th>listed_in(city)</th>\n",
       "      <th>rates</th>\n",
       "    </tr>\n",
       "  </thead>\n",
       "  <tbody>\n",
       "  </tbody>\n",
       "</table>\n",
       "</div>"
      ],
      "text/plain": [
       "Empty DataFrame\n",
       "Columns: [url, address, name, online_order, book_table, votes, phone, location, rest_type, dish_liked, cuisines, approx_cost(for two people), reviews_list, menu_item, listed_in(type), listed_in(city), rates]\n",
       "Index: []"
      ]
     },
     "execution_count": 8,
     "metadata": {},
     "output_type": "execute_result"
    }
   ],
   "source": [
    "#Duplicates in the data\n",
    "zom[zom.duplicated()]"
   ]
  },
  {
   "cell_type": "code",
   "execution_count": 9,
   "metadata": {},
   "outputs": [],
   "source": [
    "#Removing the Duplicates if Any\n",
    "zom.drop_duplicates(inplace=True)"
   ]
  },
  {
   "cell_type": "code",
   "execution_count": 10,
   "metadata": {},
   "outputs": [],
   "source": [
    "import matplotlib.pyplot as plt #to deal with plots\n",
    "import seaborn as sns #to get better and user friendly plots"
   ]
  },
  {
   "cell_type": "code",
   "execution_count": 11,
   "metadata": {},
   "outputs": [
    {
     "data": {
      "text/plain": [
       "Yes    24330\n",
       "No     17043\n",
       "Name: online_order, dtype: int64"
      ]
     },
     "execution_count": 11,
     "metadata": {},
     "output_type": "execute_result"
    }
   ],
   "source": [
    "zom['online_order'].value_counts()"
   ]
  },
  {
   "cell_type": "code",
   "execution_count": 12,
   "metadata": {},
   "outputs": [
    {
     "data": {
      "text/plain": [
       "Text(0.5, 1.0, 'Type of restusrents providing online_order facility')"
      ]
     },
     "execution_count": 12,
     "metadata": {},
     "output_type": "execute_result"
    },
    {
     "data": {
      "image/png": "[encoded data removed]",
      "text/plain": [
       "<Figure size 720x720 with 1 Axes>"
      ]
     },
     "metadata": {
      "needs_background": "light"
     },
     "output_type": "display_data"
    }
   ],
   "source": [
    "sns.countplot(x=zom['online_order'],hue= zom['listed_in(type)'])\n",
    "fig=plt.gcf()\n",
    "fig.set_size_inches(10,10)\n",
    "plt.title('Type of restusrents providing online_order facility')"
   ]
  },
  {
   "cell_type": "code",
   "execution_count": 13,
   "metadata": {},
   "outputs": [
    {
     "data": {
      "text/plain": [
       "Delivery              20778\n",
       "Dine-out              14224\n",
       "Desserts               2838\n",
       "Cafes                  1387\n",
       "Drinks & nightlife      885\n",
       "Buffet                  699\n",
       "Pubs and bars           562\n",
       "Name: listed_in(type), dtype: int64"
      ]
     },
     "execution_count": 13,
     "metadata": {},
     "output_type": "execute_result"
    }
   ],
   "source": [
    "zom['listed_in(type)'].value_counts()"
   ]
  },
  {
   "cell_type": "code",
   "execution_count": 14,
   "metadata": {},
   "outputs": [
    {
     "data": {
      "text/plain": [
       "Text(0.5, 1.0, 'Type of restusrents providing table booking facility')"
      ]
     },
     "execution_count": 14,
     "metadata": {},
     "output_type": "execute_result"
    },
    {
     "data": {
      "image/png": "[encoded data removed]",
      "text/plain": [
       "<Figure size 720x720 with 1 Axes>"
      ]
     },
     "metadata": {
      "needs_background": "light"
     },
     "output_type": "display_data"
    }
   ],
   "source": [
    "sns.countplot(x=zom['book_table'],hue= zom['listed_in(type)'])\n",
    "fig=plt.gcf()\n",
    "fig.set_size_inches(10,10)\n",
    "plt.title('Type of restusrents providing table booking facility')"
   ]
  },
  {
   "cell_type": "code",
   "execution_count": 15,
   "metadata": {},
   "outputs": [
    {
     "data": {
      "text/plain": [
       "Text(0.5, 0, 'Number of outlets')"
      ]
     },
     "execution_count": 15,
     "metadata": {},
     "output_type": "execute_result"
    },
    {
     "data": {
      "image/png": "[encoded data removed]",
      "text/plain": [
       "<Figure size 720x504 with 1 Axes>"
      ]
     },
     "metadata": {
      "needs_background": "light"
     },
     "output_type": "display_data"
    }
   ],
   "source": [
    "plt.figure(figsize=(10,7))\n",
    "chains=zom['name'].value_counts()[:20]\n",
    "sns.barplot(x=chains,y=chains.index,palette='deep')\n",
    "plt.title(\"Most famous restaurants chains in Bangaluru\")\n",
    "plt.xlabel(\"Number of outlets\")"
   ]
  },
  {
   "cell_type": "code",
   "execution_count": 16,
   "metadata": {},
   "outputs": [
    {
     "data": {
      "text/plain": [
       "Text(0.5, 0, 'count')"
      ]
     },
     "execution_count": 16,
     "metadata": {},
     "output_type": "execute_result"
    },
    {
     "data": {
      "image/png": "[encoded data removed]",
      "text/plain": [
       "<Figure size 504x504 with 1 Axes>"
      ]
     },
     "metadata": {
      "needs_background": "light"
     },
     "output_type": "display_data"
    }
   ],
   "source": [
    "plt.figure(figsize=(7,7))\n",
    "rest=zom['rest_type'].value_counts()[:20]\n",
    "sns.barplot(rest,rest.index)\n",
    "plt.title(\"Restaurant types\")\n",
    "plt.xlabel(\"count\")"
   ]
  },
  {
   "cell_type": "markdown",
   "metadata": {},
   "source": [
    "Dropping some column in the data set"
   ]
  },
  {
   "cell_type": "code",
   "execution_count": 17,
   "metadata": {},
   "outputs": [],
   "source": [
    "zomato = zom.drop(['url','dish_liked','phone','name','address'],axis = 1, inplace = True)"
   ]
  },
  {
   "cell_type": "code",
   "execution_count": 18,
   "metadata": {},
   "outputs": [
    {
     "data": {
      "text/plain": [
       "Index(['online_order', 'book_table', 'votes', 'location', 'rest_type',\n",
       "       'cuisines', 'approx_cost(for two people)', 'reviews_list', 'menu_item',\n",
       "       'listed_in(type)', 'listed_in(city)', 'rates'],\n",
       "      dtype='object')"
      ]
     },
     "execution_count": 18,
     "metadata": {},
     "output_type": "execute_result"
    }
   ],
   "source": [
    "zom.columns"
   ]
  },
  {
   "cell_type": "markdown",
   "metadata": {},
   "source": [
    "\"votes\" and \"approx_cost(for two people)\" have values like 1,000. So we will change them into pure numeric values.\n",
    "For this, we will use the lambda function"
   ]
  },
  {
   "cell_type": "code",
   "execution_count": 19,
   "metadata": {},
   "outputs": [],
   "source": [
    "zom[\"approx_cost(for two people)\"] = zom[\"approx_cost(for two people)\"].str.replace(\",\",\"\")"
   ]
  },
  {
   "cell_type": "code",
   "execution_count": 21,
   "metadata": {},
   "outputs": [],
   "source": [
    "remove_comma = lambda x: int(x.replace(',', '')) if type(x) == np.str and x != np.nan else x "
   ]
  },
  {
   "cell_type": "code",
   "execution_count": 22,
   "metadata": {},
   "outputs": [],
   "source": [
    "zom[\"approx_cost(for two people)\"] = zom[\"approx_cost(for two people)\"].apply(remove_comma)"
   ]
  },
  {
   "cell_type": "markdown",
   "metadata": {},
   "source": [
    "Confirming the data-types of \"votes\" and \"approx_cost_for_2_people\""
   ]
  },
  {
   "cell_type": "code",
   "execution_count": 23,
   "metadata": {},
   "outputs": [
    {
     "data": {
      "text/plain": [
       "online_order                    object\n",
       "book_table                      object\n",
       "votes                            int64\n",
       "location                        object\n",
       "rest_type                       object\n",
       "cuisines                        object\n",
       "approx_cost(for two people)    float64\n",
       "reviews_list                    object\n",
       "menu_item                       object\n",
       "listed_in(type)                 object\n",
       "listed_in(city)                 object\n",
       "rates                           object\n",
       "dtype: object"
      ]
     },
     "execution_count": 23,
     "metadata": {},
     "output_type": "execute_result"
    }
   ],
   "source": [
    "zom.dtypes"
   ]
  },
  {
   "cell_type": "markdown",
   "metadata": {},
   "source": [
    "Converting rate into float "
   ]
  },
  {
   "cell_type": "code",
   "execution_count": 24,
   "metadata": {},
   "outputs": [
    {
     "data": {
      "text/plain": [
       "array(['3.1 ', '4.6 ', '3.4 ', '4.3 ', '3.7 ', '3.0', '3.9 ', '4.1',\n",
       "       '3.6', '3.8 ', '3.2', '3.6 ', nan, '3.2 ', '3.3 ', '2.9', '4.4',\n",
       "       '3.9', '4.3', '3.8', '3.4', '4.2 ', '3.7', '4.1 ', '4.0 ', '3.5',\n",
       "       '2.7 ', '4.5', '4.6', '4.2', '4.7', '2.9 ', '3.5 ', '2.8 ', '2.7',\n",
       "       '3.1', '3.0 ', '4.4 ', '2.2', '4.5 ', '3.3', '2.6', '4.0', '2.8',\n",
       "       '-', '2.5', '2.6 ', '4.7 ', '2.3', '4.8', '4.8 ', '2.3 ', '2.4 ',\n",
       "       '2.5 ', '4.9 ', '4.9', '2.4', '2.1', '2.0 ', '1.8', '2.2 ', '2.1 ',\n",
       "       '2.0', '1.8 '], dtype=object)"
      ]
     },
     "execution_count": 24,
     "metadata": {},
     "output_type": "execute_result"
    }
   ],
   "source": [
    "zom['rates'].unique()"
   ]
  },
  {
   "cell_type": "code",
   "execution_count": 25,
   "metadata": {},
   "outputs": [],
   "source": [
    "zom = zom.loc[zom.rates != '-'].reset_index(drop = True)"
   ]
  },
  {
   "cell_type": "code",
   "execution_count": 26,
   "metadata": {},
   "outputs": [],
   "source": [
    "zom.dropna(axis=0,inplace=True)"
   ]
  },
  {
   "cell_type": "code",
   "execution_count": 27,
   "metadata": {},
   "outputs": [
    {
     "data": {
      "text/plain": [
       "(33015, 12)"
      ]
     },
     "execution_count": 27,
     "metadata": {},
     "output_type": "execute_result"
    }
   ],
   "source": [
    "zom.shape"
   ]
  },
  {
   "cell_type": "code",
   "execution_count": 28,
   "metadata": {},
   "outputs": [
    {
     "data": {
      "text/plain": [
       "online_order                    object\n",
       "book_table                      object\n",
       "votes                            int64\n",
       "location                        object\n",
       "rest_type                       object\n",
       "cuisines                        object\n",
       "approx_cost(for two people)    float64\n",
       "reviews_list                    object\n",
       "menu_item                       object\n",
       "listed_in(type)                 object\n",
       "listed_in(city)                 object\n",
       "rates                           object\n",
       "dtype: object"
      ]
     },
     "execution_count": 28,
     "metadata": {},
     "output_type": "execute_result"
    }
   ],
   "source": [
    "zom.dtypes"
   ]
  },
  {
   "cell_type": "markdown",
   "metadata": {},
   "source": [
    "Converting object to float \"rates\" column "
   ]
  },
  {
   "cell_type": "code",
   "execution_count": 29,
   "metadata": {},
   "outputs": [],
   "source": [
    "zom.rates = zom.rates.str.strip().astype('float')"
   ]
  },
  {
   "cell_type": "code",
   "execution_count": 30,
   "metadata": {},
   "outputs": [],
   "source": [
    "zom.votes = zom.votes.astype('float')"
   ]
  },
  {
   "cell_type": "code",
   "execution_count": 31,
   "metadata": {},
   "outputs": [
    {
     "data": {
      "text/plain": [
       "online_order                    object\n",
       "book_table                      object\n",
       "votes                          float64\n",
       "location                        object\n",
       "rest_type                       object\n",
       "cuisines                        object\n",
       "approx_cost(for two people)    float64\n",
       "reviews_list                    object\n",
       "menu_item                       object\n",
       "listed_in(type)                 object\n",
       "listed_in(city)                 object\n",
       "rates                          float64\n",
       "dtype: object"
      ]
     },
     "execution_count": 31,
     "metadata": {},
     "output_type": "execute_result"
    }
   ],
   "source": [
    "zom.dtypes"
   ]
  },
  {
   "cell_type": "markdown",
   "metadata": {},
   "source": [
    "Lable Encoding "
   ]
  },
  {
   "cell_type": "code",
   "execution_count": 32,
   "metadata": {},
   "outputs": [],
   "source": [
    "def Encode(zom):\n",
    "    for column in zom.columns[~zom.columns.isin(['rates', 'approx_cost(for two people)', 'votes'])]:\n",
    "        zom[column] = zom[column].factorize()[0]\n",
    "    return zom\n",
    "\n",
    "zom_en = Encode(zom.copy())"
   ]
  },
  {
   "cell_type": "code",
   "execution_count": 33,
   "metadata": {},
   "outputs": [
    {
     "data": {
      "text/html": [
       "<div>\n",
       "<style scoped>\n",
       "    .dataframe tbody tr th:only-of-type {\n",
       "        vertical-align: middle;\n",
       "    }\n",
       "\n",
       "    .dataframe tbody tr th {\n",
       "        vertical-align: top;\n",
       "    }\n",
       "\n",
       "    .dataframe thead th {\n",
       "        text-align: right;\n",
       "    }\n",
       "</style>\n",
       "<table border=\"1\" class=\"dataframe\">\n",
       "  <thead>\n",
       "    <tr style=\"text-align: right;\">\n",
       "      <th></th>\n",
       "      <th>online_order</th>\n",
       "      <th>book_table</th>\n",
       "      <th>votes</th>\n",
       "      <th>location</th>\n",
       "      <th>rest_type</th>\n",
       "      <th>cuisines</th>\n",
       "      <th>approx_cost(for two people)</th>\n",
       "      <th>reviews_list</th>\n",
       "      <th>menu_item</th>\n",
       "      <th>listed_in(type)</th>\n",
       "      <th>listed_in(city)</th>\n",
       "      <th>rates</th>\n",
       "    </tr>\n",
       "  </thead>\n",
       "  <tbody>\n",
       "    <tr>\n",
       "      <th>0</th>\n",
       "      <td>0</td>\n",
       "      <td>0</td>\n",
       "      <td>13.0</td>\n",
       "      <td>0</td>\n",
       "      <td>0</td>\n",
       "      <td>0</td>\n",
       "      <td>350.0</td>\n",
       "      <td>0</td>\n",
       "      <td>0</td>\n",
       "      <td>0</td>\n",
       "      <td>0</td>\n",
       "      <td>3.1</td>\n",
       "    </tr>\n",
       "    <tr>\n",
       "      <th>1</th>\n",
       "      <td>1</td>\n",
       "      <td>1</td>\n",
       "      <td>5015.0</td>\n",
       "      <td>1</td>\n",
       "      <td>1</td>\n",
       "      <td>1</td>\n",
       "      <td>1800.0</td>\n",
       "      <td>1</td>\n",
       "      <td>1</td>\n",
       "      <td>1</td>\n",
       "      <td>1</td>\n",
       "      <td>4.6</td>\n",
       "    </tr>\n",
       "    <tr>\n",
       "      <th>2</th>\n",
       "      <td>1</td>\n",
       "      <td>0</td>\n",
       "      <td>6.0</td>\n",
       "      <td>2</td>\n",
       "      <td>0</td>\n",
       "      <td>2</td>\n",
       "      <td>250.0</td>\n",
       "      <td>2</td>\n",
       "      <td>1</td>\n",
       "      <td>1</td>\n",
       "      <td>2</td>\n",
       "      <td>3.4</td>\n",
       "    </tr>\n",
       "    <tr>\n",
       "      <th>3</th>\n",
       "      <td>1</td>\n",
       "      <td>0</td>\n",
       "      <td>699.0</td>\n",
       "      <td>3</td>\n",
       "      <td>2</td>\n",
       "      <td>3</td>\n",
       "      <td>1500.0</td>\n",
       "      <td>3</td>\n",
       "      <td>1</td>\n",
       "      <td>1</td>\n",
       "      <td>0</td>\n",
       "      <td>4.3</td>\n",
       "    </tr>\n",
       "    <tr>\n",
       "      <th>4</th>\n",
       "      <td>0</td>\n",
       "      <td>0</td>\n",
       "      <td>129.0</td>\n",
       "      <td>4</td>\n",
       "      <td>3</td>\n",
       "      <td>4</td>\n",
       "      <td>150.0</td>\n",
       "      <td>4</td>\n",
       "      <td>2</td>\n",
       "      <td>0</td>\n",
       "      <td>1</td>\n",
       "      <td>3.7</td>\n",
       "    </tr>\n",
       "  </tbody>\n",
       "</table>\n",
       "</div>"
      ],
      "text/plain": [
       "   online_order  book_table   votes  location  rest_type  cuisines  \\\n",
       "0             0           0    13.0         0          0         0   \n",
       "1             1           1  5015.0         1          1         1   \n",
       "2             1           0     6.0         2          0         2   \n",
       "3             1           0   699.0         3          2         3   \n",
       "4             0           0   129.0         4          3         4   \n",
       "\n",
       "   approx_cost(for two people)  reviews_list  menu_item  listed_in(type)  \\\n",
       "0                        350.0             0          0                0   \n",
       "1                       1800.0             1          1                1   \n",
       "2                        250.0             2          1                1   \n",
       "3                       1500.0             3          1                1   \n",
       "4                        150.0             4          2                0   \n",
       "\n",
       "   listed_in(city)  rates  \n",
       "0                0    3.1  \n",
       "1                1    4.6  \n",
       "2                2    3.4  \n",
       "3                0    4.3  \n",
       "4                1    3.7  "
      ]
     },
     "execution_count": 33,
     "metadata": {},
     "output_type": "execute_result"
    }
   ],
   "source": [
    "zom_en.head(5)"
   ]
  },
  {
   "cell_type": "code",
   "execution_count": 34,
   "metadata": {},
   "outputs": [
    {
     "data": {
      "image/png": "[encoded data removed]",
      "text/plain": [
       "<Figure size 864x432 with 1 Axes>"
      ]
     },
     "metadata": {
      "needs_background": "light"
     },
     "output_type": "display_data"
    }
   ],
   "source": [
    "matrix = zom_en.corr()\n",
    "f, ax = plt.subplots(figsize=(12, 6))\n",
    "with sns.axes_style(\"white\"):\n",
    "    sns.heatmap(matrix,mask=np.triu(matrix,1),annot=True, vmax=.8,cbar=False,cmap=\"coolwarm\");"
   ]
  },
  {
   "cell_type": "code",
   "execution_count": 35,
   "metadata": {},
   "outputs": [
    {
     "data": {
      "text/html": [
       "<div>\n",
       "<style scoped>\n",
       "    .dataframe tbody tr th:only-of-type {\n",
       "        vertical-align: middle;\n",
       "    }\n",
       "\n",
       "    .dataframe tbody tr th {\n",
       "        vertical-align: top;\n",
       "    }\n",
       "\n",
       "    .dataframe thead th {\n",
       "        text-align: right;\n",
       "    }\n",
       "</style>\n",
       "<table border=\"1\" class=\"dataframe\">\n",
       "  <thead>\n",
       "    <tr style=\"text-align: right;\">\n",
       "      <th></th>\n",
       "      <th>online_order</th>\n",
       "      <th>book_table</th>\n",
       "      <th>votes</th>\n",
       "      <th>location</th>\n",
       "      <th>rest_type</th>\n",
       "      <th>cuisines</th>\n",
       "      <th>approx_cost(for two people)</th>\n",
       "      <th>reviews_list</th>\n",
       "      <th>menu_item</th>\n",
       "      <th>listed_in(type)</th>\n",
       "      <th>listed_in(city)</th>\n",
       "      <th>rates</th>\n",
       "    </tr>\n",
       "  </thead>\n",
       "  <tbody>\n",
       "    <tr>\n",
       "      <th>0</th>\n",
       "      <td>Yes</td>\n",
       "      <td>No</td>\n",
       "      <td>13.0</td>\n",
       "      <td>Richmond Road</td>\n",
       "      <td>Quick Bites</td>\n",
       "      <td>North Indian, South Indian, Arabian</td>\n",
       "      <td>350.0</td>\n",
       "      <td>[('Rated 1.0', 'RATED\\n  If U need reasonable ...</td>\n",
       "      <td>['Beef Seekh Kabab', 'Beef BBQ Chops', 'Beef M...</td>\n",
       "      <td>Delivery</td>\n",
       "      <td>Residency Road</td>\n",
       "      <td>3.1</td>\n",
       "    </tr>\n",
       "    <tr>\n",
       "      <th>1</th>\n",
       "      <td>No</td>\n",
       "      <td>Yes</td>\n",
       "      <td>5015.0</td>\n",
       "      <td>Koramangala 5th Block</td>\n",
       "      <td>Casual Dining, Pub</td>\n",
       "      <td>European, Continental</td>\n",
       "      <td>1800.0</td>\n",
       "      <td>[('Rated 5.0', 'RATED\\n  Really great ambience...</td>\n",
       "      <td>[]</td>\n",
       "      <td>Dine-out</td>\n",
       "      <td>Koramangala 6th Block</td>\n",
       "      <td>4.6</td>\n",
       "    </tr>\n",
       "    <tr>\n",
       "      <th>2</th>\n",
       "      <td>No</td>\n",
       "      <td>No</td>\n",
       "      <td>6.0</td>\n",
       "      <td>BTM</td>\n",
       "      <td>Quick Bites</td>\n",
       "      <td>Kerala</td>\n",
       "      <td>250.0</td>\n",
       "      <td>[]</td>\n",
       "      <td>[]</td>\n",
       "      <td>Dine-out</td>\n",
       "      <td>Koramangala 4th Block</td>\n",
       "      <td>3.4</td>\n",
       "    </tr>\n",
       "    <tr>\n",
       "      <th>3</th>\n",
       "      <td>No</td>\n",
       "      <td>No</td>\n",
       "      <td>699.0</td>\n",
       "      <td>Lavelle Road</td>\n",
       "      <td>Casual Dining</td>\n",
       "      <td>Thai, Chinese, Indonesian, Asian, Momos</td>\n",
       "      <td>1500.0</td>\n",
       "      <td>[('Rated 3.0', 'RATED\\n  Another restaurant in...</td>\n",
       "      <td>[]</td>\n",
       "      <td>Dine-out</td>\n",
       "      <td>Residency Road</td>\n",
       "      <td>4.3</td>\n",
       "    </tr>\n",
       "    <tr>\n",
       "      <th>4</th>\n",
       "      <td>Yes</td>\n",
       "      <td>No</td>\n",
       "      <td>129.0</td>\n",
       "      <td>Koramangala 8th Block</td>\n",
       "      <td>Beverage Shop</td>\n",
       "      <td>Juices, Fast Food</td>\n",
       "      <td>150.0</td>\n",
       "      <td>[('Rated 4.0', 'RATED\\n  Good cafe with most v...</td>\n",
       "      <td>['Dry Fruit Milkshake', 'Wheat Grass with Wate...</td>\n",
       "      <td>Delivery</td>\n",
       "      <td>Koramangala 6th Block</td>\n",
       "      <td>3.7</td>\n",
       "    </tr>\n",
       "  </tbody>\n",
       "</table>\n",
       "</div>"
      ],
      "text/plain": [
       "  online_order book_table   votes               location           rest_type  \\\n",
       "0          Yes         No    13.0          Richmond Road         Quick Bites   \n",
       "1           No        Yes  5015.0  Koramangala 5th Block  Casual Dining, Pub   \n",
       "2           No         No     6.0                    BTM         Quick Bites   \n",
       "3           No         No   699.0           Lavelle Road       Casual Dining   \n",
       "4          Yes         No   129.0  Koramangala 8th Block       Beverage Shop   \n",
       "\n",
       "                                  cuisines  approx_cost(for two people)  \\\n",
       "0      North Indian, South Indian, Arabian                        350.0   \n",
       "1                    European, Continental                       1800.0   \n",
       "2                                   Kerala                        250.0   \n",
       "3  Thai, Chinese, Indonesian, Asian, Momos                       1500.0   \n",
       "4                        Juices, Fast Food                        150.0   \n",
       "\n",
       "                                        reviews_list  \\\n",
       "0  [('Rated 1.0', 'RATED\\n  If U need reasonable ...   \n",
       "1  [('Rated 5.0', 'RATED\\n  Really great ambience...   \n",
       "2                                                 []   \n",
       "3  [('Rated 3.0', 'RATED\\n  Another restaurant in...   \n",
       "4  [('Rated 4.0', 'RATED\\n  Good cafe with most v...   \n",
       "\n",
       "                                           menu_item listed_in(type)  \\\n",
       "0  ['Beef Seekh Kabab', 'Beef BBQ Chops', 'Beef M...        Delivery   \n",
       "1                                                 []        Dine-out   \n",
       "2                                                 []        Dine-out   \n",
       "3                                                 []        Dine-out   \n",
       "4  ['Dry Fruit Milkshake', 'Wheat Grass with Wate...        Delivery   \n",
       "\n",
       "         listed_in(city)  rates  \n",
       "0         Residency Road    3.1  \n",
       "1  Koramangala 6th Block    4.6  \n",
       "2  Koramangala 4th Block    3.4  \n",
       "3         Residency Road    4.3  \n",
       "4  Koramangala 6th Block    3.7  "
      ]
     },
     "execution_count": 35,
     "metadata": {},
     "output_type": "execute_result"
    }
   ],
   "source": [
    "zom.head(5)"
   ]
  },
  {
   "cell_type": "code",
   "execution_count": 36,
   "metadata": {},
   "outputs": [],
   "source": [
    "## TEST TRAIN SPLIT\n",
    "X = zom_en.drop(columns=['rates'],axis=1)\n",
    "y = zom_en['rates']"
   ]
  },
  {
   "cell_type": "code",
   "execution_count": 37,
   "metadata": {},
   "outputs": [],
   "source": [
    "from sklearn.model_selection import train_test_split"
   ]
  },
  {
   "cell_type": "code",
   "execution_count": 38,
   "metadata": {},
   "outputs": [],
   "source": [
    "trainx,valx,trainy,valy = train_test_split(X, y ,test_size=0.3,random_state=123)"
   ]
  },
  {
   "cell_type": "code",
   "execution_count": 39,
   "metadata": {},
   "outputs": [
    {
     "name": "stdout",
     "output_type": "stream",
     "text": [
      "(23110, 11) (9905, 11) (23110,) (9905,)\n"
     ]
    }
   ],
   "source": [
    "print(trainx.shape,valx.shape,trainy.shape,valy.shape)"
   ]
  },
  {
   "cell_type": "code",
   "execution_count": 40,
   "metadata": {},
   "outputs": [
    {
     "data": {
      "text/html": [
       "<div>\n",
       "<style scoped>\n",
       "    .dataframe tbody tr th:only-of-type {\n",
       "        vertical-align: middle;\n",
       "    }\n",
       "\n",
       "    .dataframe tbody tr th {\n",
       "        vertical-align: top;\n",
       "    }\n",
       "\n",
       "    .dataframe thead th {\n",
       "        text-align: right;\n",
       "    }\n",
       "</style>\n",
       "<table border=\"1\" class=\"dataframe\">\n",
       "  <thead>\n",
       "    <tr style=\"text-align: right;\">\n",
       "      <th></th>\n",
       "      <th>online_order</th>\n",
       "      <th>book_table</th>\n",
       "      <th>votes</th>\n",
       "      <th>location</th>\n",
       "      <th>rest_type</th>\n",
       "      <th>cuisines</th>\n",
       "      <th>approx_cost(for two people)</th>\n",
       "      <th>reviews_list</th>\n",
       "      <th>menu_item</th>\n",
       "      <th>listed_in(type)</th>\n",
       "      <th>listed_in(city)</th>\n",
       "    </tr>\n",
       "  </thead>\n",
       "  <tbody>\n",
       "    <tr>\n",
       "      <th>36511</th>\n",
       "      <td>0</td>\n",
       "      <td>0</td>\n",
       "      <td>183.0</td>\n",
       "      <td>2</td>\n",
       "      <td>0</td>\n",
       "      <td>129</td>\n",
       "      <td>250.0</td>\n",
       "      <td>16780</td>\n",
       "      <td>5962</td>\n",
       "      <td>1</td>\n",
       "      <td>3</td>\n",
       "    </tr>\n",
       "    <tr>\n",
       "      <th>33637</th>\n",
       "      <td>0</td>\n",
       "      <td>0</td>\n",
       "      <td>397.0</td>\n",
       "      <td>35</td>\n",
       "      <td>6</td>\n",
       "      <td>2069</td>\n",
       "      <td>700.0</td>\n",
       "      <td>13750</td>\n",
       "      <td>1</td>\n",
       "      <td>0</td>\n",
       "      <td>6</td>\n",
       "    </tr>\n",
       "    <tr>\n",
       "      <th>18132</th>\n",
       "      <td>0</td>\n",
       "      <td>0</td>\n",
       "      <td>14.0</td>\n",
       "      <td>30</td>\n",
       "      <td>36</td>\n",
       "      <td>145</td>\n",
       "      <td>350.0</td>\n",
       "      <td>10106</td>\n",
       "      <td>1</td>\n",
       "      <td>4</td>\n",
       "      <td>20</td>\n",
       "    </tr>\n",
       "    <tr>\n",
       "      <th>28587</th>\n",
       "      <td>1</td>\n",
       "      <td>0</td>\n",
       "      <td>6.0</td>\n",
       "      <td>22</td>\n",
       "      <td>15</td>\n",
       "      <td>47</td>\n",
       "      <td>300.0</td>\n",
       "      <td>14140</td>\n",
       "      <td>1</td>\n",
       "      <td>0</td>\n",
       "      <td>19</td>\n",
       "    </tr>\n",
       "  </tbody>\n",
       "</table>\n",
       "</div>"
      ],
      "text/plain": [
       "       online_order  book_table  votes  location  rest_type  cuisines  \\\n",
       "36511             0           0  183.0         2          0       129   \n",
       "33637             0           0  397.0        35          6      2069   \n",
       "18132             0           0   14.0        30         36       145   \n",
       "28587             1           0    6.0        22         15        47   \n",
       "\n",
       "       approx_cost(for two people)  reviews_list  menu_item  listed_in(type)  \\\n",
       "36511                        250.0         16780       5962                1   \n",
       "33637                        700.0         13750          1                0   \n",
       "18132                        350.0         10106          1                4   \n",
       "28587                        300.0         14140          1                0   \n",
       "\n",
       "       listed_in(city)  \n",
       "36511                3  \n",
       "33637                6  \n",
       "18132               20  \n",
       "28587               19  "
      ]
     },
     "execution_count": 40,
     "metadata": {},
     "output_type": "execute_result"
    }
   ],
   "source": [
    "trainx.head(4)"
   ]
  },
  {
   "cell_type": "code",
   "execution_count": 41,
   "metadata": {},
   "outputs": [
    {
     "data": {
      "text/plain": [
       "36511    3.9\n",
       "33637    4.3\n",
       "18132    3.6\n",
       "28587    3.2\n",
       "25244    3.3\n",
       "Name: rates, dtype: float64"
      ]
     },
     "execution_count": 41,
     "metadata": {},
     "output_type": "execute_result"
    }
   ],
   "source": [
    "trainy.head()"
   ]
  },
  {
   "cell_type": "markdown",
   "metadata": {},
   "source": [
    "Model - 1 "
   ]
  },
  {
   "cell_type": "code",
   "execution_count": 42,
   "metadata": {},
   "outputs": [],
   "source": [
    "from sklearn.linear_model import LinearRegression"
   ]
  },
  {
   "cell_type": "code",
   "execution_count": 43,
   "metadata": {},
   "outputs": [
    {
     "data": {
      "text/plain": [
       "LinearRegression(copy_X=True, fit_intercept=True, n_jobs=None, normalize=False)"
      ]
     },
     "execution_count": 43,
     "metadata": {},
     "output_type": "execute_result"
    }
   ],
   "source": [
    "reg=LinearRegression()\n",
    "reg.fit(trainx,trainy)"
   ]
  },
  {
   "cell_type": "code",
   "execution_count": 44,
   "metadata": {},
   "outputs": [],
   "source": [
    "from sklearn.metrics import r2_score"
   ]
  },
  {
   "cell_type": "code",
   "execution_count": 45,
   "metadata": {},
   "outputs": [
    {
     "data": {
      "text/plain": [
       "0.31043382255280283"
      ]
     },
     "execution_count": 45,
     "metadata": {},
     "output_type": "execute_result"
    }
   ],
   "source": [
    "y_pred=reg.predict(valx)\n",
    "r2_score(valy,y_pred)"
   ]
  },
  {
   "cell_type": "markdown",
   "metadata": {},
   "source": [
    "Model - 2"
   ]
  },
  {
   "cell_type": "code",
   "execution_count": 46,
   "metadata": {},
   "outputs": [],
   "source": [
    "from sklearn.tree import DecisionTreeRegressor"
   ]
  },
  {
   "cell_type": "code",
   "execution_count": 47,
   "metadata": {},
   "outputs": [],
   "source": [
    "DT=DecisionTreeRegressor()"
   ]
  },
  {
   "cell_type": "code",
   "execution_count": 48,
   "metadata": {},
   "outputs": [
    {
     "data": {
      "text/plain": [
       "DecisionTreeRegressor(criterion='mse', max_depth=None, max_features=None,\n",
       "                      max_leaf_nodes=None, min_impurity_decrease=0.0,\n",
       "                      min_impurity_split=None, min_samples_leaf=1,\n",
       "                      min_samples_split=2, min_weight_fraction_leaf=0.0,\n",
       "                      presort=False, random_state=None, splitter='best')"
      ]
     },
     "execution_count": 48,
     "metadata": {},
     "output_type": "execute_result"
    }
   ],
   "source": [
    "DT.fit(trainx,trainy)"
   ]
  },
  {
   "cell_type": "code",
   "execution_count": 49,
   "metadata": {},
   "outputs": [],
   "source": [
    "y_predict = DT.predict(trainx)"
   ]
  },
  {
   "cell_type": "code",
   "execution_count": 50,
   "metadata": {},
   "outputs": [],
   "source": [
    "from sklearn.ensemble import RandomForestRegressor"
   ]
  },
  {
   "cell_type": "code",
   "execution_count": 51,
   "metadata": {},
   "outputs": [],
   "source": [
    "RF=RandomForestRegressor(n_estimators=5,random_state=329,min_samples_leaf=.0001)"
   ]
  },
  {
   "cell_type": "code",
   "execution_count": 52,
   "metadata": {},
   "outputs": [],
   "source": [
    "RF.fit(trainx,trainy)\n",
    "y_predict=RF.predict(valx)"
   ]
  },
  {
   "cell_type": "code",
   "execution_count": 53,
   "metadata": {},
   "outputs": [
    {
     "data": {
      "text/plain": [
       "0.7573521689276771"
      ]
     },
     "execution_count": 53,
     "metadata": {},
     "output_type": "execute_result"
    }
   ],
   "source": [
    "r2_score(valy,y_predict)"
   ]
  },
  {
   "cell_type": "code",
   "execution_count": null,
   "metadata": {},
   "outputs": [],
   "source": []
  },
  {
   "cell_type": "code",
   "execution_count": null,
   "metadata": {},
   "outputs": [],
   "source": []
  },
  {
   "cell_type": "code",
   "execution_count": null,
   "metadata": {},
   "outputs": [],
   "source": []
  },
  {
   "cell_type": "code",
   "execution_count": null,
   "metadata": {},
   "outputs": [],
   "source": []
  },
  {
   "cell_type": "code",
   "execution_count": null,
   "metadata": {},
   "outputs": [],
   "source": []
  },
  {
   "cell_type": "code",
   "execution_count": null,
   "metadata": {},
   "outputs": [],
   "source": []
  },
  {
   "cell_type": "code",
   "execution_count": null,
   "metadata": {},
   "outputs": [],
   "source": []
  },
  {
   "cell_type": "code",
   "execution_count": null,
   "metadata": {},
   "outputs": [],
   "source": []
  },
  {
   "cell_type": "code",
   "execution_count": null,
   "metadata": {},
   "outputs": [],
   "source": []
  },
  {
   "cell_type": "code",
   "execution_count": null,
   "metadata": {},
   "outputs": [],
   "source": []
  },
  {
   "cell_type": "code",
   "execution_count": null,
   "metadata": {},
   "outputs": [],
   "source": []
  },
  {
   "cell_type": "code",
   "execution_count": null,
   "metadata": {},
   "outputs": [],
   "source": []
  },
  {
   "cell_type": "code",
   "execution_count": null,
   "metadata": {},
   "outputs": [],
   "source": []
  },
  {
   "cell_type": "code",
   "execution_count": null,
   "metadata": {},
   "outputs": [],
   "source": []
  },
  {
   "cell_type": "code",
   "execution_count": null,
   "metadata": {},
   "outputs": [],
   "source": []
  },
  {
   "cell_type": "code",
   "execution_count": null,
   "metadata": {},
   "outputs": [],
   "source": []
  },
  {
   "cell_type": "code",
   "execution_count": null,
   "metadata": {},
   "outputs": [],
   "source": []
  },
  {
   "cell_type": "code",
   "execution_count": null,
   "metadata": {},
   "outputs": [],
   "source": []
  },
  {
   "cell_type": "code",
   "execution_count": null,
   "metadata": {},
   "outputs": [],
   "source": []
  },
  {
   "cell_type": "code",
   "execution_count": null,
   "metadata": {},
   "outputs": [],
   "source": []
  },
  {
   "cell_type": "code",
   "execution_count": null,
   "metadata": {},
   "outputs": [],
   "source": []
  },
  {
   "cell_type": "code",
   "execution_count": null,
   "metadata": {},
   "outputs": [],
   "source": []
  },
  {
   "cell_type": "code",
   "execution_count": null,
   "metadata": {},
   "outputs": [],
   "source": []
  },
  {
   "cell_type": "code",
   "execution_count": null,
   "metadata": {},
   "outputs": [],
   "source": []
  },
  {
   "cell_type": "code",
   "execution_count": null,
   "metadata": {},
   "outputs": [],
   "source": []
  },
  {
   "cell_type": "code",
   "execution_count": null,
   "metadata": {},
   "outputs": [],
   "source": []
  },
  {
   "cell_type": "code",
   "execution_count": null,
   "metadata": {},
   "outputs": [],
   "source": []
  },
  {
   "cell_type": "code",
   "execution_count": null,
   "metadata": {},
   "outputs": [],
   "source": []
  },
  {
   "cell_type": "code",
   "execution_count": null,
   "metadata": {},
   "outputs": [],
   "source": []
  },
  {
   "cell_type": "code",
   "execution_count": null,
   "metadata": {},
   "outputs": [],
   "source": []
  },
  {
   "cell_type": "code",
   "execution_count": null,
   "metadata": {},
   "outputs": [],
   "source": []
  },
  {
   "cell_type": "code",
   "execution_count": null,
   "metadata": {},
   "outputs": [],
   "source": []
  },
  {
   "cell_type": "code",
   "execution_count": null,
   "metadata": {},
   "outputs": [],
   "source": []
  },
  {
   "cell_type": "code",
   "execution_count": null,
   "metadata": {},
   "outputs": [],
   "source": []
  },
  {
   "cell_type": "code",
   "execution_count": null,
   "metadata": {},
   "outputs": [],
   "source": []
  },
  {
   "cell_type": "code",
   "execution_count": null,
   "metadata": {},
   "outputs": [],
   "source": []
  },
  {
   "cell_type": "code",
   "execution_count": null,
   "metadata": {},
   "outputs": [],
   "source": []
  },
  {
   "cell_type": "code",
   "execution_count": null,
   "metadata": {},
   "outputs": [],
   "source": []
  },
  {
   "cell_type": "code",
   "execution_count": null,
   "metadata": {},
   "outputs": [],
   "source": []
  },
  {
   "cell_type": "code",
   "execution_count": null,
   "metadata": {},
   "outputs": [],
   "source": []
  },
  {
   "cell_type": "code",
   "execution_count": null,
   "metadata": {},
   "outputs": [],
   "source": []
  },
  {
   "cell_type": "code",
   "execution_count": null,
   "metadata": {},
   "outputs": [],
   "source": []
  },
  {
   "cell_type": "code",
   "execution_count": null,
   "metadata": {},
   "outputs": [],
   "source": []
  },
  {
   "cell_type": "code",
   "execution_count": null,
   "metadata": {},
   "outputs": [],
   "source": []
  }
 ],
 "metadata": {
  "kernelspec": {
   "display_name": "Python 3",
   "language": "python",
   "name": "python3"
  },
  "language_info": {
   "codemirror_mode": {
    "name": "ipython",
    "version": 3
   },
   "file_extension": ".py",
   "mimetype": "text/x-python",
   "name": "python",
   "nbconvert_exporter": "python",
   "pygments_lexer": "ipython3",
   "version": "3.7.3"
  }
 },
 "nbformat": 4,
 "nbformat_minor": 2
}
